{
 "cells": [
  {
   "cell_type": "code",
   "execution_count": 1,
   "id": "9bd9fc5d",
   "metadata": {},
   "outputs": [],
   "source": [
    "#Import packages\n",
    "import os\n",
    "os.chdir('..')\n",
    "import pandas as pd \n",
    "import matplotlib.pyplot as plt\n",
    "import seaborn as sns\n",
    "from util.dataloader import DataLoader\n",
    "from util.datasplitter import data_splitter\n",
    "from preprocessing.preprocessor import Preprocessor\n",
    "from evaluator import evaluate_classifier\n",
    "from preprocessing.fasttext_embeddings import FastTextEmbeddings\n",
    "from nltk import download\n",
    "from sklearn.linear_model import LogisticRegression\n",
    "import warnings\n",
    "warnings.filterwarnings('ignore')\n",
    "#Load linguistic resources \n",
    "download('stopwords',quiet=True)\n",
    "download('omw-1.4',quiet=True)\n",
    "download('punkt',quiet=True)\n",
    "download('wordnet',quiet=True);"
   ]
  },
  {
   "cell_type": "code",
   "execution_count": 2,
   "id": "77164e17",
   "metadata": {},
   "outputs": [],
   "source": [
    "#Load data : Here all emotion datasets\n",
    "dl = DataLoader(['emotion'])\n",
    "data = dl.load()"
   ]
  },
  {
   "cell_type": "code",
   "execution_count": 3,
   "id": "9525b260",
   "metadata": {},
   "outputs": [
    {
     "name": "stdout",
     "output_type": "stream",
     "text": [
      "dict_keys(['tweetEval', 'CARER', 'silicone'])\n",
      "dict_keys(['train', 'val', 'test'])\n"
     ]
    }
   ],
   "source": [
    "#Available datasets\n",
    "print(data.keys())\n",
    "#Available splits for the CARER dataset\n",
    "print(data['CARER'].keys())"
   ]
  },
  {
   "cell_type": "code",
   "execution_count": 4,
   "id": "f8c10b39",
   "metadata": {},
   "outputs": [
    {
     "data": {
      "text/html": [
       "<div>\n",
       "<style scoped>\n",
       "    .dataframe tbody tr th:only-of-type {\n",
       "        vertical-align: middle;\n",
       "    }\n",
       "\n",
       "    .dataframe tbody tr th {\n",
       "        vertical-align: top;\n",
       "    }\n",
       "\n",
       "    .dataframe thead th {\n",
       "        text-align: right;\n",
       "    }\n",
       "</style>\n",
       "<table border=\"1\" class=\"dataframe\">\n",
       "  <thead>\n",
       "    <tr style=\"text-align: right;\">\n",
       "      <th></th>\n",
       "      <th>label</th>\n",
       "      <th>text</th>\n",
       "    </tr>\n",
       "  </thead>\n",
       "  <tbody>\n",
       "    <tr>\n",
       "      <th>0</th>\n",
       "      <td>2</td>\n",
       "      <td>“Worry is a down payment on a problem you may ...</td>\n",
       "    </tr>\n",
       "    <tr>\n",
       "      <th>1</th>\n",
       "      <td>0</td>\n",
       "      <td>My roommate: it's okay that we can't spell bec...</td>\n",
       "    </tr>\n",
       "    <tr>\n",
       "      <th>2</th>\n",
       "      <td>1</td>\n",
       "      <td>No but that's so cute. Atsu was probably shy a...</td>\n",
       "    </tr>\n",
       "    <tr>\n",
       "      <th>3</th>\n",
       "      <td>0</td>\n",
       "      <td>Rooneys fucking untouchable isn't he? Been fuc...</td>\n",
       "    </tr>\n",
       "    <tr>\n",
       "      <th>4</th>\n",
       "      <td>3</td>\n",
       "      <td>it's pretty depressing when u hit pan on ur fa...</td>\n",
       "    </tr>\n",
       "  </tbody>\n",
       "</table>\n",
       "</div>"
      ],
      "text/plain": [
       "   label                                               text\n",
       "0      2  “Worry is a down payment on a problem you may ...\n",
       "1      0  My roommate: it's okay that we can't spell bec...\n",
       "2      1  No but that's so cute. Atsu was probably shy a...\n",
       "3      0  Rooneys fucking untouchable isn't he? Been fuc...\n",
       "4      3  it's pretty depressing when u hit pan on ur fa..."
      ]
     },
     "execution_count": 4,
     "metadata": {},
     "output_type": "execute_result"
    }
   ],
   "source": [
    "#Show first rows of the eval_emotion train set\n",
    "eval_emotion = data['tweetEval']\n",
    "eval_emotion['train'].head()"
   ]
  },
  {
   "cell_type": "code",
   "execution_count": 5,
   "id": "df9a91f0",
   "metadata": {},
   "outputs": [
    {
     "name": "stdout",
     "output_type": "stream",
     "text": [
      "3257 rows preprocessed in 3.541175365447998 seconds\n",
      "1421 rows preprocessed in 0.4691004753112793 seconds\n",
      "374 rows preprocessed in 0.13224172592163086 seconds\n"
     ]
    }
   ],
   "source": [
    "#Initialize preprocessors\n",
    "preprocessor = Preprocessor() #Preprocessor for standard text\n",
    "tweet_preprocessor = Preprocessor(is_tweet=True) #Preprocessor for tweets\n",
    "#Split the data into train, val, and test sets\n",
    "train_emo, val_emo, test_emo = data_splitter(data['tweetEval'],\n",
    "                                             tweet_preprocessor,  #Eval Emotion is a tweet dataset\n",
    "                                             create_val_set=True,\n",
    "                                             random_state=42)"
   ]
  },
  {
   "cell_type": "code",
   "execution_count": 6,
   "id": "03a01d68",
   "metadata": {},
   "outputs": [
    {
     "name": "stdout",
     "output_type": "stream",
     "text": [
      "Wall time: 45 s\n"
     ]
    },
    {
     "name": "stderr",
     "output_type": "stream",
     "text": [
      "Warning : `load_model` does not return WordVectorModel or SupervisedModel any more, but a `FastText` object which is very similar.\n"
     ]
    }
   ],
   "source": [
    "%%time\n",
    "#Load fasttext \n",
    "fasttext = FastTextEmbeddings()\n",
    "fasttext.load_model('fasttext/cc.en.300.bin')"
   ]
  },
  {
   "cell_type": "code",
   "execution_count": 7,
   "id": "7c635445",
   "metadata": {
    "scrolled": true
   },
   "outputs": [
    {
     "name": "stdout",
     "output_type": "stream",
     "text": [
      "Starting to generate sentence embeddings\n"
     ]
    },
    {
     "name": "stderr",
     "output_type": "stream",
     "text": [
      "100%|█████████████████████████████████████████████████████████████████████████████| 3257/3257 [00:06<00:00, 504.33it/s]\n"
     ]
    },
    {
     "name": "stdout",
     "output_type": "stream",
     "text": [
      "Starting to generate sentence embeddings\n"
     ]
    },
    {
     "name": "stderr",
     "output_type": "stream",
     "text": [
      "100%|█████████████████████████████████████████████████████████████████████████████| 1421/1421 [00:02<00:00, 512.37it/s]\n"
     ]
    }
   ],
   "source": [
    "embedded_train_emo = fasttext.generate_sentence_embeddings(train_emo['text'])\n",
    "embedded_test_emo = fasttext.generate_sentence_embeddings(test_emo['text'])\n",
    "embedded_train_emo['label'] = train_emo['label'].to_list()\n",
    "embedded_test_emo['label'] = test_emo['label'].to_list()"
   ]
  },
  {
   "cell_type": "code",
   "execution_count": 8,
   "id": "8869ee52",
   "metadata": {},
   "outputs": [],
   "source": [
    "if not os.path.isdir('models'):\n",
    "    os.makedirs('models')\n",
    "#Evaluate with a simple logistic regression\n",
    "metrics_emo_tfidf, preds_emo_tfidf = evaluate_classifier(LogisticRegression(),train_emo,test_emo,\n",
    "                                  save_model=True,model_path='models/lr_tfidf_emo.sav')\n",
    "metrics_emo_ft, preds_emo_ft = evaluate_classifier(LogisticRegression(),embedded_train_emo,embedded_test_emo, \n",
    "                                     tfidf=False, #Set tf-idf to false if working with fasttext embeddings\n",
    "                                     save_model=True,model_path='models/lr_ft_emo.sav')"
   ]
  },
  {
   "cell_type": "code",
   "execution_count": 9,
   "id": "5119fcf4",
   "metadata": {},
   "outputs": [
    {
     "name": "stdout",
     "output_type": "stream",
     "text": [
      "{'Accuracy': 0.657283603096411, 'Macro F1': 0.5540542096195904, 'AUC PC': '-', 'AUC ROC': '-'}\n"
     ]
    }
   ],
   "source": [
    "print(metrics_emo_tfidf)"
   ]
  }
 ],
 "metadata": {
  "kernelspec": {
   "display_name": "Python 3 (ipykernel)",
   "language": "python",
   "name": "python3"
  },
  "language_info": {
   "codemirror_mode": {
    "name": "ipython",
    "version": 3
   },
   "file_extension": ".py",
   "mimetype": "text/x-python",
   "name": "python",
   "nbconvert_exporter": "python",
   "pygments_lexer": "ipython3",
   "version": "3.7.13"
  }
 },
 "nbformat": 4,
 "nbformat_minor": 5
}
