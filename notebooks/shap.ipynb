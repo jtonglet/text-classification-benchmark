{
 "cells": [
  {
   "cell_type": "markdown",
   "id": "1362d1a5",
   "metadata": {},
   "source": [
    "## Example SHAP notebook"
   ]
  },
  {
   "cell_type": "code",
   "execution_count": 1,
   "id": "b2c843b7",
   "metadata": {},
   "outputs": [],
   "source": [
    "import os \n",
    "os.chdir('..') #Move back to the project root directory"
   ]
  },
  {
   "cell_type": "code",
   "execution_count": 10,
   "id": "74e87a96",
   "metadata": {},
   "outputs": [],
   "source": [
    "from tqdm import tqdm\n",
    "import pandas as pd\n",
    "import matplotlib.pyplot as plt\n",
    "import pickle\n",
    "from preprocessing.preprocessor import Preprocessor\n",
    "from util.dataloader import DataLoader\n",
    "from util.datasplitter import data_splitter\n",
    "from sklearn.feature_extraction.text import TfidfVectorizer\n",
    "import shap\n",
    "#set seed\n",
    "SEED = 42"
   ]
  },
  {
   "cell_type": "code",
   "execution_count": 5,
   "id": "5132a1db",
   "metadata": {},
   "outputs": [],
   "source": [
    "#Load a model : e.g. logistic regression with tfidf for tweetEval emotion from example_notebook.ipynb\n",
    "loaded_model = pickle.load(open('models/lr_tfidf_emo.sav','rb'))\n",
    "#Load data \n",
    "dl = DataLoader(['emotion'])\n",
    "data = dl.load()['tweetEval']"
   ]
  },
  {
   "cell_type": "code",
   "execution_count": 8,
   "id": "bf693e5b",
   "metadata": {},
   "outputs": [],
   "source": [
    "#Initialize preprocessors\n",
    "preprocessor = Preprocessor() #Preprocessor for standard text\n",
    "tweet_preprocessor = Preprocessor(is_tweet=True) #Preprocessor for tweets\n",
    "train, _ , test = data_splitter(data, tweet_preprocessor,create_val_set=True,seed=SEED)"
   ]
  },
  {
   "cell_type": "code",
   "execution_count": 13,
   "id": "971d2148",
   "metadata": {},
   "outputs": [],
   "source": [
    "#Prepare the data\n",
    "vec = TfidfVectorizer()\n",
    "y_train = train.pop('label')\n",
    "y_test = test.pop('label')\n",
    "X_train = vec.fit_transform(train['text'])\n",
    "X_test = vec.transform(test['text'])"
   ]
  },
  {
   "cell_type": "code",
   "execution_count": null,
   "id": "9fcd5973",
   "metadata": {},
   "outputs": [],
   "source": [
    "explainer = shap.LinearExplainer(loaded_model,\n",
    "                                 X_train,\n",
    "                                 feature_dependence=\"interventional\") #Maybe another explainer is needed and other parameters\n",
    "shap_values = explainer.shap_values(X_test)"
   ]
  },
  {
   "cell_type": "code",
   "execution_count": null,
   "id": "41d5c7d7",
   "metadata": {},
   "outputs": [],
   "source": [
    "plt = shap.summary_plot(shap_values,\n",
    "                        feature_names=vec.get_feature_names(),\n",
    "                        class_names = ['anger','joy','optimism','sadness'])"
   ]
  }
 ],
 "metadata": {
  "kernelspec": {
   "display_name": "Python 3 (ipykernel)",
   "language": "python",
   "name": "python3"
  },
  "language_info": {
   "codemirror_mode": {
    "name": "ipython",
    "version": 3
   },
   "file_extension": ".py",
   "mimetype": "text/x-python",
   "name": "python",
   "nbconvert_exporter": "python",
   "pygments_lexer": "ipython3",
   "version": "3.7.13"
  }
 },
 "nbformat": 4,
 "nbformat_minor": 5
}
