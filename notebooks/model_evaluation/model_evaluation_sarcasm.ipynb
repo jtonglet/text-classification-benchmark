{
 "cells": [
  {
   "cell_type": "markdown",
   "id": "23be66a5",
   "metadata": {},
   "source": [
    "## Set Up"
   ]
  },
  {
   "cell_type": "code",
   "execution_count": 1,
   "id": "9bd9fc5d",
   "metadata": {},
   "outputs": [
    {
     "data": {
      "text/plain": [
       "True"
      ]
     },
     "execution_count": 1,
     "metadata": {},
     "output_type": "execute_result"
    }
   ],
   "source": [
    "import os\n",
    "os.chdir('../..')\n",
    "import warnings\n",
    "warnings.filterwarnings('ignore')\n",
    "import pandas as pd\n",
    "import matplotlib.pyplot as plt\n",
    "import seaborn as sns\n",
    "from util.dataloader import DataLoader\n",
    "from util.datasplitter import data_splitter\n",
    "from preprocessing.preprocessor import Preprocessor\n",
    "from preprocessing.fasttext_embeddings import FastTextEmbeddings\n",
    "from evaluator import evaluate_classifier, get_summary_dataset\n",
    "from nltk import download\n",
    "#Classifiers\n",
    "from sklearn.linear_model import LogisticRegression\n",
    "from sklearn.ensemble import RandomForestClassifier\n",
    "from sklearn.svm import SVC\n",
    "from xgboost import XGBClassifier\n",
    "\n",
    "#Load linguistic resources\n",
    "download('stopwords', quiet=True)\n",
    "download('omw-1.4', quiet=True)\n",
    "download('punkt', quiet=True)\n",
    "download('wordnet', quiet=True)"
   ]
  },
  {
   "cell_type": "code",
   "execution_count": 2,
   "id": "268bbad4",
   "metadata": {},
   "outputs": [],
   "source": [
    "SEED = 42"
   ]
  },
  {
   "cell_type": "markdown",
   "id": "b7256eb2",
   "metadata": {},
   "source": [
    "## Prepare data"
   ]
  },
  {
   "cell_type": "code",
   "execution_count": 3,
   "id": "77164e17",
   "metadata": {},
   "outputs": [
    {
     "name": "stderr",
     "output_type": "stream",
     "text": [
      "100%|███████████████████████████████████████████████████████████████████████████████| 624/624 [00:05<00:00, 119.02it/s]\n",
      "100%|███████████████████████████████████████████████████████████████████████████████| 432/432 [00:03<00:00, 119.87it/s]\n",
      "100%|███████████████████████████████████████████████████████████████████████████| 13267/13267 [00:43<00:00, 306.55it/s]\n",
      "100%|█████████████████████████████████████████████████████████████████████████████| 5323/5323 [00:06<00:00, 835.35it/s]\n"
     ]
    }
   ],
   "source": [
    "#Load data \n",
    "dl = DataLoader(['fake_news'])\n",
    "data = dl.load()"
   ]
  },
  {
   "cell_type": "code",
   "execution_count": 4,
   "id": "6e0850f3",
   "metadata": {},
   "outputs": [],
   "source": [
    "#Initialize preprocessors\n",
    "preprocessor = Preprocessor() #Preprocessor for standard text\n",
    "tweet_preprocessor = Preprocessor(is_tweet=True) #Preprocessor for tweets"
   ]
  },
  {
   "cell_type": "code",
   "execution_count": 5,
   "id": "df9a91f0",
   "metadata": {},
   "outputs": [
    {
     "name": "stdout",
     "output_type": "stream",
     "text": [
      "1056 rows preprocessed in 12.166864156723022 seconds\n",
      "10269 rows preprocessed in 2.6843976974487305 seconds\n",
      "1283 rows preprocessed in 0.31337594985961914 seconds\n",
      "1284 rows preprocessed in 0.30694580078125 seconds\n"
     ]
    }
   ],
   "source": [
    "train_politifact, _ , test_politifact = data_splitter(data['politifact'],\n",
    "                                                     preprocessor,\n",
    "                                                     create_val_set=True,\n",
    "                                                     seed=SEED)\n",
    "# train_gossipcop, _ , test_gossipcop = data_splitter(data['gossipcop'],\n",
    "#                                                      preprocessor,\n",
    "#                                                      create_val_set=True,\n",
    "#                                                      seed=SEED)\n",
    "train_liar, _ , test_liar = data_splitter(data['liar'],\n",
    "                                                     preprocessor,\n",
    "                                                     create_val_set=True,\n",
    "                                                     seed=SEED)"
   ]
  },
  {
   "cell_type": "code",
   "execution_count": 6,
   "id": "03095c8e",
   "metadata": {},
   "outputs": [
    {
     "name": "stdout",
     "output_type": "stream",
     "text": [
      "Wall time: 38.9 s\n"
     ]
    },
    {
     "name": "stderr",
     "output_type": "stream",
     "text": [
      "Warning : `load_model` does not return WordVectorModel or SupervisedModel any more, but a `FastText` object which is very similar.\n"
     ]
    }
   ],
   "source": [
    "%%time\n",
    "#Load fasttext \n",
    "fasttext = FastTextEmbeddings()\n",
    "fasttext.load_model('fasttext/cc.en.300.bin')"
   ]
  },
  {
   "cell_type": "code",
   "execution_count": 7,
   "id": "6a5952cf",
   "metadata": {
    "scrolled": true
   },
   "outputs": [
    {
     "name": "stdout",
     "output_type": "stream",
     "text": [
      "starting to generate sentence embeddings\n"
     ]
    },
    {
     "name": "stderr",
     "output_type": "stream",
     "text": [
      "100%|████████████████████████████████████████████████████████████████████████████████| 675/675 [00:31<00:00, 21.28it/s]\n"
     ]
    },
    {
     "name": "stdout",
     "output_type": "stream",
     "text": [
      "starting to generate sentence embeddings\n"
     ]
    },
    {
     "name": "stderr",
     "output_type": "stream",
     "text": [
      "100%|████████████████████████████████████████████████████████████████████████████████| 212/212 [00:10<00:00, 20.92it/s]\n"
     ]
    },
    {
     "name": "stdout",
     "output_type": "stream",
     "text": [
      "starting to generate sentence embeddings\n"
     ]
    },
    {
     "name": "stderr",
     "output_type": "stream",
     "text": [
      "100%|███████████████████████████████████████████████████████████████████████████| 10269/10269 [00:17<00:00, 589.76it/s]\n"
     ]
    },
    {
     "name": "stdout",
     "output_type": "stream",
     "text": [
      "starting to generate sentence embeddings\n"
     ]
    },
    {
     "name": "stderr",
     "output_type": "stream",
     "text": [
      "100%|█████████████████████████████████████████████████████████████████████████████| 1283/1283 [00:05<00:00, 225.73it/s]\n"
     ]
    }
   ],
   "source": [
    "#Generate embeddings\n",
    "embedded_train_politifact = fasttext.generate_sentence_embeddings(train_politifact['text'])\n",
    "embedded_test_politifact = fasttext.generate_sentence_embeddings(test_politifact['text'])\n",
    "embedded_train_politifact['label'] = train_politifact['label'].to_list()\n",
    "embedded_test_politifact['label'] = test_politifact['label'].to_list()\n",
    "# embedded_train_gossipcop = fasttext.generate_sentence_embeddings(train_gossipcop['text'])\n",
    "# embedded_test_gossipcop = fasttext.generate_sentence_embeddings(test_gossipcop['text'])\n",
    "# embedded_train_gossipcop['label'] = train_gossipcop['label'].to_list()\n",
    "# embedded_test_gossipcop['label'] = test_gossipcop['label'].to_list()\n",
    "embedded_train_liar = fasttext.generate_sentence_embeddings(train_liar['text'])\n",
    "embedded_test_liar = fasttext.generate_sentence_embeddings(test_liar['text'])\n",
    "embedded_train_liar['label'] = train_liar['label'].to_list()\n",
    "embedded_test_liar['label'] = test_liar['label'].to_list()"
   ]
  },
  {
   "cell_type": "markdown",
   "id": "4113c724",
   "metadata": {},
   "source": [
    "## Evaluate\n",
    "\n",
    "Note : fillna(0) is used when the text is represented by an empty string and its fasttext vector is therefore undefined.\n",
    "Should we change that?"
   ]
  },
  {
   "cell_type": "markdown",
   "id": "3d7cc7f3",
   "metadata": {},
   "source": [
    "## Save data"
   ]
  },
  {
   "cell_type": "code",
   "execution_count": 10,
   "id": "d0455432",
   "metadata": {},
   "outputs": [
    {
     "data": {
      "text/plain": [
       "(   tfidf_lr     ft_lr  tfidf_rf     ft_rf\n",
       " 0  0.830189  0.830189  0.858491  0.849057\n",
       " 1  0.794839  0.808048  0.836336  0.831746\n",
       " 2  0.946790  0.904190  0.926944  0.910286\n",
       " 3  0.928148  0.873039  0.901933  0.880884,\n",
       "       label  tfidf_lr  ft_lr  tfidf_rf  ft_rf\n",
       " 260       1         1      1         1      1\n",
       " 832       0         0      1         0      1\n",
       " 846       0         0      0         0      0\n",
       " 1007      0         1      1         1      1\n",
       " 88        1         1      1         1      1\n",
       " ...     ...       ...    ...       ...    ...\n",
       " 72        1         1      1         1      1\n",
       " 872       0         0      0         0      0\n",
       " 44        1         1      1         1      1\n",
       " 305       1         1      1         1      1\n",
       " 321       1         1      1         1      1\n",
       " \n",
       " [212 rows x 5 columns])"
      ]
     },
     "execution_count": 10,
     "metadata": {},
     "output_type": "execute_result"
    }
   ],
   "source": [
    "models_politifact = {'tfidf_lr':LogisticRegression(C=3.7,random_state=SEED),\n",
    "                     'ft_lr':LogisticRegression(C=9.626,random_state=SEED),\n",
    "                     'tfidf_rf':RandomForestClassifier(random_state=SEED),\n",
    "                     'ft_rf':RandomForestClassifier(random_state=SEED)}\n",
    "models_gossipcop = {'tfidf_lr':LogisticRegression(C=8.959,random_state=SEED),\n",
    "                     'ft_lr':LogisticRegression(C=7.346,random_state=SEED),\n",
    "                     'tfidf_rf':RandomForestClassifier(random_state=SEED),\n",
    "                     'ft_rf':RandomForestClassifier(random_state=SEED)}\n",
    "models_liar = {'tfidf_lr':LogisticRegression(C=4.376,random_state=SEED),\n",
    "                     'ft_lr':LogisticRegression(C=7.82,random_state=SEED),\n",
    "                     'tfidf_rf':RandomForestClassifier(random_state=SEED),\n",
    "                     'ft_rf':RandomForestClassifier(random_state=SEED)}\n",
    "\n",
    "\n",
    "_, _ = get_summary_dataset('politifact',train_politifact,test_politifact,\n",
    "                           embedded_train_politifact,embedded_test_politifact,models_politifact)\n",
    "_, _ = get_summary_dataset('gossipcop',train_gossipcop,test_gossipcop,\n",
    "                           embedded_train_gossipcop,embedded_test_gossipcop,models_gossipcop)\n",
    "_, _ = get_summary_dataset('liar',train_liar,test_liar,\n",
    "                           embedded_train_liar,embedded_test_liar,models_liar)"
   ]
  }
 ],
 "metadata": {
  "kernelspec": {
   "display_name": "Python 3 (ipykernel)",
   "language": "python",
   "name": "python3"
  },
  "language_info": {
   "codemirror_mode": {
    "name": "ipython",
    "version": 3
   },
   "file_extension": ".py",
   "mimetype": "text/x-python",
   "name": "python",
   "nbconvert_exporter": "python",
   "pygments_lexer": "ipython3",
   "version": "3.7.13"
  }
 },
 "nbformat": 4,
 "nbformat_minor": 5
}
