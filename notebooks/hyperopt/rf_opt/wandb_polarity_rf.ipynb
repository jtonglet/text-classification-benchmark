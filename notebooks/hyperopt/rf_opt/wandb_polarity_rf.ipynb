{
 "cells": [
  {
   "cell_type": "code",
   "execution_count": 1,
   "id": "a0b247f3",
   "metadata": {},
   "outputs": [
    {
     "name": "stderr",
     "output_type": "stream",
     "text": [
      "Failed to detect the name of this notebook, you can set it manually with the WANDB_NOTEBOOK_NAME environment variable to enable code saving.\n",
      "\u001b[34m\u001b[1mwandb\u001b[0m: Currently logged in as: \u001b[33mjtonglet\u001b[0m (\u001b[33mbenchmark-nlp\u001b[0m). Use \u001b[1m`wandb login --relogin`\u001b[0m to force relogin\n"
     ]
    },
    {
     "data": {
      "text/html": [
       "wandb version 0.13.4 is available!  To upgrade, please run:\n",
       " $ pip install wandb --upgrade"
      ],
      "text/plain": [
       "<IPython.core.display.HTML object>"
      ]
     },
     "metadata": {},
     "output_type": "display_data"
    },
    {
     "data": {
      "text/html": [
       "Tracking run with wandb version 0.12.21"
      ],
      "text/plain": [
       "<IPython.core.display.HTML object>"
      ]
     },
     "metadata": {},
     "output_type": "display_data"
    },
    {
     "data": {
      "text/html": [
       "Run data is saved locally in <code>C:\\Users\\Saiga\\Documents\\NotebooksJupyter\\text_classification_benchmark\\notebooks\\hyperopt\\rf_opt\\wandb\\run-20221011_124339-3blmtzx8</code>"
      ],
      "text/plain": [
       "<IPython.core.display.HTML object>"
      ]
     },
     "metadata": {},
     "output_type": "display_data"
    },
    {
     "data": {
      "text/html": [
       "Syncing run <strong><a href=\"https://wandb.ai/benchmark-nlp/hyperopt/runs/3blmtzx8\" target=\"_blank\">polarity datasets rf</a></strong> to <a href=\"https://wandb.ai/benchmark-nlp/hyperopt\" target=\"_blank\">Weights & Biases</a> (<a href=\"https://wandb.me/run\" target=\"_blank\">docs</a>)<br/>"
      ],
      "text/plain": [
       "<IPython.core.display.HTML object>"
      ]
     },
     "metadata": {},
     "output_type": "display_data"
    },
    {
     "data": {
      "text/html": [
       "<button onClick=\"this.nextSibling.style.display='block';this.style.display='none';\">Display W&B run</button><iframe src=\"https://wandb.ai/benchmark-nlp/hyperopt/runs/3blmtzx8?jupyter=true\" style=\"border:none;width:100%;height:420px;display:none;\"></iframe>"
      ],
      "text/plain": [
       "<wandb.sdk.wandb_run.Run at 0x1a5c07438e0>"
      ]
     },
     "execution_count": 1,
     "metadata": {},
     "output_type": "execute_result"
    }
   ],
   "source": [
    "#Connect to wandb\n",
    "#TO DO : how to save models on the weight and bias platform\n",
    "from collections.abc import MutableMapping\n",
    "\n",
    "import wandb\n",
    "wandb.login()\n",
    "wandb.init(project=\"hyperopt\", \n",
    "           entity=\"benchmark-nlp\",\n",
    "           name='polarity datasets rf') #CHANGE"
   ]
  },
  {
   "cell_type": "code",
   "execution_count": 2,
   "id": "a35f02e4",
   "metadata": {},
   "outputs": [],
   "source": [
    "import os \n",
    "os.chdir('../../..')"
   ]
  },
  {
   "cell_type": "code",
   "execution_count": 3,
   "id": "5f333de6",
   "metadata": {},
   "outputs": [],
   "source": [
    "#Load packages\n",
    "import warnings\n",
    "import io\n",
    "import numpy as np\n",
    "import pandas as pd\n",
    "from codecarbon import EmissionsTracker\n",
    "import yaml\n",
    "from util.dataloader import DataLoader\n",
    "from preprocessing.preprocessor import Preprocessor\n",
    "from util.datasplitter import data_splitter\n",
    "from preprocessing.fasttext_embeddings import FastTextEmbeddings\n",
    "from sklearn.feature_extraction.text import TfidfVectorizer\n",
    "from sklearn.ensemble import RandomForestClassifier\n",
    "from sklearn.pipeline import Pipeline\n",
    "from sklearn.metrics import accuracy_score, f1_score, roc_auc_score, average_precision_score\n",
    "warnings.filterwarnings(\"ignore\")"
   ]
  },
  {
   "cell_type": "code",
   "execution_count": 4,
   "id": "d0b20476",
   "metadata": {},
   "outputs": [],
   "source": [
    "#Set constant values\n",
    "SEED=42 \n",
    "OPT_ITER=10"
   ]
  },
  {
   "cell_type": "markdown",
   "id": "0a2564a2",
   "metadata": {},
   "source": [
    "## Load data"
   ]
  },
  {
   "cell_type": "code",
   "execution_count": 5,
   "id": "0b411fcf",
   "metadata": {},
   "outputs": [
    {
     "name": "stdout",
     "output_type": "stream",
     "text": [
      "112000 rows preprocessed in 153.40699648857117 seconds\n",
      "7600 rows preprocessed in 11.952985286712646 seconds\n"
     ]
    }
   ],
   "source": [
    "dl = DataLoader(['polarity'])\n",
    "data = dl.load()\n",
    "\n",
    "\n",
    "tweet_preprocessor = Preprocessor(is_tweet=True)\n",
    "preprocessor = Preprocessor()\n",
    "\n",
    "data['yelp']['train'] = data['yelp']['train'].sample(frac=0.2,random_state=SEED).reset_index(drop=True)\n",
    "data['yelp']['test'] = data['yelp']['test'].sample(frac=0.2,random_state=SEED).reset_index(drop=True)\n",
    "#We are not interested in the test sets for hyperparameter optimization\n",
    "train_imdb, val_imdb, _ = data_splitter(data['imdb'],\n",
    "                                 preprocessor, \n",
    "                                 create_val_set=True,   #No validation set is provided\n",
    "                                 seed=SEED)\n",
    "train_yelp, val_yelp, _ = data_splitter(data['yelp'],\n",
    "                                 preprocessor, \n",
    "                                 create_val_set=True,   #No validation set is provided\n",
    "                                 seed=SEED)\n",
    "train_sst2, val_sst2, _ = data_splitter(data['sst2'],\n",
    "                                 preprocessor, \n",
    "                                 create_val_set=True,   #No validation set is provided\n",
    "                                 seed=SEED)"
   ]
  },
  {
   "cell_type": "code",
   "execution_count": 6,
   "id": "010d1fd6",
   "metadata": {},
   "outputs": [
    {
     "name": "stdout",
     "output_type": "stream",
     "text": [
      "CPU times: total: 37.4 s\n",
      "Wall time: 1min 5s\n"
     ]
    },
    {
     "name": "stderr",
     "output_type": "stream",
     "text": [
      "Warning : `load_model` does not return WordVectorModel or SupervisedModel any more, but a `FastText` object which is very similar.\n"
     ]
    }
   ],
   "source": [
    "%%time\n",
    "#fasttext \n",
    "fasttext = FastTextEmbeddings()\n",
    "fasttext.load_model('fasttext/cc.en.300.bin')"
   ]
  },
  {
   "cell_type": "code",
   "execution_count": 7,
   "id": "02866a82",
   "metadata": {},
   "outputs": [],
   "source": [
    "embedded_train_imdb = fasttext.generate_sentence_embeddings(train_imdb['text'])\n",
    "embedded_val_imdb = fasttext.generate_sentence_embeddings(val_imdb['text'])\n",
    "embedded_train_imdb['label'] = train_imdb['label'].to_list()\n",
    "embedded_val_imdb['label'] = val_imdb['label'].to_list()"
   ]
  },
  {
   "cell_type": "code",
   "execution_count": 8,
   "id": "fa8081fd",
   "metadata": {},
   "outputs": [
    {
     "name": "stdout",
     "output_type": "stream",
     "text": [
      "Starting to generate sentence embeddings\n"
     ]
    },
    {
     "name": "stderr",
     "output_type": "stream",
     "text": [
      "100%|█████████████████████████████████████████████████████████████████████████| 448000/448000 [40:43<00:00, 183.35it/s]\n"
     ]
    },
    {
     "name": "stdout",
     "output_type": "stream",
     "text": [
      "Starting to generate sentence embeddings\n"
     ]
    },
    {
     "name": "stderr",
     "output_type": "stream",
     "text": [
      "100%|█████████████████████████████████████████████████████████████████████████| 112000/112000 [09:56<00:00, 187.82it/s]\n"
     ]
    }
   ],
   "source": [
    "embedded_train_yelp = fasttext.generate_sentence_embeddings(train_yelp['text'])\n",
    "embedded_val_yelp = fasttext.generate_sentence_embeddings(val_yelp['text'])\n",
    "embedded_train_yelp['label'] = train_yelp['label'].to_list()\n",
    "embedded_val_yelp['label'] = val_yelp['label'].to_list()"
   ]
  },
  {
   "cell_type": "code",
   "execution_count": 7,
   "id": "72d0c50c",
   "metadata": {},
   "outputs": [
    {
     "name": "stdout",
     "output_type": "stream",
     "text": [
      "Starting to generate sentence embeddings\n"
     ]
    },
    {
     "name": "stderr",
     "output_type": "stream",
     "text": [
      "100%|███████████████████████████████████████████████████████████████████████████| 67349/67349 [01:34<00:00, 710.64it/s]\n"
     ]
    },
    {
     "name": "stdout",
     "output_type": "stream",
     "text": [
      "Starting to generate sentence embeddings\n"
     ]
    },
    {
     "name": "stderr",
     "output_type": "stream",
     "text": [
      "100%|███████████████████████████████████████████████████████████████████████████████| 872/872 [00:01<00:00, 445.54it/s]\n"
     ]
    }
   ],
   "source": [
    "embedded_train_sst2 = fasttext.generate_sentence_embeddings(train_sst2['text'])\n",
    "embedded_val_sst2= fasttext.generate_sentence_embeddings(val_sst2['text'])\n",
    "embedded_train_sst2['label'] = train_sst2['label'].to_list()\n",
    "embedded_val_sst2['label'] = val_sst2['label'].to_list()"
   ]
  },
  {
   "cell_type": "markdown",
   "id": "b151bc98",
   "metadata": {},
   "source": [
    "## Hyperopt"
   ]
  },
  {
   "cell_type": "code",
   "execution_count": 8,
   "id": "224ad24b",
   "metadata": {},
   "outputs": [],
   "source": [
    "import yaml\n",
    "#Load the template yaml sweep config file for logistic regression\n",
    "#If the value range for an hyperparameter needs to be changed, better to do it in the .yaml file than in a notebook\n",
    "with open(\"config/rf_sweep.yaml\", 'r') as stream:\n",
    "    sweep_config = yaml.safe_load(stream)"
   ]
  },
  {
   "cell_type": "code",
   "execution_count": 9,
   "id": "114df105",
   "metadata": {},
   "outputs": [
    {
     "data": {
      "text/plain": [
       "{'method': 'random',\n",
       " 'entity': 'benchmark-nlp',\n",
       " 'project': 'hyperopt',\n",
       " 'metric': {'name': 'loss', 'goal': 'minimize'},\n",
       " 'parameters': {'n_estimators': {'min': 10,\n",
       "   'max': 200,\n",
       "   'distribution': 'int_uniform'},\n",
       "  'max_features': {'values': ['log2', 'sqrt']},\n",
       "  'random_state': {'value': 42}}}"
      ]
     },
     "execution_count": 9,
     "metadata": {},
     "output_type": "execute_result"
    }
   ],
   "source": [
    "#The config is displayed as a nested dictionary. Check that it is the correct dictionary\n",
    "sweep_config"
   ]
  },
  {
   "cell_type": "markdown",
   "id": "d9f1c508",
   "metadata": {},
   "source": [
    "#### imdb"
   ]
  },
  {
   "cell_type": "code",
   "execution_count": 12,
   "id": "9636bd33",
   "metadata": {
    "scrolled": true
   },
   "outputs": [
    {
     "name": "stdout",
     "output_type": "stream",
     "text": [
      "Create sweep with ID: 63v1pz8z\n",
      "Sweep URL: https://wandb.ai/benchmark-nlp/hyperopt/sweeps/63v1pz8z\n"
     ]
    },
    {
     "name": "stderr",
     "output_type": "stream",
     "text": [
      "[codecarbon WARNING @ 15:29:34] No CPU tracking mode found. Falling back on CPU constant mode.\n",
      "[codecarbon WARNING @ 15:29:38] We saw that you have a Intel(R) Core(TM) i5-7200U CPU @ 2.50GHz but we don't know it. Please contact us.\n",
      "\u001b[34m\u001b[1mwandb\u001b[0m: \u001b[33mWARNING\u001b[0m Calling wandb.login() after wandb.init() has no effect.\n",
      "\u001b[34m\u001b[1mwandb\u001b[0m: Agent Starting Run: mk7qk5n4 with config:\n",
      "\u001b[34m\u001b[1mwandb\u001b[0m: \tmax_features: log2\n",
      "\u001b[34m\u001b[1mwandb\u001b[0m: \tn_estimators: 155\n",
      "\u001b[34m\u001b[1mwandb\u001b[0m: \trandom_state: 42\n"
     ]
    },
    {
     "data": {
      "text/html": [
       "wandb version 0.13.1 is available!  To upgrade, please run:\n",
       " $ pip install wandb --upgrade"
      ],
      "text/plain": [
       "<IPython.core.display.HTML object>"
      ]
     },
     "metadata": {},
     "output_type": "display_data"
    },
    {
     "data": {
      "text/html": [
       "Tracking run with wandb version 0.12.21"
      ],
      "text/plain": [
       "<IPython.core.display.HTML object>"
      ]
     },
     "metadata": {},
     "output_type": "display_data"
    },
    {
     "data": {
      "text/html": [
       "Run data is saved locally in <code>C:\\Users\\Saiga\\Documents\\NotebooksJupyter\\text_classification_benchmark\\wandb\\run-20220821_152942-mk7qk5n4</code>"
      ],
      "text/plain": [
       "<IPython.core.display.HTML object>"
      ]
     },
     "metadata": {},
     "output_type": "display_data"
    },
    {
     "data": {
      "text/html": [
       "Syncing run <strong><a href=\"https://wandb.ai/benchmark-nlp/hyperopt/runs/mk7qk5n4\" target=\"_blank\">devoted-sweep-1</a></strong> to <a href=\"https://wandb.ai/benchmark-nlp/hyperopt\" target=\"_blank\">Weights & Biases</a> (<a href=\"https://wandb.me/run\" target=\"_blank\">docs</a>)<br/>Sweep page:  <a href=\"https://wandb.ai/benchmark-nlp/hyperopt/sweeps/63v1pz8z\" target=\"_blank\">https://wandb.ai/benchmark-nlp/hyperopt/sweeps/63v1pz8z</a>"
      ],
      "text/plain": [
       "<IPython.core.display.HTML object>"
      ]
     },
     "metadata": {},
     "output_type": "display_data"
    },
    {
     "data": {
      "text/html": [
       "Waiting for W&B process to finish... <strong style=\"color:green\">(success).</strong>"
      ],
      "text/plain": [
       "<IPython.core.display.HTML object>"
      ]
     },
     "metadata": {},
     "output_type": "display_data"
    },
    {
     "data": {
      "text/html": [
       "<style>\n",
       "    table.wandb td:nth-child(1) { padding: 0 10px; text-align: left ; width: auto;} td:nth-child(2) {text-align: left ; width: 100%}\n",
       "    .wandb-row { display: flex; flex-direction: row; flex-wrap: wrap; justify-content: flex-start; width: 100% }\n",
       "    .wandb-col { display: flex; flex-direction: column; flex-basis: 100%; flex: 1; padding: 10px; }\n",
       "    </style>\n",
       "<div class=\"wandb-row\"><div class=\"wandb-col\"><h3>Run history:</h3><br/><table class=\"wandb\"><tr><td>AUC</td><td>▁</td></tr><tr><td>AUC-PC</td><td>▁</td></tr><tr><td>accuracy</td><td>▁</td></tr><tr><td>f1 macro</td><td>▁</td></tr></table><br/></div><div class=\"wandb-col\"><h3>Run summary:</h3><br/><table class=\"wandb\"><tr><td>AUC</td><td>0.9223</td></tr><tr><td>AUC-PC</td><td>0.91708</td></tr><tr><td>accuracy</td><td>0.841</td></tr><tr><td>f1 macro</td><td>0.84093</td></tr></table><br/></div></div>"
      ],
      "text/plain": [
       "<IPython.core.display.HTML object>"
      ]
     },
     "metadata": {},
     "output_type": "display_data"
    },
    {
     "data": {
      "text/html": [
       "Synced <strong style=\"color:#cdcd00\">devoted-sweep-1</strong>: <a href=\"https://wandb.ai/benchmark-nlp/hyperopt/runs/mk7qk5n4\" target=\"_blank\">https://wandb.ai/benchmark-nlp/hyperopt/runs/mk7qk5n4</a><br/>Synced 5 W&B file(s), 0 media file(s), 0 artifact file(s) and 0 other file(s)"
      ],
      "text/plain": [
       "<IPython.core.display.HTML object>"
      ]
     },
     "metadata": {},
     "output_type": "display_data"
    },
    {
     "data": {
      "text/html": [
       "Find logs at: <code>.\\wandb\\run-20220821_152942-mk7qk5n4\\logs</code>"
      ],
      "text/plain": [
       "<IPython.core.display.HTML object>"
      ]
     },
     "metadata": {},
     "output_type": "display_data"
    },
    {
     "name": "stderr",
     "output_type": "stream",
     "text": [
      "\u001b[34m\u001b[1mwandb\u001b[0m: Agent Starting Run: 4rnqkw37 with config:\n",
      "\u001b[34m\u001b[1mwandb\u001b[0m: \tmax_features: sqrt\n",
      "\u001b[34m\u001b[1mwandb\u001b[0m: \tn_estimators: 82\n",
      "\u001b[34m\u001b[1mwandb\u001b[0m: \trandom_state: 42\n"
     ]
    },
    {
     "data": {
      "text/html": [
       "wandb version 0.13.1 is available!  To upgrade, please run:\n",
       " $ pip install wandb --upgrade"
      ],
      "text/plain": [
       "<IPython.core.display.HTML object>"
      ]
     },
     "metadata": {},
     "output_type": "display_data"
    },
    {
     "data": {
      "text/html": [
       "Tracking run with wandb version 0.12.21"
      ],
      "text/plain": [
       "<IPython.core.display.HTML object>"
      ]
     },
     "metadata": {},
     "output_type": "display_data"
    },
    {
     "data": {
      "text/html": [
       "Run data is saved locally in <code>C:\\Users\\Saiga\\Documents\\NotebooksJupyter\\text_classification_benchmark\\wandb\\run-20220821_153111-4rnqkw37</code>"
      ],
      "text/plain": [
       "<IPython.core.display.HTML object>"
      ]
     },
     "metadata": {},
     "output_type": "display_data"
    },
    {
     "data": {
      "text/html": [
       "Syncing run <strong><a href=\"https://wandb.ai/benchmark-nlp/hyperopt/runs/4rnqkw37\" target=\"_blank\">glamorous-sweep-2</a></strong> to <a href=\"https://wandb.ai/benchmark-nlp/hyperopt\" target=\"_blank\">Weights & Biases</a> (<a href=\"https://wandb.me/run\" target=\"_blank\">docs</a>)<br/>Sweep page:  <a href=\"https://wandb.ai/benchmark-nlp/hyperopt/sweeps/63v1pz8z\" target=\"_blank\">https://wandb.ai/benchmark-nlp/hyperopt/sweeps/63v1pz8z</a>"
      ],
      "text/plain": [
       "<IPython.core.display.HTML object>"
      ]
     },
     "metadata": {},
     "output_type": "display_data"
    },
    {
     "data": {
      "text/html": [
       "Waiting for W&B process to finish... <strong style=\"color:green\">(success).</strong>"
      ],
      "text/plain": [
       "<IPython.core.display.HTML object>"
      ]
     },
     "metadata": {},
     "output_type": "display_data"
    },
    {
     "data": {
      "text/html": [
       "<style>\n",
       "    table.wandb td:nth-child(1) { padding: 0 10px; text-align: left ; width: auto;} td:nth-child(2) {text-align: left ; width: 100%}\n",
       "    .wandb-row { display: flex; flex-direction: row; flex-wrap: wrap; justify-content: flex-start; width: 100% }\n",
       "    .wandb-col { display: flex; flex-direction: column; flex-basis: 100%; flex: 1; padding: 10px; }\n",
       "    </style>\n",
       "<div class=\"wandb-row\"><div class=\"wandb-col\"><h3>Run history:</h3><br/><table class=\"wandb\"><tr><td>AUC</td><td>▁</td></tr><tr><td>AUC-PC</td><td>▁</td></tr><tr><td>accuracy</td><td>▁</td></tr><tr><td>f1 macro</td><td>▁</td></tr></table><br/></div><div class=\"wandb-col\"><h3>Run summary:</h3><br/><table class=\"wandb\"><tr><td>AUC</td><td>0.92091</td></tr><tr><td>AUC-PC</td><td>0.91109</td></tr><tr><td>accuracy</td><td>0.8418</td></tr><tr><td>f1 macro</td><td>0.84176</td></tr></table><br/></div></div>"
      ],
      "text/plain": [
       "<IPython.core.display.HTML object>"
      ]
     },
     "metadata": {},
     "output_type": "display_data"
    },
    {
     "data": {
      "text/html": [
       "Synced <strong style=\"color:#cdcd00\">glamorous-sweep-2</strong>: <a href=\"https://wandb.ai/benchmark-nlp/hyperopt/runs/4rnqkw37\" target=\"_blank\">https://wandb.ai/benchmark-nlp/hyperopt/runs/4rnqkw37</a><br/>Synced 5 W&B file(s), 0 media file(s), 0 artifact file(s) and 0 other file(s)"
      ],
      "text/plain": [
       "<IPython.core.display.HTML object>"
      ]
     },
     "metadata": {},
     "output_type": "display_data"
    },
    {
     "data": {
      "text/html": [
       "Find logs at: <code>.\\wandb\\run-20220821_153111-4rnqkw37\\logs</code>"
      ],
      "text/plain": [
       "<IPython.core.display.HTML object>"
      ]
     },
     "metadata": {},
     "output_type": "display_data"
    },
    {
     "name": "stderr",
     "output_type": "stream",
     "text": [
      "\u001b[34m\u001b[1mwandb\u001b[0m: Agent Starting Run: 1z2ky02t with config:\n",
      "\u001b[34m\u001b[1mwandb\u001b[0m: \tmax_features: log2\n",
      "\u001b[34m\u001b[1mwandb\u001b[0m: \tn_estimators: 181\n",
      "\u001b[34m\u001b[1mwandb\u001b[0m: \trandom_state: 42\n"
     ]
    },
    {
     "data": {
      "text/html": [
       "wandb version 0.13.1 is available!  To upgrade, please run:\n",
       " $ pip install wandb --upgrade"
      ],
      "text/plain": [
       "<IPython.core.display.HTML object>"
      ]
     },
     "metadata": {},
     "output_type": "display_data"
    },
    {
     "data": {
      "text/html": [
       "Tracking run with wandb version 0.12.21"
      ],
      "text/plain": [
       "<IPython.core.display.HTML object>"
      ]
     },
     "metadata": {},
     "output_type": "display_data"
    },
    {
     "data": {
      "text/html": [
       "Run data is saved locally in <code>C:\\Users\\Saiga\\Documents\\NotebooksJupyter\\text_classification_benchmark\\wandb\\run-20220821_153224-1z2ky02t</code>"
      ],
      "text/plain": [
       "<IPython.core.display.HTML object>"
      ]
     },
     "metadata": {},
     "output_type": "display_data"
    },
    {
     "data": {
      "text/html": [
       "Syncing run <strong><a href=\"https://wandb.ai/benchmark-nlp/hyperopt/runs/1z2ky02t\" target=\"_blank\">easy-sweep-3</a></strong> to <a href=\"https://wandb.ai/benchmark-nlp/hyperopt\" target=\"_blank\">Weights & Biases</a> (<a href=\"https://wandb.me/run\" target=\"_blank\">docs</a>)<br/>Sweep page:  <a href=\"https://wandb.ai/benchmark-nlp/hyperopt/sweeps/63v1pz8z\" target=\"_blank\">https://wandb.ai/benchmark-nlp/hyperopt/sweeps/63v1pz8z</a>"
      ],
      "text/plain": [
       "<IPython.core.display.HTML object>"
      ]
     },
     "metadata": {},
     "output_type": "display_data"
    },
    {
     "data": {
      "text/html": [
       "Waiting for W&B process to finish... <strong style=\"color:green\">(success).</strong>"
      ],
      "text/plain": [
       "<IPython.core.display.HTML object>"
      ]
     },
     "metadata": {},
     "output_type": "display_data"
    },
    {
     "data": {
      "text/html": [
       "<style>\n",
       "    table.wandb td:nth-child(1) { padding: 0 10px; text-align: left ; width: auto;} td:nth-child(2) {text-align: left ; width: 100%}\n",
       "    .wandb-row { display: flex; flex-direction: row; flex-wrap: wrap; justify-content: flex-start; width: 100% }\n",
       "    .wandb-col { display: flex; flex-direction: column; flex-basis: 100%; flex: 1; padding: 10px; }\n",
       "    </style>\n",
       "<div class=\"wandb-row\"><div class=\"wandb-col\"><h3>Run history:</h3><br/><table class=\"wandb\"><tr><td>AUC</td><td>▁</td></tr><tr><td>AUC-PC</td><td>▁</td></tr><tr><td>accuracy</td><td>▁</td></tr><tr><td>f1 macro</td><td>▁</td></tr></table><br/></div><div class=\"wandb-col\"><h3>Run summary:</h3><br/><table class=\"wandb\"><tr><td>AUC</td><td>0.92617</td></tr><tr><td>AUC-PC</td><td>0.92239</td></tr><tr><td>accuracy</td><td>0.846</td></tr><tr><td>f1 macro</td><td>0.84593</td></tr></table><br/></div></div>"
      ],
      "text/plain": [
       "<IPython.core.display.HTML object>"
      ]
     },
     "metadata": {},
     "output_type": "display_data"
    },
    {
     "data": {
      "text/html": [
       "Synced <strong style=\"color:#cdcd00\">easy-sweep-3</strong>: <a href=\"https://wandb.ai/benchmark-nlp/hyperopt/runs/1z2ky02t\" target=\"_blank\">https://wandb.ai/benchmark-nlp/hyperopt/runs/1z2ky02t</a><br/>Synced 5 W&B file(s), 0 media file(s), 0 artifact file(s) and 0 other file(s)"
      ],
      "text/plain": [
       "<IPython.core.display.HTML object>"
      ]
     },
     "metadata": {},
     "output_type": "display_data"
    },
    {
     "data": {
      "text/html": [
       "Find logs at: <code>.\\wandb\\run-20220821_153224-1z2ky02t\\logs</code>"
      ],
      "text/plain": [
       "<IPython.core.display.HTML object>"
      ]
     },
     "metadata": {},
     "output_type": "display_data"
    },
    {
     "name": "stderr",
     "output_type": "stream",
     "text": [
      "\u001b[34m\u001b[1mwandb\u001b[0m: Agent Starting Run: 6rtqldfz with config:\n",
      "\u001b[34m\u001b[1mwandb\u001b[0m: \tmax_features: sqrt\n",
      "\u001b[34m\u001b[1mwandb\u001b[0m: \tn_estimators: 66\n",
      "\u001b[34m\u001b[1mwandb\u001b[0m: \trandom_state: 42\n"
     ]
    },
    {
     "data": {
      "text/html": [
       "wandb version 0.13.1 is available!  To upgrade, please run:\n",
       " $ pip install wandb --upgrade"
      ],
      "text/plain": [
       "<IPython.core.display.HTML object>"
      ]
     },
     "metadata": {},
     "output_type": "display_data"
    },
    {
     "data": {
      "text/html": [
       "Tracking run with wandb version 0.12.21"
      ],
      "text/plain": [
       "<IPython.core.display.HTML object>"
      ]
     },
     "metadata": {},
     "output_type": "display_data"
    },
    {
     "data": {
      "text/html": [
       "Run data is saved locally in <code>C:\\Users\\Saiga\\Documents\\NotebooksJupyter\\text_classification_benchmark\\wandb\\run-20220821_153353-6rtqldfz</code>"
      ],
      "text/plain": [
       "<IPython.core.display.HTML object>"
      ]
     },
     "metadata": {},
     "output_type": "display_data"
    },
    {
     "data": {
      "text/html": [
       "Syncing run <strong><a href=\"https://wandb.ai/benchmark-nlp/hyperopt/runs/6rtqldfz\" target=\"_blank\">proud-sweep-4</a></strong> to <a href=\"https://wandb.ai/benchmark-nlp/hyperopt\" target=\"_blank\">Weights & Biases</a> (<a href=\"https://wandb.me/run\" target=\"_blank\">docs</a>)<br/>Sweep page:  <a href=\"https://wandb.ai/benchmark-nlp/hyperopt/sweeps/63v1pz8z\" target=\"_blank\">https://wandb.ai/benchmark-nlp/hyperopt/sweeps/63v1pz8z</a>"
      ],
      "text/plain": [
       "<IPython.core.display.HTML object>"
      ]
     },
     "metadata": {},
     "output_type": "display_data"
    },
    {
     "data": {
      "text/html": [
       "Waiting for W&B process to finish... <strong style=\"color:green\">(success).</strong>"
      ],
      "text/plain": [
       "<IPython.core.display.HTML object>"
      ]
     },
     "metadata": {},
     "output_type": "display_data"
    },
    {
     "data": {
      "text/html": [
       "<style>\n",
       "    table.wandb td:nth-child(1) { padding: 0 10px; text-align: left ; width: auto;} td:nth-child(2) {text-align: left ; width: 100%}\n",
       "    .wandb-row { display: flex; flex-direction: row; flex-wrap: wrap; justify-content: flex-start; width: 100% }\n",
       "    .wandb-col { display: flex; flex-direction: column; flex-basis: 100%; flex: 1; padding: 10px; }\n",
       "    </style>\n",
       "<div class=\"wandb-row\"><div class=\"wandb-col\"><h3>Run history:</h3><br/><table class=\"wandb\"><tr><td>AUC</td><td>▁</td></tr><tr><td>AUC-PC</td><td>▁</td></tr><tr><td>accuracy</td><td>▁</td></tr><tr><td>f1 macro</td><td>▁</td></tr></table><br/></div><div class=\"wandb-col\"><h3>Run summary:</h3><br/><table class=\"wandb\"><tr><td>AUC</td><td>0.91689</td></tr><tr><td>AUC-PC</td><td>0.90614</td></tr><tr><td>accuracy</td><td>0.8402</td></tr><tr><td>f1 macro</td><td>0.84017</td></tr></table><br/></div></div>"
      ],
      "text/plain": [
       "<IPython.core.display.HTML object>"
      ]
     },
     "metadata": {},
     "output_type": "display_data"
    },
    {
     "data": {
      "text/html": [
       "Synced <strong style=\"color:#cdcd00\">proud-sweep-4</strong>: <a href=\"https://wandb.ai/benchmark-nlp/hyperopt/runs/6rtqldfz\" target=\"_blank\">https://wandb.ai/benchmark-nlp/hyperopt/runs/6rtqldfz</a><br/>Synced 5 W&B file(s), 0 media file(s), 0 artifact file(s) and 0 other file(s)"
      ],
      "text/plain": [
       "<IPython.core.display.HTML object>"
      ]
     },
     "metadata": {},
     "output_type": "display_data"
    },
    {
     "data": {
      "text/html": [
       "Find logs at: <code>.\\wandb\\run-20220821_153353-6rtqldfz\\logs</code>"
      ],
      "text/plain": [
       "<IPython.core.display.HTML object>"
      ]
     },
     "metadata": {},
     "output_type": "display_data"
    },
    {
     "name": "stderr",
     "output_type": "stream",
     "text": [
      "\u001b[34m\u001b[1mwandb\u001b[0m: Agent Starting Run: vxwlzo2f with config:\n",
      "\u001b[34m\u001b[1mwandb\u001b[0m: \tmax_features: sqrt\n",
      "\u001b[34m\u001b[1mwandb\u001b[0m: \tn_estimators: 40\n",
      "\u001b[34m\u001b[1mwandb\u001b[0m: \trandom_state: 42\n"
     ]
    },
    {
     "data": {
      "text/html": [
       "wandb version 0.13.1 is available!  To upgrade, please run:\n",
       " $ pip install wandb --upgrade"
      ],
      "text/plain": [
       "<IPython.core.display.HTML object>"
      ]
     },
     "metadata": {},
     "output_type": "display_data"
    },
    {
     "data": {
      "text/html": [
       "Tracking run with wandb version 0.12.21"
      ],
      "text/plain": [
       "<IPython.core.display.HTML object>"
      ]
     },
     "metadata": {},
     "output_type": "display_data"
    },
    {
     "data": {
      "text/html": [
       "Run data is saved locally in <code>C:\\Users\\Saiga\\Documents\\NotebooksJupyter\\text_classification_benchmark\\wandb\\run-20220821_153456-vxwlzo2f</code>"
      ],
      "text/plain": [
       "<IPython.core.display.HTML object>"
      ]
     },
     "metadata": {},
     "output_type": "display_data"
    },
    {
     "data": {
      "text/html": [
       "Syncing run <strong><a href=\"https://wandb.ai/benchmark-nlp/hyperopt/runs/vxwlzo2f\" target=\"_blank\">helpful-sweep-5</a></strong> to <a href=\"https://wandb.ai/benchmark-nlp/hyperopt\" target=\"_blank\">Weights & Biases</a> (<a href=\"https://wandb.me/run\" target=\"_blank\">docs</a>)<br/>Sweep page:  <a href=\"https://wandb.ai/benchmark-nlp/hyperopt/sweeps/63v1pz8z\" target=\"_blank\">https://wandb.ai/benchmark-nlp/hyperopt/sweeps/63v1pz8z</a>"
      ],
      "text/plain": [
       "<IPython.core.display.HTML object>"
      ]
     },
     "metadata": {},
     "output_type": "display_data"
    },
    {
     "data": {
      "text/html": [
       "Waiting for W&B process to finish... <strong style=\"color:green\">(success).</strong>"
      ],
      "text/plain": [
       "<IPython.core.display.HTML object>"
      ]
     },
     "metadata": {},
     "output_type": "display_data"
    },
    {
     "data": {
      "text/html": [
       "<style>\n",
       "    table.wandb td:nth-child(1) { padding: 0 10px; text-align: left ; width: auto;} td:nth-child(2) {text-align: left ; width: 100%}\n",
       "    .wandb-row { display: flex; flex-direction: row; flex-wrap: wrap; justify-content: flex-start; width: 100% }\n",
       "    .wandb-col { display: flex; flex-direction: column; flex-basis: 100%; flex: 1; padding: 10px; }\n",
       "    </style>\n",
       "<div class=\"wandb-row\"><div class=\"wandb-col\"><h3>Run history:</h3><br/><table class=\"wandb\"><tr><td>AUC</td><td>▁</td></tr><tr><td>AUC-PC</td><td>▁</td></tr><tr><td>accuracy</td><td>▁</td></tr><tr><td>f1 macro</td><td>▁</td></tr></table><br/></div><div class=\"wandb-col\"><h3>Run summary:</h3><br/><table class=\"wandb\"><tr><td>AUC</td><td>0.90274</td></tr><tr><td>AUC-PC</td><td>0.88858</td></tr><tr><td>accuracy</td><td>0.8238</td></tr><tr><td>f1 macro</td><td>0.82367</td></tr></table><br/></div></div>"
      ],
      "text/plain": [
       "<IPython.core.display.HTML object>"
      ]
     },
     "metadata": {},
     "output_type": "display_data"
    },
    {
     "data": {
      "text/html": [
       "Synced <strong style=\"color:#cdcd00\">helpful-sweep-5</strong>: <a href=\"https://wandb.ai/benchmark-nlp/hyperopt/runs/vxwlzo2f\" target=\"_blank\">https://wandb.ai/benchmark-nlp/hyperopt/runs/vxwlzo2f</a><br/>Synced 5 W&B file(s), 0 media file(s), 0 artifact file(s) and 0 other file(s)"
      ],
      "text/plain": [
       "<IPython.core.display.HTML object>"
      ]
     },
     "metadata": {},
     "output_type": "display_data"
    },
    {
     "data": {
      "text/html": [
       "Find logs at: <code>.\\wandb\\run-20220821_153456-vxwlzo2f\\logs</code>"
      ],
      "text/plain": [
       "<IPython.core.display.HTML object>"
      ]
     },
     "metadata": {},
     "output_type": "display_data"
    },
    {
     "name": "stderr",
     "output_type": "stream",
     "text": [
      "\u001b[34m\u001b[1mwandb\u001b[0m: Agent Starting Run: ddu5ufyo with config:\n",
      "\u001b[34m\u001b[1mwandb\u001b[0m: \tmax_features: log2\n",
      "\u001b[34m\u001b[1mwandb\u001b[0m: \tn_estimators: 38\n",
      "\u001b[34m\u001b[1mwandb\u001b[0m: \trandom_state: 42\n"
     ]
    },
    {
     "data": {
      "text/html": [
       "wandb version 0.13.1 is available!  To upgrade, please run:\n",
       " $ pip install wandb --upgrade"
      ],
      "text/plain": [
       "<IPython.core.display.HTML object>"
      ]
     },
     "metadata": {},
     "output_type": "display_data"
    },
    {
     "data": {
      "text/html": [
       "Tracking run with wandb version 0.12.21"
      ],
      "text/plain": [
       "<IPython.core.display.HTML object>"
      ]
     },
     "metadata": {},
     "output_type": "display_data"
    },
    {
     "data": {
      "text/html": [
       "Run data is saved locally in <code>C:\\Users\\Saiga\\Documents\\NotebooksJupyter\\text_classification_benchmark\\wandb\\run-20220821_153549-ddu5ufyo</code>"
      ],
      "text/plain": [
       "<IPython.core.display.HTML object>"
      ]
     },
     "metadata": {},
     "output_type": "display_data"
    },
    {
     "data": {
      "text/html": [
       "Syncing run <strong><a href=\"https://wandb.ai/benchmark-nlp/hyperopt/runs/ddu5ufyo\" target=\"_blank\">vital-sweep-6</a></strong> to <a href=\"https://wandb.ai/benchmark-nlp/hyperopt\" target=\"_blank\">Weights & Biases</a> (<a href=\"https://wandb.me/run\" target=\"_blank\">docs</a>)<br/>Sweep page:  <a href=\"https://wandb.ai/benchmark-nlp/hyperopt/sweeps/63v1pz8z\" target=\"_blank\">https://wandb.ai/benchmark-nlp/hyperopt/sweeps/63v1pz8z</a>"
      ],
      "text/plain": [
       "<IPython.core.display.HTML object>"
      ]
     },
     "metadata": {},
     "output_type": "display_data"
    },
    {
     "data": {
      "text/html": [
       "Waiting for W&B process to finish... <strong style=\"color:green\">(success).</strong>"
      ],
      "text/plain": [
       "<IPython.core.display.HTML object>"
      ]
     },
     "metadata": {},
     "output_type": "display_data"
    },
    {
     "data": {
      "text/html": [
       "<style>\n",
       "    table.wandb td:nth-child(1) { padding: 0 10px; text-align: left ; width: auto;} td:nth-child(2) {text-align: left ; width: 100%}\n",
       "    .wandb-row { display: flex; flex-direction: row; flex-wrap: wrap; justify-content: flex-start; width: 100% }\n",
       "    .wandb-col { display: flex; flex-direction: column; flex-basis: 100%; flex: 1; padding: 10px; }\n",
       "    </style>\n",
       "<div class=\"wandb-row\"><div class=\"wandb-col\"><h3>Run history:</h3><br/><table class=\"wandb\"><tr><td>AUC</td><td>▁</td></tr><tr><td>AUC-PC</td><td>▁</td></tr><tr><td>accuracy</td><td>▁</td></tr><tr><td>f1 macro</td><td>▁</td></tr></table><br/></div><div class=\"wandb-col\"><h3>Run summary:</h3><br/><table class=\"wandb\"><tr><td>AUC</td><td>0.8655</td></tr><tr><td>AUC-PC</td><td>0.84951</td></tr><tr><td>accuracy</td><td>0.7872</td></tr><tr><td>f1 macro</td><td>0.78709</td></tr></table><br/></div></div>"
      ],
      "text/plain": [
       "<IPython.core.display.HTML object>"
      ]
     },
     "metadata": {},
     "output_type": "display_data"
    },
    {
     "data": {
      "text/html": [
       "Synced <strong style=\"color:#cdcd00\">vital-sweep-6</strong>: <a href=\"https://wandb.ai/benchmark-nlp/hyperopt/runs/ddu5ufyo\" target=\"_blank\">https://wandb.ai/benchmark-nlp/hyperopt/runs/ddu5ufyo</a><br/>Synced 5 W&B file(s), 0 media file(s), 0 artifact file(s) and 0 other file(s)"
      ],
      "text/plain": [
       "<IPython.core.display.HTML object>"
      ]
     },
     "metadata": {},
     "output_type": "display_data"
    },
    {
     "data": {
      "text/html": [
       "Find logs at: <code>.\\wandb\\run-20220821_153549-ddu5ufyo\\logs</code>"
      ],
      "text/plain": [
       "<IPython.core.display.HTML object>"
      ]
     },
     "metadata": {},
     "output_type": "display_data"
    },
    {
     "name": "stderr",
     "output_type": "stream",
     "text": [
      "\u001b[34m\u001b[1mwandb\u001b[0m: Agent Starting Run: u5f7o65t with config:\n",
      "\u001b[34m\u001b[1mwandb\u001b[0m: \tmax_features: log2\n",
      "\u001b[34m\u001b[1mwandb\u001b[0m: \tn_estimators: 16\n",
      "\u001b[34m\u001b[1mwandb\u001b[0m: \trandom_state: 42\n"
     ]
    },
    {
     "data": {
      "text/html": [
       "wandb version 0.13.1 is available!  To upgrade, please run:\n",
       " $ pip install wandb --upgrade"
      ],
      "text/plain": [
       "<IPython.core.display.HTML object>"
      ]
     },
     "metadata": {},
     "output_type": "display_data"
    },
    {
     "data": {
      "text/html": [
       "Tracking run with wandb version 0.12.21"
      ],
      "text/plain": [
       "<IPython.core.display.HTML object>"
      ]
     },
     "metadata": {},
     "output_type": "display_data"
    },
    {
     "data": {
      "text/html": [
       "Run data is saved locally in <code>C:\\Users\\Saiga\\Documents\\NotebooksJupyter\\text_classification_benchmark\\wandb\\run-20220821_153636-u5f7o65t</code>"
      ],
      "text/plain": [
       "<IPython.core.display.HTML object>"
      ]
     },
     "metadata": {},
     "output_type": "display_data"
    },
    {
     "data": {
      "text/html": [
       "Syncing run <strong><a href=\"https://wandb.ai/benchmark-nlp/hyperopt/runs/u5f7o65t\" target=\"_blank\">distinctive-sweep-7</a></strong> to <a href=\"https://wandb.ai/benchmark-nlp/hyperopt\" target=\"_blank\">Weights & Biases</a> (<a href=\"https://wandb.me/run\" target=\"_blank\">docs</a>)<br/>Sweep page:  <a href=\"https://wandb.ai/benchmark-nlp/hyperopt/sweeps/63v1pz8z\" target=\"_blank\">https://wandb.ai/benchmark-nlp/hyperopt/sweeps/63v1pz8z</a>"
      ],
      "text/plain": [
       "<IPython.core.display.HTML object>"
      ]
     },
     "metadata": {},
     "output_type": "display_data"
    },
    {
     "data": {
      "text/html": [
       "Waiting for W&B process to finish... <strong style=\"color:green\">(success).</strong>"
      ],
      "text/plain": [
       "<IPython.core.display.HTML object>"
      ]
     },
     "metadata": {},
     "output_type": "display_data"
    },
    {
     "data": {
      "text/html": [
       "<style>\n",
       "    table.wandb td:nth-child(1) { padding: 0 10px; text-align: left ; width: auto;} td:nth-child(2) {text-align: left ; width: 100%}\n",
       "    .wandb-row { display: flex; flex-direction: row; flex-wrap: wrap; justify-content: flex-start; width: 100% }\n",
       "    .wandb-col { display: flex; flex-direction: column; flex-basis: 100%; flex: 1; padding: 10px; }\n",
       "    </style>\n",
       "<div class=\"wandb-row\"><div class=\"wandb-col\"><h3>Run history:</h3><br/><table class=\"wandb\"><tr><td>AUC</td><td>▁</td></tr><tr><td>AUC-PC</td><td>▁</td></tr><tr><td>accuracy</td><td>▁</td></tr><tr><td>f1 macro</td><td>▁</td></tr></table><br/></div><div class=\"wandb-col\"><h3>Run summary:</h3><br/><table class=\"wandb\"><tr><td>AUC</td><td>0.79786</td></tr><tr><td>AUC-PC</td><td>0.77104</td></tr><tr><td>accuracy</td><td>0.7288</td></tr><tr><td>f1 macro</td><td>0.72787</td></tr></table><br/></div></div>"
      ],
      "text/plain": [
       "<IPython.core.display.HTML object>"
      ]
     },
     "metadata": {},
     "output_type": "display_data"
    },
    {
     "data": {
      "text/html": [
       "Synced <strong style=\"color:#cdcd00\">distinctive-sweep-7</strong>: <a href=\"https://wandb.ai/benchmark-nlp/hyperopt/runs/u5f7o65t\" target=\"_blank\">https://wandb.ai/benchmark-nlp/hyperopt/runs/u5f7o65t</a><br/>Synced 5 W&B file(s), 0 media file(s), 0 artifact file(s) and 0 other file(s)"
      ],
      "text/plain": [
       "<IPython.core.display.HTML object>"
      ]
     },
     "metadata": {},
     "output_type": "display_data"
    },
    {
     "data": {
      "text/html": [
       "Find logs at: <code>.\\wandb\\run-20220821_153636-u5f7o65t\\logs</code>"
      ],
      "text/plain": [
       "<IPython.core.display.HTML object>"
      ]
     },
     "metadata": {},
     "output_type": "display_data"
    },
    {
     "name": "stderr",
     "output_type": "stream",
     "text": [
      "\u001b[34m\u001b[1mwandb\u001b[0m: Sweep Agent: Waiting for job.\n",
      "\u001b[34m\u001b[1mwandb\u001b[0m: Job received.\n",
      "\u001b[34m\u001b[1mwandb\u001b[0m: Agent Starting Run: klnr1vr8 with config:\n",
      "\u001b[34m\u001b[1mwandb\u001b[0m: \tmax_features: log2\n",
      "\u001b[34m\u001b[1mwandb\u001b[0m: \tn_estimators: 134\n",
      "\u001b[34m\u001b[1mwandb\u001b[0m: \trandom_state: 42\n"
     ]
    },
    {
     "data": {
      "text/html": [
       "wandb version 0.13.1 is available!  To upgrade, please run:\n",
       " $ pip install wandb --upgrade"
      ],
      "text/plain": [
       "<IPython.core.display.HTML object>"
      ]
     },
     "metadata": {},
     "output_type": "display_data"
    },
    {
     "data": {
      "text/html": [
       "Tracking run with wandb version 0.12.21"
      ],
      "text/plain": [
       "<IPython.core.display.HTML object>"
      ]
     },
     "metadata": {},
     "output_type": "display_data"
    },
    {
     "data": {
      "text/html": [
       "Run data is saved locally in <code>C:\\Users\\Saiga\\Documents\\NotebooksJupyter\\text_classification_benchmark\\wandb\\run-20220821_153728-klnr1vr8</code>"
      ],
      "text/plain": [
       "<IPython.core.display.HTML object>"
      ]
     },
     "metadata": {},
     "output_type": "display_data"
    },
    {
     "data": {
      "text/html": [
       "Syncing run <strong><a href=\"https://wandb.ai/benchmark-nlp/hyperopt/runs/klnr1vr8\" target=\"_blank\">young-sweep-8</a></strong> to <a href=\"https://wandb.ai/benchmark-nlp/hyperopt\" target=\"_blank\">Weights & Biases</a> (<a href=\"https://wandb.me/run\" target=\"_blank\">docs</a>)<br/>Sweep page:  <a href=\"https://wandb.ai/benchmark-nlp/hyperopt/sweeps/63v1pz8z\" target=\"_blank\">https://wandb.ai/benchmark-nlp/hyperopt/sweeps/63v1pz8z</a>"
      ],
      "text/plain": [
       "<IPython.core.display.HTML object>"
      ]
     },
     "metadata": {},
     "output_type": "display_data"
    },
    {
     "data": {
      "text/html": [
       "Waiting for W&B process to finish... <strong style=\"color:green\">(success).</strong>"
      ],
      "text/plain": [
       "<IPython.core.display.HTML object>"
      ]
     },
     "metadata": {},
     "output_type": "display_data"
    },
    {
     "data": {
      "text/html": [
       "<style>\n",
       "    table.wandb td:nth-child(1) { padding: 0 10px; text-align: left ; width: auto;} td:nth-child(2) {text-align: left ; width: 100%}\n",
       "    .wandb-row { display: flex; flex-direction: row; flex-wrap: wrap; justify-content: flex-start; width: 100% }\n",
       "    .wandb-col { display: flex; flex-direction: column; flex-basis: 100%; flex: 1; padding: 10px; }\n",
       "    </style>\n",
       "<div class=\"wandb-row\"><div class=\"wandb-col\"><h3>Run history:</h3><br/><table class=\"wandb\"><tr><td>AUC</td><td>▁</td></tr><tr><td>AUC-PC</td><td>▁</td></tr><tr><td>accuracy</td><td>▁</td></tr><tr><td>f1 macro</td><td>▁</td></tr></table><br/></div><div class=\"wandb-col\"><h3>Run summary:</h3><br/><table class=\"wandb\"><tr><td>AUC</td><td>0.91784</td></tr><tr><td>AUC-PC</td><td>0.91185</td></tr><tr><td>accuracy</td><td>0.8354</td></tr><tr><td>f1 macro</td><td>0.83537</td></tr></table><br/></div></div>"
      ],
      "text/plain": [
       "<IPython.core.display.HTML object>"
      ]
     },
     "metadata": {},
     "output_type": "display_data"
    },
    {
     "data": {
      "text/html": [
       "Synced <strong style=\"color:#cdcd00\">young-sweep-8</strong>: <a href=\"https://wandb.ai/benchmark-nlp/hyperopt/runs/klnr1vr8\" target=\"_blank\">https://wandb.ai/benchmark-nlp/hyperopt/runs/klnr1vr8</a><br/>Synced 5 W&B file(s), 0 media file(s), 0 artifact file(s) and 0 other file(s)"
      ],
      "text/plain": [
       "<IPython.core.display.HTML object>"
      ]
     },
     "metadata": {},
     "output_type": "display_data"
    },
    {
     "data": {
      "text/html": [
       "Find logs at: <code>.\\wandb\\run-20220821_153728-klnr1vr8\\logs</code>"
      ],
      "text/plain": [
       "<IPython.core.display.HTML object>"
      ]
     },
     "metadata": {},
     "output_type": "display_data"
    },
    {
     "name": "stderr",
     "output_type": "stream",
     "text": [
      "\u001b[34m\u001b[1mwandb\u001b[0m: Agent Starting Run: y48wy5sn with config:\n",
      "\u001b[34m\u001b[1mwandb\u001b[0m: \tmax_features: log2\n",
      "\u001b[34m\u001b[1mwandb\u001b[0m: \tn_estimators: 47\n",
      "\u001b[34m\u001b[1mwandb\u001b[0m: \trandom_state: 42\n"
     ]
    },
    {
     "data": {
      "text/html": [
       "wandb version 0.13.1 is available!  To upgrade, please run:\n",
       " $ pip install wandb --upgrade"
      ],
      "text/plain": [
       "<IPython.core.display.HTML object>"
      ]
     },
     "metadata": {},
     "output_type": "display_data"
    },
    {
     "data": {
      "text/html": [
       "Tracking run with wandb version 0.12.21"
      ],
      "text/plain": [
       "<IPython.core.display.HTML object>"
      ]
     },
     "metadata": {},
     "output_type": "display_data"
    },
    {
     "data": {
      "text/html": [
       "Run data is saved locally in <code>C:\\Users\\Saiga\\Documents\\NotebooksJupyter\\text_classification_benchmark\\wandb\\run-20220821_153842-y48wy5sn</code>"
      ],
      "text/plain": [
       "<IPython.core.display.HTML object>"
      ]
     },
     "metadata": {},
     "output_type": "display_data"
    },
    {
     "data": {
      "text/html": [
       "Syncing run <strong><a href=\"https://wandb.ai/benchmark-nlp/hyperopt/runs/y48wy5sn\" target=\"_blank\">swift-sweep-9</a></strong> to <a href=\"https://wandb.ai/benchmark-nlp/hyperopt\" target=\"_blank\">Weights & Biases</a> (<a href=\"https://wandb.me/run\" target=\"_blank\">docs</a>)<br/>Sweep page:  <a href=\"https://wandb.ai/benchmark-nlp/hyperopt/sweeps/63v1pz8z\" target=\"_blank\">https://wandb.ai/benchmark-nlp/hyperopt/sweeps/63v1pz8z</a>"
      ],
      "text/plain": [
       "<IPython.core.display.HTML object>"
      ]
     },
     "metadata": {},
     "output_type": "display_data"
    },
    {
     "data": {
      "text/html": [
       "Waiting for W&B process to finish... <strong style=\"color:green\">(success).</strong>"
      ],
      "text/plain": [
       "<IPython.core.display.HTML object>"
      ]
     },
     "metadata": {},
     "output_type": "display_data"
    },
    {
     "data": {
      "text/html": [
       "<style>\n",
       "    table.wandb td:nth-child(1) { padding: 0 10px; text-align: left ; width: auto;} td:nth-child(2) {text-align: left ; width: 100%}\n",
       "    .wandb-row { display: flex; flex-direction: row; flex-wrap: wrap; justify-content: flex-start; width: 100% }\n",
       "    .wandb-col { display: flex; flex-direction: column; flex-basis: 100%; flex: 1; padding: 10px; }\n",
       "    </style>\n",
       "<div class=\"wandb-row\"><div class=\"wandb-col\"><h3>Run history:</h3><br/><table class=\"wandb\"><tr><td>AUC</td><td>▁</td></tr><tr><td>AUC-PC</td><td>▁</td></tr><tr><td>accuracy</td><td>▁</td></tr><tr><td>f1 macro</td><td>▁</td></tr></table><br/></div><div class=\"wandb-col\"><h3>Run summary:</h3><br/><table class=\"wandb\"><tr><td>AUC</td><td>0.87851</td></tr><tr><td>AUC-PC</td><td>0.86529</td></tr><tr><td>accuracy</td><td>0.7972</td></tr><tr><td>f1 macro</td><td>0.79716</td></tr></table><br/></div></div>"
      ],
      "text/plain": [
       "<IPython.core.display.HTML object>"
      ]
     },
     "metadata": {},
     "output_type": "display_data"
    },
    {
     "data": {
      "text/html": [
       "Synced <strong style=\"color:#cdcd00\">swift-sweep-9</strong>: <a href=\"https://wandb.ai/benchmark-nlp/hyperopt/runs/y48wy5sn\" target=\"_blank\">https://wandb.ai/benchmark-nlp/hyperopt/runs/y48wy5sn</a><br/>Synced 5 W&B file(s), 0 media file(s), 0 artifact file(s) and 0 other file(s)"
      ],
      "text/plain": [
       "<IPython.core.display.HTML object>"
      ]
     },
     "metadata": {},
     "output_type": "display_data"
    },
    {
     "data": {
      "text/html": [
       "Find logs at: <code>.\\wandb\\run-20220821_153842-y48wy5sn\\logs</code>"
      ],
      "text/plain": [
       "<IPython.core.display.HTML object>"
      ]
     },
     "metadata": {},
     "output_type": "display_data"
    },
    {
     "name": "stderr",
     "output_type": "stream",
     "text": [
      "\u001b[34m\u001b[1mwandb\u001b[0m: Agent Starting Run: cbscjgav with config:\n",
      "\u001b[34m\u001b[1mwandb\u001b[0m: \tmax_features: log2\n",
      "\u001b[34m\u001b[1mwandb\u001b[0m: \tn_estimators: 160\n",
      "\u001b[34m\u001b[1mwandb\u001b[0m: \trandom_state: 42\n"
     ]
    },
    {
     "data": {
      "text/html": [
       "wandb version 0.13.1 is available!  To upgrade, please run:\n",
       " $ pip install wandb --upgrade"
      ],
      "text/plain": [
       "<IPython.core.display.HTML object>"
      ]
     },
     "metadata": {},
     "output_type": "display_data"
    },
    {
     "data": {
      "text/html": [
       "Tracking run with wandb version 0.12.21"
      ],
      "text/plain": [
       "<IPython.core.display.HTML object>"
      ]
     },
     "metadata": {},
     "output_type": "display_data"
    },
    {
     "data": {
      "text/html": [
       "Run data is saved locally in <code>C:\\Users\\Saiga\\Documents\\NotebooksJupyter\\text_classification_benchmark\\wandb\\run-20220821_153929-cbscjgav</code>"
      ],
      "text/plain": [
       "<IPython.core.display.HTML object>"
      ]
     },
     "metadata": {},
     "output_type": "display_data"
    },
    {
     "data": {
      "text/html": [
       "Syncing run <strong><a href=\"https://wandb.ai/benchmark-nlp/hyperopt/runs/cbscjgav\" target=\"_blank\">celestial-sweep-10</a></strong> to <a href=\"https://wandb.ai/benchmark-nlp/hyperopt\" target=\"_blank\">Weights & Biases</a> (<a href=\"https://wandb.me/run\" target=\"_blank\">docs</a>)<br/>Sweep page:  <a href=\"https://wandb.ai/benchmark-nlp/hyperopt/sweeps/63v1pz8z\" target=\"_blank\">https://wandb.ai/benchmark-nlp/hyperopt/sweeps/63v1pz8z</a>"
      ],
      "text/plain": [
       "<IPython.core.display.HTML object>"
      ]
     },
     "metadata": {},
     "output_type": "display_data"
    },
    {
     "data": {
      "text/html": [
       "Waiting for W&B process to finish... <strong style=\"color:green\">(success).</strong>"
      ],
      "text/plain": [
       "<IPython.core.display.HTML object>"
      ]
     },
     "metadata": {},
     "output_type": "display_data"
    },
    {
     "data": {
      "text/html": [
       "<style>\n",
       "    table.wandb td:nth-child(1) { padding: 0 10px; text-align: left ; width: auto;} td:nth-child(2) {text-align: left ; width: 100%}\n",
       "    .wandb-row { display: flex; flex-direction: row; flex-wrap: wrap; justify-content: flex-start; width: 100% }\n",
       "    .wandb-col { display: flex; flex-direction: column; flex-basis: 100%; flex: 1; padding: 10px; }\n",
       "    </style>\n",
       "<div class=\"wandb-row\"><div class=\"wandb-col\"><h3>Run history:</h3><br/><table class=\"wandb\"><tr><td>AUC</td><td>▁</td></tr><tr><td>AUC-PC</td><td>▁</td></tr><tr><td>accuracy</td><td>▁</td></tr><tr><td>f1 macro</td><td>▁</td></tr></table><br/></div><div class=\"wandb-col\"><h3>Run summary:</h3><br/><table class=\"wandb\"><tr><td>AUC</td><td>0.92357</td></tr><tr><td>AUC-PC</td><td>0.91861</td></tr><tr><td>accuracy</td><td>0.8438</td></tr><tr><td>f1 macro</td><td>0.84378</td></tr></table><br/></div></div>"
      ],
      "text/plain": [
       "<IPython.core.display.HTML object>"
      ]
     },
     "metadata": {},
     "output_type": "display_data"
    },
    {
     "data": {
      "text/html": [
       "Synced <strong style=\"color:#cdcd00\">celestial-sweep-10</strong>: <a href=\"https://wandb.ai/benchmark-nlp/hyperopt/runs/cbscjgav\" target=\"_blank\">https://wandb.ai/benchmark-nlp/hyperopt/runs/cbscjgav</a><br/>Synced 5 W&B file(s), 0 media file(s), 0 artifact file(s) and 0 other file(s)"
      ],
      "text/plain": [
       "<IPython.core.display.HTML object>"
      ]
     },
     "metadata": {},
     "output_type": "display_data"
    },
    {
     "data": {
      "text/html": [
       "Find logs at: <code>.\\wandb\\run-20220821_153929-cbscjgav\\logs</code>"
      ],
      "text/plain": [
       "<IPython.core.display.HTML object>"
      ]
     },
     "metadata": {},
     "output_type": "display_data"
    },
    {
     "data": {
      "text/plain": [
       "0.0016801285692087998"
      ]
     },
     "execution_count": 12,
     "metadata": {},
     "output_type": "execute_result"
    }
   ],
   "source": [
    "#Don't forget to name the sweep instance  \n",
    "name = 'rf_tfidf_imdb' #change here\n",
    "sweep_config['name'] =  name\n",
    "\n",
    "#Generate a sweep_id\n",
    "sweep_id = wandb.sweep(sweep_config, project=\"hyperopt\")\n",
    "\n",
    "def train_tfidf(config = None,\n",
    "          train=train_imdb, #Change here\n",
    "          val=val_imdb): #change here\n",
    "    '''\n",
    "    Generic WandB function to conduct hyperparameter optimization with tf-idf vectorizer\n",
    "    '''\n",
    "    # Initialize a new wandb run\n",
    "    with wandb.init(config=config,group=name):\n",
    "        # If called by wandb.agent, as below,\n",
    "        # this config will be set by Sweep Controller\n",
    "        config = wandb.config\n",
    "        vec = TfidfVectorizer()\n",
    "        clf = RandomForestClassifier(n_estimators=config.n_estimators,\n",
    "                                max_features=config.max_features,\n",
    "                                 random_state=config.random_state) #set the hyperparams here\n",
    "        \n",
    "        #Create the pipeline\n",
    "        pipe = Pipeline([('vectorizer',vec),('clf',clf)])\n",
    "        #Fit the pipeline\n",
    "        pipe.fit(train['text'],train['label'])\n",
    "        \n",
    "        #Make predictions\n",
    "        pred_val = pipe.predict(val['text'])\n",
    "        pred_prob_val = pipe.predict_proba(val['text'])[:,1]\n",
    "        accuracy = accuracy_score(val['label'],pred_val)\n",
    "        f1_macro = f1_score(val['label'],pred_val,average='macro')\n",
    "        if train['label'].nunique() <=2:\n",
    "            aucpc =  average_precision_score(val['label'],pred_prob_val)\n",
    "            auc = roc_auc_score(val['label'],pred_prob_val)\n",
    "        else:\n",
    "            aucpc = '-'\n",
    "            auc = '-'\n",
    "        #Log metrics on WandB\n",
    "        wandb.log({\"accuracy\": accuracy, \"f1 macro\":f1_macro, \"AUC-PC\":aucpc, 'AUC':auc })\n",
    "\n",
    "#Track emissions\n",
    "tracker = EmissionsTracker(project_name=name,log_level='warning', measure_power_secs=300,\n",
    "                           output_file='output/emissions_hyperopt.csv')\n",
    "#Launch the agent\n",
    "tracker.start()\n",
    "wandb.agent(sweep_id, train_tfidf,count=OPT_ITER) #Count : number of iterations\n",
    "tracker.stop()"
   ]
  },
  {
   "cell_type": "code",
   "execution_count": 13,
   "id": "3d149865",
   "metadata": {
    "scrolled": true
   },
   "outputs": [
    {
     "name": "stdout",
     "output_type": "stream",
     "text": [
      "Create sweep with ID: v2xdezsx\n",
      "Sweep URL: https://wandb.ai/benchmark-nlp/hyperopt/sweeps/v2xdezsx\n"
     ]
    },
    {
     "name": "stderr",
     "output_type": "stream",
     "text": [
      "[codecarbon WARNING @ 15:40:53] No CPU tracking mode found. Falling back on CPU constant mode.\n",
      "[codecarbon WARNING @ 15:40:56] We saw that you have a Intel(R) Core(TM) i5-7200U CPU @ 2.50GHz but we don't know it. Please contact us.\n",
      "\u001b[34m\u001b[1mwandb\u001b[0m: Agent Starting Run: 2a16jf5m with config:\n",
      "\u001b[34m\u001b[1mwandb\u001b[0m: \tmax_features: sqrt\n",
      "\u001b[34m\u001b[1mwandb\u001b[0m: \tn_estimators: 165\n",
      "\u001b[34m\u001b[1mwandb\u001b[0m: \trandom_state: 42\n"
     ]
    },
    {
     "data": {
      "text/html": [
       "wandb version 0.13.1 is available!  To upgrade, please run:\n",
       " $ pip install wandb --upgrade"
      ],
      "text/plain": [
       "<IPython.core.display.HTML object>"
      ]
     },
     "metadata": {},
     "output_type": "display_data"
    },
    {
     "data": {
      "text/html": [
       "Tracking run with wandb version 0.12.21"
      ],
      "text/plain": [
       "<IPython.core.display.HTML object>"
      ]
     },
     "metadata": {},
     "output_type": "display_data"
    },
    {
     "data": {
      "text/html": [
       "Run data is saved locally in <code>C:\\Users\\Saiga\\Documents\\NotebooksJupyter\\text_classification_benchmark\\wandb\\run-20220821_154100-2a16jf5m</code>"
      ],
      "text/plain": [
       "<IPython.core.display.HTML object>"
      ]
     },
     "metadata": {},
     "output_type": "display_data"
    },
    {
     "data": {
      "text/html": [
       "Syncing run <strong><a href=\"https://wandb.ai/benchmark-nlp/hyperopt/runs/2a16jf5m\" target=\"_blank\">winter-sweep-1</a></strong> to <a href=\"https://wandb.ai/benchmark-nlp/hyperopt\" target=\"_blank\">Weights & Biases</a> (<a href=\"https://wandb.me/run\" target=\"_blank\">docs</a>)<br/>Sweep page:  <a href=\"https://wandb.ai/benchmark-nlp/hyperopt/sweeps/v2xdezsx\" target=\"_blank\">https://wandb.ai/benchmark-nlp/hyperopt/sweeps/v2xdezsx</a>"
      ],
      "text/plain": [
       "<IPython.core.display.HTML object>"
      ]
     },
     "metadata": {},
     "output_type": "display_data"
    },
    {
     "data": {
      "text/html": [
       "Waiting for W&B process to finish... <strong style=\"color:green\">(success).</strong>"
      ],
      "text/plain": [
       "<IPython.core.display.HTML object>"
      ]
     },
     "metadata": {},
     "output_type": "display_data"
    },
    {
     "data": {
      "text/html": [
       "<style>\n",
       "    table.wandb td:nth-child(1) { padding: 0 10px; text-align: left ; width: auto;} td:nth-child(2) {text-align: left ; width: 100%}\n",
       "    .wandb-row { display: flex; flex-direction: row; flex-wrap: wrap; justify-content: flex-start; width: 100% }\n",
       "    .wandb-col { display: flex; flex-direction: column; flex-basis: 100%; flex: 1; padding: 10px; }\n",
       "    </style>\n",
       "<div class=\"wandb-row\"><div class=\"wandb-col\"><h3>Run history:</h3><br/><table class=\"wandb\"><tr><td>AUC</td><td>▁</td></tr><tr><td>AUC-PC</td><td>▁</td></tr><tr><td>accuracy</td><td>▁</td></tr><tr><td>f1 macro</td><td>▁</td></tr></table><br/></div><div class=\"wandb-col\"><h3>Run summary:</h3><br/><table class=\"wandb\"><tr><td>AUC</td><td>0.86374</td></tr><tr><td>AUC-PC</td><td>0.84989</td></tr><tr><td>accuracy</td><td>0.7836</td></tr><tr><td>f1 macro</td><td>0.78348</td></tr></table><br/></div></div>"
      ],
      "text/plain": [
       "<IPython.core.display.HTML object>"
      ]
     },
     "metadata": {},
     "output_type": "display_data"
    },
    {
     "data": {
      "text/html": [
       "Synced <strong style=\"color:#cdcd00\">winter-sweep-1</strong>: <a href=\"https://wandb.ai/benchmark-nlp/hyperopt/runs/2a16jf5m\" target=\"_blank\">https://wandb.ai/benchmark-nlp/hyperopt/runs/2a16jf5m</a><br/>Synced 5 W&B file(s), 0 media file(s), 0 artifact file(s) and 0 other file(s)"
      ],
      "text/plain": [
       "<IPython.core.display.HTML object>"
      ]
     },
     "metadata": {},
     "output_type": "display_data"
    },
    {
     "data": {
      "text/html": [
       "Find logs at: <code>.\\wandb\\run-20220821_154100-2a16jf5m\\logs</code>"
      ],
      "text/plain": [
       "<IPython.core.display.HTML object>"
      ]
     },
     "metadata": {},
     "output_type": "display_data"
    },
    {
     "name": "stderr",
     "output_type": "stream",
     "text": [
      "\u001b[34m\u001b[1mwandb\u001b[0m: Agent Starting Run: xsrorikr with config:\n",
      "\u001b[34m\u001b[1mwandb\u001b[0m: \tmax_features: sqrt\n",
      "\u001b[34m\u001b[1mwandb\u001b[0m: \tn_estimators: 49\n",
      "\u001b[34m\u001b[1mwandb\u001b[0m: \trandom_state: 42\n"
     ]
    },
    {
     "data": {
      "text/html": [
       "wandb version 0.13.1 is available!  To upgrade, please run:\n",
       " $ pip install wandb --upgrade"
      ],
      "text/plain": [
       "<IPython.core.display.HTML object>"
      ]
     },
     "metadata": {},
     "output_type": "display_data"
    },
    {
     "data": {
      "text/html": [
       "Tracking run with wandb version 0.12.21"
      ],
      "text/plain": [
       "<IPython.core.display.HTML object>"
      ]
     },
     "metadata": {},
     "output_type": "display_data"
    },
    {
     "data": {
      "text/html": [
       "Run data is saved locally in <code>C:\\Users\\Saiga\\Documents\\NotebooksJupyter\\text_classification_benchmark\\wandb\\run-20220821_154214-xsrorikr</code>"
      ],
      "text/plain": [
       "<IPython.core.display.HTML object>"
      ]
     },
     "metadata": {},
     "output_type": "display_data"
    },
    {
     "data": {
      "text/html": [
       "Syncing run <strong><a href=\"https://wandb.ai/benchmark-nlp/hyperopt/runs/xsrorikr\" target=\"_blank\">feasible-sweep-2</a></strong> to <a href=\"https://wandb.ai/benchmark-nlp/hyperopt\" target=\"_blank\">Weights & Biases</a> (<a href=\"https://wandb.me/run\" target=\"_blank\">docs</a>)<br/>Sweep page:  <a href=\"https://wandb.ai/benchmark-nlp/hyperopt/sweeps/v2xdezsx\" target=\"_blank\">https://wandb.ai/benchmark-nlp/hyperopt/sweeps/v2xdezsx</a>"
      ],
      "text/plain": [
       "<IPython.core.display.HTML object>"
      ]
     },
     "metadata": {},
     "output_type": "display_data"
    },
    {
     "data": {
      "text/html": [
       "Waiting for W&B process to finish... <strong style=\"color:green\">(success).</strong>"
      ],
      "text/plain": [
       "<IPython.core.display.HTML object>"
      ]
     },
     "metadata": {},
     "output_type": "display_data"
    },
    {
     "data": {
      "text/html": [
       "<style>\n",
       "    table.wandb td:nth-child(1) { padding: 0 10px; text-align: left ; width: auto;} td:nth-child(2) {text-align: left ; width: 100%}\n",
       "    .wandb-row { display: flex; flex-direction: row; flex-wrap: wrap; justify-content: flex-start; width: 100% }\n",
       "    .wandb-col { display: flex; flex-direction: column; flex-basis: 100%; flex: 1; padding: 10px; }\n",
       "    </style>\n",
       "<div class=\"wandb-row\"><div class=\"wandb-col\"><h3>Run history:</h3><br/><table class=\"wandb\"><tr><td>AUC</td><td>▁</td></tr><tr><td>AUC-PC</td><td>▁</td></tr><tr><td>accuracy</td><td>▁</td></tr><tr><td>f1 macro</td><td>▁</td></tr></table><br/></div><div class=\"wandb-col\"><h3>Run summary:</h3><br/><table class=\"wandb\"><tr><td>AUC</td><td>0.8513</td></tr><tr><td>AUC-PC</td><td>0.83443</td></tr><tr><td>accuracy</td><td>0.7736</td></tr><tr><td>f1 macro</td><td>0.77347</td></tr></table><br/></div></div>"
      ],
      "text/plain": [
       "<IPython.core.display.HTML object>"
      ]
     },
     "metadata": {},
     "output_type": "display_data"
    },
    {
     "data": {
      "text/html": [
       "Synced <strong style=\"color:#cdcd00\">feasible-sweep-2</strong>: <a href=\"https://wandb.ai/benchmark-nlp/hyperopt/runs/xsrorikr\" target=\"_blank\">https://wandb.ai/benchmark-nlp/hyperopt/runs/xsrorikr</a><br/>Synced 5 W&B file(s), 0 media file(s), 0 artifact file(s) and 0 other file(s)"
      ],
      "text/plain": [
       "<IPython.core.display.HTML object>"
      ]
     },
     "metadata": {},
     "output_type": "display_data"
    },
    {
     "data": {
      "text/html": [
       "Find logs at: <code>.\\wandb\\run-20220821_154214-xsrorikr\\logs</code>"
      ],
      "text/plain": [
       "<IPython.core.display.HTML object>"
      ]
     },
     "metadata": {},
     "output_type": "display_data"
    },
    {
     "name": "stderr",
     "output_type": "stream",
     "text": [
      "\u001b[34m\u001b[1mwandb\u001b[0m: Agent Starting Run: anuggtt7 with config:\n",
      "\u001b[34m\u001b[1mwandb\u001b[0m: \tmax_features: sqrt\n",
      "\u001b[34m\u001b[1mwandb\u001b[0m: \tn_estimators: 125\n",
      "\u001b[34m\u001b[1mwandb\u001b[0m: \trandom_state: 42\n"
     ]
    },
    {
     "data": {
      "text/html": [
       "wandb version 0.13.1 is available!  To upgrade, please run:\n",
       " $ pip install wandb --upgrade"
      ],
      "text/plain": [
       "<IPython.core.display.HTML object>"
      ]
     },
     "metadata": {},
     "output_type": "display_data"
    },
    {
     "data": {
      "text/html": [
       "Tracking run with wandb version 0.12.21"
      ],
      "text/plain": [
       "<IPython.core.display.HTML object>"
      ]
     },
     "metadata": {},
     "output_type": "display_data"
    },
    {
     "data": {
      "text/html": [
       "Run data is saved locally in <code>C:\\Users\\Saiga\\Documents\\NotebooksJupyter\\text_classification_benchmark\\wandb\\run-20220821_154301-anuggtt7</code>"
      ],
      "text/plain": [
       "<IPython.core.display.HTML object>"
      ]
     },
     "metadata": {},
     "output_type": "display_data"
    },
    {
     "data": {
      "text/html": [
       "Syncing run <strong><a href=\"https://wandb.ai/benchmark-nlp/hyperopt/runs/anuggtt7\" target=\"_blank\">dulcet-sweep-3</a></strong> to <a href=\"https://wandb.ai/benchmark-nlp/hyperopt\" target=\"_blank\">Weights & Biases</a> (<a href=\"https://wandb.me/run\" target=\"_blank\">docs</a>)<br/>Sweep page:  <a href=\"https://wandb.ai/benchmark-nlp/hyperopt/sweeps/v2xdezsx\" target=\"_blank\">https://wandb.ai/benchmark-nlp/hyperopt/sweeps/v2xdezsx</a>"
      ],
      "text/plain": [
       "<IPython.core.display.HTML object>"
      ]
     },
     "metadata": {},
     "output_type": "display_data"
    },
    {
     "data": {
      "text/html": [
       "Waiting for W&B process to finish... <strong style=\"color:green\">(success).</strong>"
      ],
      "text/plain": [
       "<IPython.core.display.HTML object>"
      ]
     },
     "metadata": {},
     "output_type": "display_data"
    },
    {
     "data": {
      "text/html": [
       "<style>\n",
       "    table.wandb td:nth-child(1) { padding: 0 10px; text-align: left ; width: auto;} td:nth-child(2) {text-align: left ; width: 100%}\n",
       "    .wandb-row { display: flex; flex-direction: row; flex-wrap: wrap; justify-content: flex-start; width: 100% }\n",
       "    .wandb-col { display: flex; flex-direction: column; flex-basis: 100%; flex: 1; padding: 10px; }\n",
       "    </style>\n",
       "<div class=\"wandb-row\"><div class=\"wandb-col\"><h3>Run history:</h3><br/><table class=\"wandb\"><tr><td>AUC</td><td>▁</td></tr><tr><td>AUC-PC</td><td>▁</td></tr><tr><td>accuracy</td><td>▁</td></tr><tr><td>f1 macro</td><td>▁</td></tr></table><br/></div><div class=\"wandb-col\"><h3>Run summary:</h3><br/><table class=\"wandb\"><tr><td>AUC</td><td>0.86197</td></tr><tr><td>AUC-PC</td><td>0.84799</td></tr><tr><td>accuracy</td><td>0.7838</td></tr><tr><td>f1 macro</td><td>0.78366</td></tr></table><br/></div></div>"
      ],
      "text/plain": [
       "<IPython.core.display.HTML object>"
      ]
     },
     "metadata": {},
     "output_type": "display_data"
    },
    {
     "data": {
      "text/html": [
       "Synced <strong style=\"color:#cdcd00\">dulcet-sweep-3</strong>: <a href=\"https://wandb.ai/benchmark-nlp/hyperopt/runs/anuggtt7\" target=\"_blank\">https://wandb.ai/benchmark-nlp/hyperopt/runs/anuggtt7</a><br/>Synced 5 W&B file(s), 0 media file(s), 0 artifact file(s) and 0 other file(s)"
      ],
      "text/plain": [
       "<IPython.core.display.HTML object>"
      ]
     },
     "metadata": {},
     "output_type": "display_data"
    },
    {
     "data": {
      "text/html": [
       "Find logs at: <code>.\\wandb\\run-20220821_154301-anuggtt7\\logs</code>"
      ],
      "text/plain": [
       "<IPython.core.display.HTML object>"
      ]
     },
     "metadata": {},
     "output_type": "display_data"
    },
    {
     "name": "stderr",
     "output_type": "stream",
     "text": [
      "\u001b[34m\u001b[1mwandb\u001b[0m: Agent Starting Run: ejwoxcxm with config:\n",
      "\u001b[34m\u001b[1mwandb\u001b[0m: \tmax_features: sqrt\n",
      "\u001b[34m\u001b[1mwandb\u001b[0m: \tn_estimators: 119\n",
      "\u001b[34m\u001b[1mwandb\u001b[0m: \trandom_state: 42\n"
     ]
    },
    {
     "data": {
      "text/html": [
       "wandb version 0.13.1 is available!  To upgrade, please run:\n",
       " $ pip install wandb --upgrade"
      ],
      "text/plain": [
       "<IPython.core.display.HTML object>"
      ]
     },
     "metadata": {},
     "output_type": "display_data"
    },
    {
     "data": {
      "text/html": [
       "Tracking run with wandb version 0.12.21"
      ],
      "text/plain": [
       "<IPython.core.display.HTML object>"
      ]
     },
     "metadata": {},
     "output_type": "display_data"
    },
    {
     "data": {
      "text/html": [
       "Run data is saved locally in <code>C:\\Users\\Saiga\\Documents\\NotebooksJupyter\\text_classification_benchmark\\wandb\\run-20220821_154403-ejwoxcxm</code>"
      ],
      "text/plain": [
       "<IPython.core.display.HTML object>"
      ]
     },
     "metadata": {},
     "output_type": "display_data"
    },
    {
     "data": {
      "text/html": [
       "Syncing run <strong><a href=\"https://wandb.ai/benchmark-nlp/hyperopt/runs/ejwoxcxm\" target=\"_blank\">laced-sweep-4</a></strong> to <a href=\"https://wandb.ai/benchmark-nlp/hyperopt\" target=\"_blank\">Weights & Biases</a> (<a href=\"https://wandb.me/run\" target=\"_blank\">docs</a>)<br/>Sweep page:  <a href=\"https://wandb.ai/benchmark-nlp/hyperopt/sweeps/v2xdezsx\" target=\"_blank\">https://wandb.ai/benchmark-nlp/hyperopt/sweeps/v2xdezsx</a>"
      ],
      "text/plain": [
       "<IPython.core.display.HTML object>"
      ]
     },
     "metadata": {},
     "output_type": "display_data"
    },
    {
     "data": {
      "text/html": [
       "Waiting for W&B process to finish... <strong style=\"color:green\">(success).</strong>"
      ],
      "text/plain": [
       "<IPython.core.display.HTML object>"
      ]
     },
     "metadata": {},
     "output_type": "display_data"
    },
    {
     "data": {
      "text/html": [
       "<style>\n",
       "    table.wandb td:nth-child(1) { padding: 0 10px; text-align: left ; width: auto;} td:nth-child(2) {text-align: left ; width: 100%}\n",
       "    .wandb-row { display: flex; flex-direction: row; flex-wrap: wrap; justify-content: flex-start; width: 100% }\n",
       "    .wandb-col { display: flex; flex-direction: column; flex-basis: 100%; flex: 1; padding: 10px; }\n",
       "    </style>\n",
       "<div class=\"wandb-row\"><div class=\"wandb-col\"><h3>Run history:</h3><br/><table class=\"wandb\"><tr><td>AUC</td><td>▁</td></tr><tr><td>AUC-PC</td><td>▁</td></tr><tr><td>accuracy</td><td>▁</td></tr><tr><td>f1 macro</td><td>▁</td></tr></table><br/></div><div class=\"wandb-col\"><h3>Run summary:</h3><br/><table class=\"wandb\"><tr><td>AUC</td><td>0.86179</td></tr><tr><td>AUC-PC</td><td>0.84747</td></tr><tr><td>accuracy</td><td>0.7842</td></tr><tr><td>f1 macro</td><td>0.78408</td></tr></table><br/></div></div>"
      ],
      "text/plain": [
       "<IPython.core.display.HTML object>"
      ]
     },
     "metadata": {},
     "output_type": "display_data"
    },
    {
     "data": {
      "text/html": [
       "Synced <strong style=\"color:#cdcd00\">laced-sweep-4</strong>: <a href=\"https://wandb.ai/benchmark-nlp/hyperopt/runs/ejwoxcxm\" target=\"_blank\">https://wandb.ai/benchmark-nlp/hyperopt/runs/ejwoxcxm</a><br/>Synced 5 W&B file(s), 0 media file(s), 0 artifact file(s) and 0 other file(s)"
      ],
      "text/plain": [
       "<IPython.core.display.HTML object>"
      ]
     },
     "metadata": {},
     "output_type": "display_data"
    },
    {
     "data": {
      "text/html": [
       "Find logs at: <code>.\\wandb\\run-20220821_154403-ejwoxcxm\\logs</code>"
      ],
      "text/plain": [
       "<IPython.core.display.HTML object>"
      ]
     },
     "metadata": {},
     "output_type": "display_data"
    },
    {
     "name": "stderr",
     "output_type": "stream",
     "text": [
      "\u001b[34m\u001b[1mwandb\u001b[0m: Agent Starting Run: puonn3ft with config:\n",
      "\u001b[34m\u001b[1mwandb\u001b[0m: \tmax_features: log2\n",
      "\u001b[34m\u001b[1mwandb\u001b[0m: \tn_estimators: 101\n",
      "\u001b[34m\u001b[1mwandb\u001b[0m: \trandom_state: 42\n"
     ]
    },
    {
     "data": {
      "text/html": [
       "wandb version 0.13.1 is available!  To upgrade, please run:\n",
       " $ pip install wandb --upgrade"
      ],
      "text/plain": [
       "<IPython.core.display.HTML object>"
      ]
     },
     "metadata": {},
     "output_type": "display_data"
    },
    {
     "data": {
      "text/html": [
       "Tracking run with wandb version 0.12.21"
      ],
      "text/plain": [
       "<IPython.core.display.HTML object>"
      ]
     },
     "metadata": {},
     "output_type": "display_data"
    },
    {
     "data": {
      "text/html": [
       "Run data is saved locally in <code>C:\\Users\\Saiga\\Documents\\NotebooksJupyter\\text_classification_benchmark\\wandb\\run-20220821_154506-puonn3ft</code>"
      ],
      "text/plain": [
       "<IPython.core.display.HTML object>"
      ]
     },
     "metadata": {},
     "output_type": "display_data"
    },
    {
     "data": {
      "text/html": [
       "Syncing run <strong><a href=\"https://wandb.ai/benchmark-nlp/hyperopt/runs/puonn3ft\" target=\"_blank\">bright-sweep-5</a></strong> to <a href=\"https://wandb.ai/benchmark-nlp/hyperopt\" target=\"_blank\">Weights & Biases</a> (<a href=\"https://wandb.me/run\" target=\"_blank\">docs</a>)<br/>Sweep page:  <a href=\"https://wandb.ai/benchmark-nlp/hyperopt/sweeps/v2xdezsx\" target=\"_blank\">https://wandb.ai/benchmark-nlp/hyperopt/sweeps/v2xdezsx</a>"
      ],
      "text/plain": [
       "<IPython.core.display.HTML object>"
      ]
     },
     "metadata": {},
     "output_type": "display_data"
    },
    {
     "data": {
      "text/html": [
       "Waiting for W&B process to finish... <strong style=\"color:green\">(success).</strong>"
      ],
      "text/plain": [
       "<IPython.core.display.HTML object>"
      ]
     },
     "metadata": {},
     "output_type": "display_data"
    },
    {
     "data": {
      "text/html": [
       "<style>\n",
       "    table.wandb td:nth-child(1) { padding: 0 10px; text-align: left ; width: auto;} td:nth-child(2) {text-align: left ; width: 100%}\n",
       "    .wandb-row { display: flex; flex-direction: row; flex-wrap: wrap; justify-content: flex-start; width: 100% }\n",
       "    .wandb-col { display: flex; flex-direction: column; flex-basis: 100%; flex: 1; padding: 10px; }\n",
       "    </style>\n",
       "<div class=\"wandb-row\"><div class=\"wandb-col\"><h3>Run history:</h3><br/><table class=\"wandb\"><tr><td>AUC</td><td>▁</td></tr><tr><td>AUC-PC</td><td>▁</td></tr><tr><td>accuracy</td><td>▁</td></tr><tr><td>f1 macro</td><td>▁</td></tr></table><br/></div><div class=\"wandb-col\"><h3>Run summary:</h3><br/><table class=\"wandb\"><tr><td>AUC</td><td>0.85472</td></tr><tr><td>AUC-PC</td><td>0.83684</td></tr><tr><td>accuracy</td><td>0.773</td></tr><tr><td>f1 macro</td><td>0.77287</td></tr></table><br/></div></div>"
      ],
      "text/plain": [
       "<IPython.core.display.HTML object>"
      ]
     },
     "metadata": {},
     "output_type": "display_data"
    },
    {
     "data": {
      "text/html": [
       "Synced <strong style=\"color:#cdcd00\">bright-sweep-5</strong>: <a href=\"https://wandb.ai/benchmark-nlp/hyperopt/runs/puonn3ft\" target=\"_blank\">https://wandb.ai/benchmark-nlp/hyperopt/runs/puonn3ft</a><br/>Synced 5 W&B file(s), 0 media file(s), 0 artifact file(s) and 0 other file(s)"
      ],
      "text/plain": [
       "<IPython.core.display.HTML object>"
      ]
     },
     "metadata": {},
     "output_type": "display_data"
    },
    {
     "data": {
      "text/html": [
       "Find logs at: <code>.\\wandb\\run-20220821_154506-puonn3ft\\logs</code>"
      ],
      "text/plain": [
       "<IPython.core.display.HTML object>"
      ]
     },
     "metadata": {},
     "output_type": "display_data"
    },
    {
     "name": "stderr",
     "output_type": "stream",
     "text": [
      "\u001b[34m\u001b[1mwandb\u001b[0m: Agent Starting Run: n01nlkea with config:\n",
      "\u001b[34m\u001b[1mwandb\u001b[0m: \tmax_features: log2\n",
      "\u001b[34m\u001b[1mwandb\u001b[0m: \tn_estimators: 170\n",
      "\u001b[34m\u001b[1mwandb\u001b[0m: \trandom_state: 42\n"
     ]
    },
    {
     "data": {
      "text/html": [
       "wandb version 0.13.1 is available!  To upgrade, please run:\n",
       " $ pip install wandb --upgrade"
      ],
      "text/plain": [
       "<IPython.core.display.HTML object>"
      ]
     },
     "metadata": {},
     "output_type": "display_data"
    },
    {
     "data": {
      "text/html": [
       "Tracking run with wandb version 0.12.21"
      ],
      "text/plain": [
       "<IPython.core.display.HTML object>"
      ]
     },
     "metadata": {},
     "output_type": "display_data"
    },
    {
     "data": {
      "text/html": [
       "Run data is saved locally in <code>C:\\Users\\Saiga\\Documents\\NotebooksJupyter\\text_classification_benchmark\\wandb\\run-20220821_154553-n01nlkea</code>"
      ],
      "text/plain": [
       "<IPython.core.display.HTML object>"
      ]
     },
     "metadata": {},
     "output_type": "display_data"
    },
    {
     "data": {
      "text/html": [
       "Syncing run <strong><a href=\"https://wandb.ai/benchmark-nlp/hyperopt/runs/n01nlkea\" target=\"_blank\">jumping-sweep-6</a></strong> to <a href=\"https://wandb.ai/benchmark-nlp/hyperopt\" target=\"_blank\">Weights & Biases</a> (<a href=\"https://wandb.me/run\" target=\"_blank\">docs</a>)<br/>Sweep page:  <a href=\"https://wandb.ai/benchmark-nlp/hyperopt/sweeps/v2xdezsx\" target=\"_blank\">https://wandb.ai/benchmark-nlp/hyperopt/sweeps/v2xdezsx</a>"
      ],
      "text/plain": [
       "<IPython.core.display.HTML object>"
      ]
     },
     "metadata": {},
     "output_type": "display_data"
    },
    {
     "data": {
      "text/html": [
       "Waiting for W&B process to finish... <strong style=\"color:green\">(success).</strong>"
      ],
      "text/plain": [
       "<IPython.core.display.HTML object>"
      ]
     },
     "metadata": {},
     "output_type": "display_data"
    },
    {
     "data": {
      "text/html": [
       "<style>\n",
       "    table.wandb td:nth-child(1) { padding: 0 10px; text-align: left ; width: auto;} td:nth-child(2) {text-align: left ; width: 100%}\n",
       "    .wandb-row { display: flex; flex-direction: row; flex-wrap: wrap; justify-content: flex-start; width: 100% }\n",
       "    .wandb-col { display: flex; flex-direction: column; flex-basis: 100%; flex: 1; padding: 10px; }\n",
       "    </style>\n",
       "<div class=\"wandb-row\"><div class=\"wandb-col\"><h3>Run history:</h3><br/><table class=\"wandb\"><tr><td>AUC</td><td>▁</td></tr><tr><td>AUC-PC</td><td>▁</td></tr><tr><td>accuracy</td><td>▁</td></tr><tr><td>f1 macro</td><td>▁</td></tr></table><br/></div><div class=\"wandb-col\"><h3>Run summary:</h3><br/><table class=\"wandb\"><tr><td>AUC</td><td>0.85999</td></tr><tr><td>AUC-PC</td><td>0.84429</td></tr><tr><td>accuracy</td><td>0.7808</td></tr><tr><td>f1 macro</td><td>0.78073</td></tr></table><br/></div></div>"
      ],
      "text/plain": [
       "<IPython.core.display.HTML object>"
      ]
     },
     "metadata": {},
     "output_type": "display_data"
    },
    {
     "data": {
      "text/html": [
       "Synced <strong style=\"color:#cdcd00\">jumping-sweep-6</strong>: <a href=\"https://wandb.ai/benchmark-nlp/hyperopt/runs/n01nlkea\" target=\"_blank\">https://wandb.ai/benchmark-nlp/hyperopt/runs/n01nlkea</a><br/>Synced 5 W&B file(s), 0 media file(s), 0 artifact file(s) and 0 other file(s)"
      ],
      "text/plain": [
       "<IPython.core.display.HTML object>"
      ]
     },
     "metadata": {},
     "output_type": "display_data"
    },
    {
     "data": {
      "text/html": [
       "Find logs at: <code>.\\wandb\\run-20220821_154553-n01nlkea\\logs</code>"
      ],
      "text/plain": [
       "<IPython.core.display.HTML object>"
      ]
     },
     "metadata": {},
     "output_type": "display_data"
    },
    {
     "name": "stderr",
     "output_type": "stream",
     "text": [
      "\u001b[34m\u001b[1mwandb\u001b[0m: Agent Starting Run: u6ay4k49 with config:\n",
      "\u001b[34m\u001b[1mwandb\u001b[0m: \tmax_features: sqrt\n",
      "\u001b[34m\u001b[1mwandb\u001b[0m: \tn_estimators: 196\n",
      "\u001b[34m\u001b[1mwandb\u001b[0m: \trandom_state: 42\n"
     ]
    },
    {
     "data": {
      "text/html": [
       "wandb version 0.13.1 is available!  To upgrade, please run:\n",
       " $ pip install wandb --upgrade"
      ],
      "text/plain": [
       "<IPython.core.display.HTML object>"
      ]
     },
     "metadata": {},
     "output_type": "display_data"
    },
    {
     "data": {
      "text/html": [
       "Tracking run with wandb version 0.12.21"
      ],
      "text/plain": [
       "<IPython.core.display.HTML object>"
      ]
     },
     "metadata": {},
     "output_type": "display_data"
    },
    {
     "data": {
      "text/html": [
       "Run data is saved locally in <code>C:\\Users\\Saiga\\Documents\\NotebooksJupyter\\text_classification_benchmark\\wandb\\run-20220821_154645-u6ay4k49</code>"
      ],
      "text/plain": [
       "<IPython.core.display.HTML object>"
      ]
     },
     "metadata": {},
     "output_type": "display_data"
    },
    {
     "data": {
      "text/html": [
       "Syncing run <strong><a href=\"https://wandb.ai/benchmark-nlp/hyperopt/runs/u6ay4k49\" target=\"_blank\">happy-sweep-7</a></strong> to <a href=\"https://wandb.ai/benchmark-nlp/hyperopt\" target=\"_blank\">Weights & Biases</a> (<a href=\"https://wandb.me/run\" target=\"_blank\">docs</a>)<br/>Sweep page:  <a href=\"https://wandb.ai/benchmark-nlp/hyperopt/sweeps/v2xdezsx\" target=\"_blank\">https://wandb.ai/benchmark-nlp/hyperopt/sweeps/v2xdezsx</a>"
      ],
      "text/plain": [
       "<IPython.core.display.HTML object>"
      ]
     },
     "metadata": {},
     "output_type": "display_data"
    },
    {
     "data": {
      "text/html": [
       "Waiting for W&B process to finish... <strong style=\"color:green\">(success).</strong>"
      ],
      "text/plain": [
       "<IPython.core.display.HTML object>"
      ]
     },
     "metadata": {},
     "output_type": "display_data"
    },
    {
     "data": {
      "text/html": [
       "<style>\n",
       "    table.wandb td:nth-child(1) { padding: 0 10px; text-align: left ; width: auto;} td:nth-child(2) {text-align: left ; width: 100%}\n",
       "    .wandb-row { display: flex; flex-direction: row; flex-wrap: wrap; justify-content: flex-start; width: 100% }\n",
       "    .wandb-col { display: flex; flex-direction: column; flex-basis: 100%; flex: 1; padding: 10px; }\n",
       "    </style>\n",
       "<div class=\"wandb-row\"><div class=\"wandb-col\"><h3>Run history:</h3><br/><table class=\"wandb\"><tr><td>AUC</td><td>▁</td></tr><tr><td>AUC-PC</td><td>▁</td></tr><tr><td>accuracy</td><td>▁</td></tr><tr><td>f1 macro</td><td>▁</td></tr></table><br/></div><div class=\"wandb-col\"><h3>Run summary:</h3><br/><table class=\"wandb\"><tr><td>AUC</td><td>0.86444</td></tr><tr><td>AUC-PC</td><td>0.8508</td></tr><tr><td>accuracy</td><td>0.7836</td></tr><tr><td>f1 macro</td><td>0.78351</td></tr></table><br/></div></div>"
      ],
      "text/plain": [
       "<IPython.core.display.HTML object>"
      ]
     },
     "metadata": {},
     "output_type": "display_data"
    },
    {
     "data": {
      "text/html": [
       "Synced <strong style=\"color:#cdcd00\">happy-sweep-7</strong>: <a href=\"https://wandb.ai/benchmark-nlp/hyperopt/runs/u6ay4k49\" target=\"_blank\">https://wandb.ai/benchmark-nlp/hyperopt/runs/u6ay4k49</a><br/>Synced 5 W&B file(s), 0 media file(s), 0 artifact file(s) and 0 other file(s)"
      ],
      "text/plain": [
       "<IPython.core.display.HTML object>"
      ]
     },
     "metadata": {},
     "output_type": "display_data"
    },
    {
     "data": {
      "text/html": [
       "Find logs at: <code>.\\wandb\\run-20220821_154645-u6ay4k49\\logs</code>"
      ],
      "text/plain": [
       "<IPython.core.display.HTML object>"
      ]
     },
     "metadata": {},
     "output_type": "display_data"
    },
    {
     "name": "stderr",
     "output_type": "stream",
     "text": [
      "\u001b[34m\u001b[1mwandb\u001b[0m: Agent Starting Run: 3mltyxg9 with config:\n",
      "\u001b[34m\u001b[1mwandb\u001b[0m: \tmax_features: sqrt\n",
      "\u001b[34m\u001b[1mwandb\u001b[0m: \tn_estimators: 103\n",
      "\u001b[34m\u001b[1mwandb\u001b[0m: \trandom_state: 42\n"
     ]
    },
    {
     "data": {
      "text/html": [
       "wandb version 0.13.1 is available!  To upgrade, please run:\n",
       " $ pip install wandb --upgrade"
      ],
      "text/plain": [
       "<IPython.core.display.HTML object>"
      ]
     },
     "metadata": {},
     "output_type": "display_data"
    },
    {
     "data": {
      "text/html": [
       "Tracking run with wandb version 0.12.21"
      ],
      "text/plain": [
       "<IPython.core.display.HTML object>"
      ]
     },
     "metadata": {},
     "output_type": "display_data"
    },
    {
     "data": {
      "text/html": [
       "Run data is saved locally in <code>C:\\Users\\Saiga\\Documents\\NotebooksJupyter\\text_classification_benchmark\\wandb\\run-20220821_154808-3mltyxg9</code>"
      ],
      "text/plain": [
       "<IPython.core.display.HTML object>"
      ]
     },
     "metadata": {},
     "output_type": "display_data"
    },
    {
     "data": {
      "text/html": [
       "Syncing run <strong><a href=\"https://wandb.ai/benchmark-nlp/hyperopt/runs/3mltyxg9\" target=\"_blank\">generous-sweep-8</a></strong> to <a href=\"https://wandb.ai/benchmark-nlp/hyperopt\" target=\"_blank\">Weights & Biases</a> (<a href=\"https://wandb.me/run\" target=\"_blank\">docs</a>)<br/>Sweep page:  <a href=\"https://wandb.ai/benchmark-nlp/hyperopt/sweeps/v2xdezsx\" target=\"_blank\">https://wandb.ai/benchmark-nlp/hyperopt/sweeps/v2xdezsx</a>"
      ],
      "text/plain": [
       "<IPython.core.display.HTML object>"
      ]
     },
     "metadata": {},
     "output_type": "display_data"
    },
    {
     "data": {
      "text/html": [
       "Waiting for W&B process to finish... <strong style=\"color:green\">(success).</strong>"
      ],
      "text/plain": [
       "<IPython.core.display.HTML object>"
      ]
     },
     "metadata": {},
     "output_type": "display_data"
    },
    {
     "data": {
      "text/html": [
       "<style>\n",
       "    table.wandb td:nth-child(1) { padding: 0 10px; text-align: left ; width: auto;} td:nth-child(2) {text-align: left ; width: 100%}\n",
       "    .wandb-row { display: flex; flex-direction: row; flex-wrap: wrap; justify-content: flex-start; width: 100% }\n",
       "    .wandb-col { display: flex; flex-direction: column; flex-basis: 100%; flex: 1; padding: 10px; }\n",
       "    </style>\n",
       "<div class=\"wandb-row\"><div class=\"wandb-col\"><h3>Run history:</h3><br/><table class=\"wandb\"><tr><td>AUC</td><td>▁</td></tr><tr><td>AUC-PC</td><td>▁</td></tr><tr><td>accuracy</td><td>▁</td></tr><tr><td>f1 macro</td><td>▁</td></tr></table><br/></div><div class=\"wandb-col\"><h3>Run summary:</h3><br/><table class=\"wandb\"><tr><td>AUC</td><td>0.86058</td></tr><tr><td>AUC-PC</td><td>0.84556</td></tr><tr><td>accuracy</td><td>0.7846</td></tr><tr><td>f1 macro</td><td>0.78447</td></tr></table><br/></div></div>"
      ],
      "text/plain": [
       "<IPython.core.display.HTML object>"
      ]
     },
     "metadata": {},
     "output_type": "display_data"
    },
    {
     "data": {
      "text/html": [
       "Synced <strong style=\"color:#cdcd00\">generous-sweep-8</strong>: <a href=\"https://wandb.ai/benchmark-nlp/hyperopt/runs/3mltyxg9\" target=\"_blank\">https://wandb.ai/benchmark-nlp/hyperopt/runs/3mltyxg9</a><br/>Synced 5 W&B file(s), 0 media file(s), 0 artifact file(s) and 0 other file(s)"
      ],
      "text/plain": [
       "<IPython.core.display.HTML object>"
      ]
     },
     "metadata": {},
     "output_type": "display_data"
    },
    {
     "data": {
      "text/html": [
       "Find logs at: <code>.\\wandb\\run-20220821_154808-3mltyxg9\\logs</code>"
      ],
      "text/plain": [
       "<IPython.core.display.HTML object>"
      ]
     },
     "metadata": {},
     "output_type": "display_data"
    },
    {
     "name": "stderr",
     "output_type": "stream",
     "text": [
      "\u001b[34m\u001b[1mwandb\u001b[0m: Agent Starting Run: d22p2z6z with config:\n",
      "\u001b[34m\u001b[1mwandb\u001b[0m: \tmax_features: sqrt\n",
      "\u001b[34m\u001b[1mwandb\u001b[0m: \tn_estimators: 165\n",
      "\u001b[34m\u001b[1mwandb\u001b[0m: \trandom_state: 42\n"
     ]
    },
    {
     "data": {
      "text/html": [
       "wandb version 0.13.1 is available!  To upgrade, please run:\n",
       " $ pip install wandb --upgrade"
      ],
      "text/plain": [
       "<IPython.core.display.HTML object>"
      ]
     },
     "metadata": {},
     "output_type": "display_data"
    },
    {
     "data": {
      "text/html": [
       "Tracking run with wandb version 0.12.21"
      ],
      "text/plain": [
       "<IPython.core.display.HTML object>"
      ]
     },
     "metadata": {},
     "output_type": "display_data"
    },
    {
     "data": {
      "text/html": [
       "Run data is saved locally in <code>C:\\Users\\Saiga\\Documents\\NotebooksJupyter\\text_classification_benchmark\\wandb\\run-20220821_154906-d22p2z6z</code>"
      ],
      "text/plain": [
       "<IPython.core.display.HTML object>"
      ]
     },
     "metadata": {},
     "output_type": "display_data"
    },
    {
     "data": {
      "text/html": [
       "Syncing run <strong><a href=\"https://wandb.ai/benchmark-nlp/hyperopt/runs/d22p2z6z\" target=\"_blank\">eternal-sweep-9</a></strong> to <a href=\"https://wandb.ai/benchmark-nlp/hyperopt\" target=\"_blank\">Weights & Biases</a> (<a href=\"https://wandb.me/run\" target=\"_blank\">docs</a>)<br/>Sweep page:  <a href=\"https://wandb.ai/benchmark-nlp/hyperopt/sweeps/v2xdezsx\" target=\"_blank\">https://wandb.ai/benchmark-nlp/hyperopt/sweeps/v2xdezsx</a>"
      ],
      "text/plain": [
       "<IPython.core.display.HTML object>"
      ]
     },
     "metadata": {},
     "output_type": "display_data"
    },
    {
     "data": {
      "text/html": [
       "Waiting for W&B process to finish... <strong style=\"color:green\">(success).</strong>"
      ],
      "text/plain": [
       "<IPython.core.display.HTML object>"
      ]
     },
     "metadata": {},
     "output_type": "display_data"
    },
    {
     "data": {
      "text/html": [
       "<style>\n",
       "    table.wandb td:nth-child(1) { padding: 0 10px; text-align: left ; width: auto;} td:nth-child(2) {text-align: left ; width: 100%}\n",
       "    .wandb-row { display: flex; flex-direction: row; flex-wrap: wrap; justify-content: flex-start; width: 100% }\n",
       "    .wandb-col { display: flex; flex-direction: column; flex-basis: 100%; flex: 1; padding: 10px; }\n",
       "    </style>\n",
       "<div class=\"wandb-row\"><div class=\"wandb-col\"><h3>Run history:</h3><br/><table class=\"wandb\"><tr><td>AUC</td><td>▁</td></tr><tr><td>AUC-PC</td><td>▁</td></tr><tr><td>accuracy</td><td>▁</td></tr><tr><td>f1 macro</td><td>▁</td></tr></table><br/></div><div class=\"wandb-col\"><h3>Run summary:</h3><br/><table class=\"wandb\"><tr><td>AUC</td><td>0.86374</td></tr><tr><td>AUC-PC</td><td>0.84989</td></tr><tr><td>accuracy</td><td>0.7836</td></tr><tr><td>f1 macro</td><td>0.78348</td></tr></table><br/></div></div>"
      ],
      "text/plain": [
       "<IPython.core.display.HTML object>"
      ]
     },
     "metadata": {},
     "output_type": "display_data"
    },
    {
     "data": {
      "text/html": [
       "Synced <strong style=\"color:#cdcd00\">eternal-sweep-9</strong>: <a href=\"https://wandb.ai/benchmark-nlp/hyperopt/runs/d22p2z6z\" target=\"_blank\">https://wandb.ai/benchmark-nlp/hyperopt/runs/d22p2z6z</a><br/>Synced 5 W&B file(s), 0 media file(s), 0 artifact file(s) and 0 other file(s)"
      ],
      "text/plain": [
       "<IPython.core.display.HTML object>"
      ]
     },
     "metadata": {},
     "output_type": "display_data"
    },
    {
     "data": {
      "text/html": [
       "Find logs at: <code>.\\wandb\\run-20220821_154906-d22p2z6z\\logs</code>"
      ],
      "text/plain": [
       "<IPython.core.display.HTML object>"
      ]
     },
     "metadata": {},
     "output_type": "display_data"
    },
    {
     "name": "stderr",
     "output_type": "stream",
     "text": [
      "\u001b[34m\u001b[1mwandb\u001b[0m: Sweep Agent: Waiting for job.\n",
      "\u001b[34m\u001b[1mwandb\u001b[0m: Job received.\n",
      "\u001b[34m\u001b[1mwandb\u001b[0m: Agent Starting Run: xfyg7kxx with config:\n",
      "\u001b[34m\u001b[1mwandb\u001b[0m: \tmax_features: log2\n",
      "\u001b[34m\u001b[1mwandb\u001b[0m: \tn_estimators: 139\n",
      "\u001b[34m\u001b[1mwandb\u001b[0m: \trandom_state: 42\n"
     ]
    },
    {
     "data": {
      "text/html": [
       "wandb version 0.13.1 is available!  To upgrade, please run:\n",
       " $ pip install wandb --upgrade"
      ],
      "text/plain": [
       "<IPython.core.display.HTML object>"
      ]
     },
     "metadata": {},
     "output_type": "display_data"
    },
    {
     "data": {
      "text/html": [
       "Tracking run with wandb version 0.12.21"
      ],
      "text/plain": [
       "<IPython.core.display.HTML object>"
      ]
     },
     "metadata": {},
     "output_type": "display_data"
    },
    {
     "data": {
      "text/html": [
       "Run data is saved locally in <code>C:\\Users\\Saiga\\Documents\\NotebooksJupyter\\text_classification_benchmark\\wandb\\run-20220821_155028-xfyg7kxx</code>"
      ],
      "text/plain": [
       "<IPython.core.display.HTML object>"
      ]
     },
     "metadata": {},
     "output_type": "display_data"
    },
    {
     "data": {
      "text/html": [
       "Syncing run <strong><a href=\"https://wandb.ai/benchmark-nlp/hyperopt/runs/xfyg7kxx\" target=\"_blank\">solar-sweep-10</a></strong> to <a href=\"https://wandb.ai/benchmark-nlp/hyperopt\" target=\"_blank\">Weights & Biases</a> (<a href=\"https://wandb.me/run\" target=\"_blank\">docs</a>)<br/>Sweep page:  <a href=\"https://wandb.ai/benchmark-nlp/hyperopt/sweeps/v2xdezsx\" target=\"_blank\">https://wandb.ai/benchmark-nlp/hyperopt/sweeps/v2xdezsx</a>"
      ],
      "text/plain": [
       "<IPython.core.display.HTML object>"
      ]
     },
     "metadata": {},
     "output_type": "display_data"
    },
    {
     "data": {
      "text/html": [
       "Waiting for W&B process to finish... <strong style=\"color:green\">(success).</strong>"
      ],
      "text/plain": [
       "<IPython.core.display.HTML object>"
      ]
     },
     "metadata": {},
     "output_type": "display_data"
    },
    {
     "data": {
      "text/html": [
       "<style>\n",
       "    table.wandb td:nth-child(1) { padding: 0 10px; text-align: left ; width: auto;} td:nth-child(2) {text-align: left ; width: 100%}\n",
       "    .wandb-row { display: flex; flex-direction: row; flex-wrap: wrap; justify-content: flex-start; width: 100% }\n",
       "    .wandb-col { display: flex; flex-direction: column; flex-basis: 100%; flex: 1; padding: 10px; }\n",
       "    </style>\n",
       "<div class=\"wandb-row\"><div class=\"wandb-col\"><h3>Run history:</h3><br/><table class=\"wandb\"><tr><td>AUC</td><td>▁</td></tr><tr><td>AUC-PC</td><td>▁</td></tr><tr><td>accuracy</td><td>▁</td></tr><tr><td>f1 macro</td><td>▁</td></tr></table><br/></div><div class=\"wandb-col\"><h3>Run summary:</h3><br/><table class=\"wandb\"><tr><td>AUC</td><td>0.85866</td></tr><tr><td>AUC-PC</td><td>0.84285</td></tr><tr><td>accuracy</td><td>0.7754</td></tr><tr><td>f1 macro</td><td>0.77526</td></tr></table><br/></div></div>"
      ],
      "text/plain": [
       "<IPython.core.display.HTML object>"
      ]
     },
     "metadata": {},
     "output_type": "display_data"
    },
    {
     "data": {
      "text/html": [
       "Synced <strong style=\"color:#cdcd00\">solar-sweep-10</strong>: <a href=\"https://wandb.ai/benchmark-nlp/hyperopt/runs/xfyg7kxx\" target=\"_blank\">https://wandb.ai/benchmark-nlp/hyperopt/runs/xfyg7kxx</a><br/>Synced 5 W&B file(s), 0 media file(s), 0 artifact file(s) and 0 other file(s)"
      ],
      "text/plain": [
       "<IPython.core.display.HTML object>"
      ]
     },
     "metadata": {},
     "output_type": "display_data"
    },
    {
     "data": {
      "text/html": [
       "Find logs at: <code>.\\wandb\\run-20220821_155028-xfyg7kxx\\logs</code>"
      ],
      "text/plain": [
       "<IPython.core.display.HTML object>"
      ]
     },
     "metadata": {},
     "output_type": "display_data"
    },
    {
     "data": {
      "text/plain": [
       "0.0015362497353820191"
      ]
     },
     "execution_count": 13,
     "metadata": {},
     "output_type": "execute_result"
    }
   ],
   "source": [
    "#Don't forget to name the sweep instance   \n",
    "name = 'rf_ft_imdb' #change here\n",
    "sweep_config['name'] = name\n",
    "#Generate a sweep_id\n",
    "sweep_id = wandb.sweep(sweep_config, project=\"hyperopt\")\n",
    "\n",
    "def train_fasttext(config = None,\n",
    "          train=embedded_train_imdb, #Change here\n",
    "          val=embedded_val_imdb): #change here\n",
    "    # Initialize a new wandb run\n",
    "    with wandb.init(config=config, group=name):\n",
    "        # If called by wandb.agent, as below,\n",
    "        # this config will be set by Sweep Controller\n",
    "        config = wandb.config\n",
    "        clf = RandomForestClassifier(n_estimators=config.n_estimators,\n",
    "                                max_features=config.max_features,\n",
    "                                 random_state=config.random_state) #set the hyperparams here\n",
    "        pipe = Pipeline([('clf',clf)])\n",
    "        pipe.fit(train.fillna(0).drop(['label'],axis=1),train['label'])\n",
    "        \n",
    "        #Make predictions\n",
    "        pred_val = pipe.predict(val.fillna(0).drop(['label'],axis=1))\n",
    "        pred_prob_val = pipe.predict_proba(val.fillna(0).drop(['label'],axis=1))[:,1]\n",
    "        accuracy = accuracy_score(val['label'],pred_val)\n",
    "        f1_macro = f1_score(val['label'],pred_val,average='macro')\n",
    "        if train['label'].nunique() <=2:\n",
    "            aucpc =  average_precision_score(val['label'],pred_prob_val)\n",
    "            auc = roc_auc_score(val['label'],pred_prob_val)\n",
    "            #Log predictions on WandB\n",
    "        else:\n",
    "            aucpc = '-'\n",
    "            auc = '-'\n",
    "        wandb.log({\"accuracy\": accuracy, \"f1 macro\":f1_macro, \"AUC-PC\":aucpc, 'AUC':auc })\n",
    "\n",
    "\n",
    "#Track emissions\n",
    "tracker = EmissionsTracker(project_name=name,log_level='warning', measure_power_secs=300,\n",
    "                           output_file='output/emissions_hyperopt.csv')\n",
    "#Launch the agent\n",
    "tracker.start()\n",
    "wandb.agent(sweep_id, train_fasttext,count=OPT_ITER)\n",
    "tracker.stop()"
   ]
  },
  {
   "cell_type": "markdown",
   "id": "28fbc6d7",
   "metadata": {},
   "source": [
    "#### YELP"
   ]
  },
  {
   "cell_type": "code",
   "execution_count": null,
   "id": "469357b6",
   "metadata": {
    "scrolled": true
   },
   "outputs": [
    {
     "name": "stderr",
     "output_type": "stream",
     "text": [
      "\u001b[34m\u001b[1mwandb\u001b[0m: \u001b[33mWARNING\u001b[0m Calling wandb.login() after wandb.init() has no effect.\n"
     ]
    },
    {
     "name": "stdout",
     "output_type": "stream",
     "text": [
      "Create sweep with ID: 49o4urgd\n",
      "Sweep URL: https://wandb.ai/benchmark-nlp/hyperopt/sweeps/49o4urgd\n"
     ]
    },
    {
     "name": "stderr",
     "output_type": "stream",
     "text": [
      "\u001b[34m\u001b[1mwandb\u001b[0m: Agent Starting Run: ee38rpi0 with config:\n",
      "\u001b[34m\u001b[1mwandb\u001b[0m: \tmax_features: sqrt\n",
      "\u001b[34m\u001b[1mwandb\u001b[0m: \tn_estimators: 46\n",
      "\u001b[34m\u001b[1mwandb\u001b[0m: \trandom_state: 42\n"
     ]
    },
    {
     "data": {
      "text/html": [
       "wandb version 0.13.4 is available!  To upgrade, please run:\n",
       " $ pip install wandb --upgrade"
      ],
      "text/plain": [
       "<IPython.core.display.HTML object>"
      ]
     },
     "metadata": {},
     "output_type": "display_data"
    },
    {
     "data": {
      "text/html": [
       "Tracking run with wandb version 0.12.21"
      ],
      "text/plain": [
       "<IPython.core.display.HTML object>"
      ]
     },
     "metadata": {},
     "output_type": "display_data"
    },
    {
     "data": {
      "text/html": [
       "Run data is saved locally in <code>C:\\Users\\Saiga\\Documents\\NotebooksJupyter\\text_classification_benchmark\\wandb\\run-20221011_124938-ee38rpi0</code>"
      ],
      "text/plain": [
       "<IPython.core.display.HTML object>"
      ]
     },
     "metadata": {},
     "output_type": "display_data"
    },
    {
     "data": {
      "text/html": [
       "Syncing run <strong><a href=\"https://wandb.ai/benchmark-nlp/hyperopt/runs/ee38rpi0\" target=\"_blank\">summer-sweep-1</a></strong> to <a href=\"https://wandb.ai/benchmark-nlp/hyperopt\" target=\"_blank\">Weights & Biases</a> (<a href=\"https://wandb.me/run\" target=\"_blank\">docs</a>)<br/>Sweep page:  <a href=\"https://wandb.ai/benchmark-nlp/hyperopt/sweeps/49o4urgd\" target=\"_blank\">https://wandb.ai/benchmark-nlp/hyperopt/sweeps/49o4urgd</a>"
      ],
      "text/plain": [
       "<IPython.core.display.HTML object>"
      ]
     },
     "metadata": {},
     "output_type": "display_data"
    },
    {
     "data": {
      "text/html": [
       "Waiting for W&B process to finish... <strong style=\"color:green\">(success).</strong>"
      ],
      "text/plain": [
       "<IPython.core.display.HTML object>"
      ]
     },
     "metadata": {},
     "output_type": "display_data"
    },
    {
     "data": {
      "text/html": [
       "<style>\n",
       "    table.wandb td:nth-child(1) { padding: 0 10px; text-align: left ; width: auto;} td:nth-child(2) {text-align: left ; width: 100%}\n",
       "    .wandb-row { display: flex; flex-direction: row; flex-wrap: wrap; justify-content: flex-start; width: 100% }\n",
       "    .wandb-col { display: flex; flex-direction: column; flex-basis: 100%; flex: 1; padding: 10px; }\n",
       "    </style>\n",
       "<div class=\"wandb-row\"><div class=\"wandb-col\"><h3>Run history:</h3><br/><table class=\"wandb\"><tr><td>AUC</td><td>▁</td></tr><tr><td>AUC-PC</td><td>▁</td></tr><tr><td>accuracy</td><td>▁</td></tr><tr><td>f1 macro</td><td>▁</td></tr></table><br/></div><div class=\"wandb-col\"><h3>Run summary:</h3><br/><table class=\"wandb\"><tr><td>AUC</td><td>0.94526</td></tr><tr><td>AUC-PC</td><td>0.94114</td></tr><tr><td>accuracy</td><td>0.87116</td></tr><tr><td>f1 macro</td><td>0.87104</td></tr></table><br/></div></div>"
      ],
      "text/plain": [
       "<IPython.core.display.HTML object>"
      ]
     },
     "metadata": {},
     "output_type": "display_data"
    },
    {
     "data": {
      "text/html": [
       "Synced <strong style=\"color:#cdcd00\">summer-sweep-1</strong>: <a href=\"https://wandb.ai/benchmark-nlp/hyperopt/runs/ee38rpi0\" target=\"_blank\">https://wandb.ai/benchmark-nlp/hyperopt/runs/ee38rpi0</a><br/>Synced 5 W&B file(s), 0 media file(s), 0 artifact file(s) and 0 other file(s)"
      ],
      "text/plain": [
       "<IPython.core.display.HTML object>"
      ]
     },
     "metadata": {},
     "output_type": "display_data"
    },
    {
     "data": {
      "text/html": [
       "Find logs at: <code>.\\wandb\\run-20221011_124938-ee38rpi0\\logs</code>"
      ],
      "text/plain": [
       "<IPython.core.display.HTML object>"
      ]
     },
     "metadata": {},
     "output_type": "display_data"
    },
    {
     "name": "stderr",
     "output_type": "stream",
     "text": [
      "\u001b[34m\u001b[1mwandb\u001b[0m: Sweep Agent: Waiting for job.\n",
      "\u001b[34m\u001b[1mwandb\u001b[0m: Job received.\n",
      "\u001b[34m\u001b[1mwandb\u001b[0m: Agent Starting Run: p5esb8p9 with config:\n",
      "\u001b[34m\u001b[1mwandb\u001b[0m: \tmax_features: sqrt\n",
      "\u001b[34m\u001b[1mwandb\u001b[0m: \tn_estimators: 52\n",
      "\u001b[34m\u001b[1mwandb\u001b[0m: \trandom_state: 42\n"
     ]
    },
    {
     "data": {
      "text/html": [
       "wandb version 0.13.4 is available!  To upgrade, please run:\n",
       " $ pip install wandb --upgrade"
      ],
      "text/plain": [
       "<IPython.core.display.HTML object>"
      ]
     },
     "metadata": {},
     "output_type": "display_data"
    },
    {
     "data": {
      "text/html": [
       "Tracking run with wandb version 0.12.21"
      ],
      "text/plain": [
       "<IPython.core.display.HTML object>"
      ]
     },
     "metadata": {},
     "output_type": "display_data"
    },
    {
     "data": {
      "text/html": [
       "Run data is saved locally in <code>C:\\Users\\Saiga\\Documents\\NotebooksJupyter\\text_classification_benchmark\\wandb\\run-20221011_125740-p5esb8p9</code>"
      ],
      "text/plain": [
       "<IPython.core.display.HTML object>"
      ]
     },
     "metadata": {},
     "output_type": "display_data"
    },
    {
     "data": {
      "text/html": [
       "Syncing run <strong><a href=\"https://wandb.ai/benchmark-nlp/hyperopt/runs/p5esb8p9\" target=\"_blank\">trim-sweep-2</a></strong> to <a href=\"https://wandb.ai/benchmark-nlp/hyperopt\" target=\"_blank\">Weights & Biases</a> (<a href=\"https://wandb.me/run\" target=\"_blank\">docs</a>)<br/>Sweep page:  <a href=\"https://wandb.ai/benchmark-nlp/hyperopt/sweeps/49o4urgd\" target=\"_blank\">https://wandb.ai/benchmark-nlp/hyperopt/sweeps/49o4urgd</a>"
      ],
      "text/plain": [
       "<IPython.core.display.HTML object>"
      ]
     },
     "metadata": {},
     "output_type": "display_data"
    },
    {
     "data": {
      "text/html": [
       "Waiting for W&B process to finish... <strong style=\"color:green\">(success).</strong>"
      ],
      "text/plain": [
       "<IPython.core.display.HTML object>"
      ]
     },
     "metadata": {},
     "output_type": "display_data"
    },
    {
     "data": {
      "text/html": [
       "<style>\n",
       "    table.wandb td:nth-child(1) { padding: 0 10px; text-align: left ; width: auto;} td:nth-child(2) {text-align: left ; width: 100%}\n",
       "    .wandb-row { display: flex; flex-direction: row; flex-wrap: wrap; justify-content: flex-start; width: 100% }\n",
       "    .wandb-col { display: flex; flex-direction: column; flex-basis: 100%; flex: 1; padding: 10px; }\n",
       "    </style>\n",
       "<div class=\"wandb-row\"><div class=\"wandb-col\"><h3>Run history:</h3><br/><table class=\"wandb\"><tr><td>AUC</td><td>▁</td></tr><tr><td>AUC-PC</td><td>▁</td></tr><tr><td>accuracy</td><td>▁</td></tr><tr><td>f1 macro</td><td>▁</td></tr></table><br/></div><div class=\"wandb-col\"><h3>Run summary:</h3><br/><table class=\"wandb\"><tr><td>AUC</td><td>0.94708</td></tr><tr><td>AUC-PC</td><td>0.94351</td></tr><tr><td>accuracy</td><td>0.8754</td></tr><tr><td>f1 macro</td><td>0.87529</td></tr></table><br/></div></div>"
      ],
      "text/plain": [
       "<IPython.core.display.HTML object>"
      ]
     },
     "metadata": {},
     "output_type": "display_data"
    },
    {
     "data": {
      "text/html": [
       "Synced <strong style=\"color:#cdcd00\">trim-sweep-2</strong>: <a href=\"https://wandb.ai/benchmark-nlp/hyperopt/runs/p5esb8p9\" target=\"_blank\">https://wandb.ai/benchmark-nlp/hyperopt/runs/p5esb8p9</a><br/>Synced 5 W&B file(s), 0 media file(s), 0 artifact file(s) and 0 other file(s)"
      ],
      "text/plain": [
       "<IPython.core.display.HTML object>"
      ]
     },
     "metadata": {},
     "output_type": "display_data"
    },
    {
     "data": {
      "text/html": [
       "Find logs at: <code>.\\wandb\\run-20221011_125740-p5esb8p9\\logs</code>"
      ],
      "text/plain": [
       "<IPython.core.display.HTML object>"
      ]
     },
     "metadata": {},
     "output_type": "display_data"
    },
    {
     "name": "stderr",
     "output_type": "stream",
     "text": [
      "\u001b[34m\u001b[1mwandb\u001b[0m: Agent Starting Run: kvet0vpp with config:\n",
      "\u001b[34m\u001b[1mwandb\u001b[0m: \tmax_features: sqrt\n",
      "\u001b[34m\u001b[1mwandb\u001b[0m: \tn_estimators: 186\n",
      "\u001b[34m\u001b[1mwandb\u001b[0m: \trandom_state: 42\n"
     ]
    },
    {
     "data": {
      "text/html": [
       "wandb version 0.13.4 is available!  To upgrade, please run:\n",
       " $ pip install wandb --upgrade"
      ],
      "text/plain": [
       "<IPython.core.display.HTML object>"
      ]
     },
     "metadata": {},
     "output_type": "display_data"
    },
    {
     "data": {
      "text/html": [
       "Tracking run with wandb version 0.12.21"
      ],
      "text/plain": [
       "<IPython.core.display.HTML object>"
      ]
     },
     "metadata": {},
     "output_type": "display_data"
    },
    {
     "data": {
      "text/html": [
       "Run data is saved locally in <code>C:\\Users\\Saiga\\Documents\\NotebooksJupyter\\text_classification_benchmark\\wandb\\run-20221011_130558-kvet0vpp</code>"
      ],
      "text/plain": [
       "<IPython.core.display.HTML object>"
      ]
     },
     "metadata": {},
     "output_type": "display_data"
    },
    {
     "data": {
      "text/html": [
       "Syncing run <strong><a href=\"https://wandb.ai/benchmark-nlp/hyperopt/runs/kvet0vpp\" target=\"_blank\">magic-sweep-3</a></strong> to <a href=\"https://wandb.ai/benchmark-nlp/hyperopt\" target=\"_blank\">Weights & Biases</a> (<a href=\"https://wandb.me/run\" target=\"_blank\">docs</a>)<br/>Sweep page:  <a href=\"https://wandb.ai/benchmark-nlp/hyperopt/sweeps/49o4urgd\" target=\"_blank\">https://wandb.ai/benchmark-nlp/hyperopt/sweeps/49o4urgd</a>"
      ],
      "text/plain": [
       "<IPython.core.display.HTML object>"
      ]
     },
     "metadata": {},
     "output_type": "display_data"
    }
   ],
   "source": [
    "#Don't forget to name the sweep instance  \n",
    "name = 'rf_tfidf_yelp' #change here\n",
    "sweep_config['name'] =  name\n",
    "\n",
    "#Generate a sweep_id\n",
    "sweep_id = wandb.sweep(sweep_config, project=\"hyperopt\")\n",
    "\n",
    "def train_tfidf(config = None,\n",
    "          train=train_yelp, #Change here\n",
    "          val=val_yelp): #change here\n",
    "    '''\n",
    "    Generic WandB function to conduct hyperparameter optimization with tf-idf vectorizer\n",
    "    '''\n",
    "    # Initialize a new wandb run\n",
    "    with wandb.init(config=config,group=name):\n",
    "        # If called by wandb.agent, as below,\n",
    "        # this config will be set by Sweep Controller\n",
    "        config = wandb.config\n",
    "        vec = TfidfVectorizer()\n",
    "        clf = RandomForestClassifier(n_estimators=config.n_estimators,\n",
    "                                max_features=config.max_features,\n",
    "                                 random_state=config.random_state) #set the hyperparams here\n",
    "        \n",
    "        #Create the pipeline\n",
    "        pipe = Pipeline([('vectorizer',vec),('clf',clf)])\n",
    "        #Fit the pipeline\n",
    "        pipe.fit(train['text'],train['label'])\n",
    "        \n",
    "        #Make predictions\n",
    "        pred_val = pipe.predict(val['text'])\n",
    "        pred_prob_val = pipe.predict_proba(val['text'])[:,1]\n",
    "        accuracy = accuracy_score(val['label'],pred_val)\n",
    "        f1_macro = f1_score(val['label'],pred_val,average='macro')\n",
    "        if train['label'].nunique() <=2:\n",
    "            aucpc =  average_precision_score(val['label'],pred_prob_val)\n",
    "            auc = roc_auc_score(val['label'],pred_prob_val)\n",
    "        else:\n",
    "            aucpc = '-'\n",
    "            auc = '-'\n",
    "        #Log metrics on WandB\n",
    "        wandb.log({\"accuracy\": accuracy, \"f1 macro\":f1_macro, \"AUC-PC\":aucpc, 'AUC':auc })\n",
    "\n",
    "# #Track emissions\n",
    "# tracker = EmissionsTracker(project_name=name,log_level='warning', measure_power_secs=300,\n",
    "#                            output_file='output/emissions_hyperopt.csv')\n",
    "# #Launch the agent\n",
    "# tracker.start()\n",
    "wandb.agent(sweep_id, train_tfidf,count=OPT_ITER)\n",
    "# tracker.stop()"
   ]
  },
  {
   "cell_type": "code",
   "execution_count": null,
   "id": "830c6068",
   "metadata": {
    "scrolled": true
   },
   "outputs": [],
   "source": [
    "#Don't forget to name the sweep instance   \n",
    "name = 'rf_ft_yelp' #CHANGE HERE\n",
    "sweep_config['name'] = name\n",
    "#Generate a sweep_id\n",
    "sweep_id = wandb.sweep(sweep_config, project=\"hyperopt\")\n",
    "\n",
    "def train_fasttext(config = None,\n",
    "          train=embedded_train_yelp, #CHANGE HERE\n",
    "          val=embedded_val_yelp): #CHANGE HERE\n",
    "    # Initialize a new wandb run\n",
    "    with wandb.init(config=config, group=name):\n",
    "        config = wandb.config\n",
    "        clf = RandomForestClassifier(n_estimators=config.n_estimators,\n",
    "                                max_features=config.max_features,\n",
    "                                 random_state=config.random_state) #set the hyperparams here\n",
    "        pipe = Pipeline([('clf',clf)])\n",
    "        pipe.fit(train.fillna(0).drop(['label'],axis=1),train['label'])\n",
    "        \n",
    "        #Make predictions\n",
    "        pred_val = pipe.predict(val.fillna(0).drop(['label'],axis=1))\n",
    "        pred_prob_val = pipe.predict_proba(val.fillna(0).drop(['label'],axis=1))[:,1]\n",
    "        accuracy = accuracy_score(val['label'],pred_val)\n",
    "        f1_macro = f1_score(val['label'],pred_val,average='macro')\n",
    "        if train['label'].nunique() <=2:\n",
    "            aucpc =  average_precision_score(val['label'],pred_prob_val)\n",
    "            auc = roc_auc_score(val['label'],pred_prob_val)\n",
    "            #Log predictions on WandB\n",
    "        else:\n",
    "            aucpc = '-'\n",
    "            auc = '-'\n",
    "        wandb.log({\"accuracy\": accuracy, \"f1 macro\":f1_macro, \"AUC-PC\":aucpc, 'AUC':auc })\n",
    "\n",
    "\n",
    "#Track emissions\n",
    "tracker = EmissionsTracker(project_name=name,log_level='warning', measure_power_secs=300,\n",
    "                           output_file='output/emissions_hyperopt.csv')\n",
    "#Launch the agent\n",
    "tracker.start()\n",
    "wandb.agent(sweep_id, train_fasttext,count=OPT_ITER)\n",
    "tracker.stop()"
   ]
  },
  {
   "cell_type": "markdown",
   "id": "f71a6f28",
   "metadata": {},
   "source": [
    "#### sst2"
   ]
  },
  {
   "cell_type": "code",
   "execution_count": 10,
   "id": "e43086bd",
   "metadata": {
    "scrolled": true
   },
   "outputs": [
    {
     "name": "stdout",
     "output_type": "stream",
     "text": [
      "Create sweep with ID: infpa5r9\n",
      "Sweep URL: https://wandb.ai/benchmark-nlp/hyperopt/sweeps/infpa5r9\n"
     ]
    },
    {
     "name": "stderr",
     "output_type": "stream",
     "text": [
      "[codecarbon WARNING @ 16:31:21] No CPU tracking mode found. Falling back on CPU constant mode.\n",
      "[codecarbon WARNING @ 16:31:24] We saw that you have a Intel(R) Core(TM) i5-7200U CPU @ 2.50GHz but we don't know it. Please contact us.\n",
      "\u001b[34m\u001b[1mwandb\u001b[0m: \u001b[33mWARNING\u001b[0m Calling wandb.login() after wandb.init() has no effect.\n",
      "\u001b[34m\u001b[1mwandb\u001b[0m: Agent Starting Run: y81etzum with config:\n",
      "\u001b[34m\u001b[1mwandb\u001b[0m: \tmax_features: sqrt\n",
      "\u001b[34m\u001b[1mwandb\u001b[0m: \tn_estimators: 194\n",
      "\u001b[34m\u001b[1mwandb\u001b[0m: \trandom_state: 42\n"
     ]
    },
    {
     "data": {
      "text/html": [
       "wandb version 0.13.1 is available!  To upgrade, please run:\n",
       " $ pip install wandb --upgrade"
      ],
      "text/plain": [
       "<IPython.core.display.HTML object>"
      ]
     },
     "metadata": {},
     "output_type": "display_data"
    },
    {
     "data": {
      "text/html": [
       "Tracking run with wandb version 0.12.21"
      ],
      "text/plain": [
       "<IPython.core.display.HTML object>"
      ]
     },
     "metadata": {},
     "output_type": "display_data"
    },
    {
     "data": {
      "text/html": [
       "Run data is saved locally in <code>C:\\Users\\Saiga\\Documents\\NotebooksJupyter\\text_classification_benchmark\\wandb\\run-20220821_163131-y81etzum</code>"
      ],
      "text/plain": [
       "<IPython.core.display.HTML object>"
      ]
     },
     "metadata": {},
     "output_type": "display_data"
    },
    {
     "data": {
      "text/html": [
       "Syncing run <strong><a href=\"https://wandb.ai/benchmark-nlp/hyperopt/runs/y81etzum\" target=\"_blank\">deft-sweep-1</a></strong> to <a href=\"https://wandb.ai/benchmark-nlp/hyperopt\" target=\"_blank\">Weights & Biases</a> (<a href=\"https://wandb.me/run\" target=\"_blank\">docs</a>)<br/>Sweep page:  <a href=\"https://wandb.ai/benchmark-nlp/hyperopt/sweeps/infpa5r9\" target=\"_blank\">https://wandb.ai/benchmark-nlp/hyperopt/sweeps/infpa5r9</a>"
      ],
      "text/plain": [
       "<IPython.core.display.HTML object>"
      ]
     },
     "metadata": {},
     "output_type": "display_data"
    },
    {
     "data": {
      "text/html": [
       "Waiting for W&B process to finish... <strong style=\"color:green\">(success).</strong>"
      ],
      "text/plain": [
       "<IPython.core.display.HTML object>"
      ]
     },
     "metadata": {},
     "output_type": "display_data"
    },
    {
     "data": {
      "text/html": [
       "<style>\n",
       "    table.wandb td:nth-child(1) { padding: 0 10px; text-align: left ; width: auto;} td:nth-child(2) {text-align: left ; width: 100%}\n",
       "    .wandb-row { display: flex; flex-direction: row; flex-wrap: wrap; justify-content: flex-start; width: 100% }\n",
       "    .wandb-col { display: flex; flex-direction: column; flex-basis: 100%; flex: 1; padding: 10px; }\n",
       "    </style>\n",
       "<div class=\"wandb-row\"><div class=\"wandb-col\"><h3>Run history:</h3><br/><table class=\"wandb\"><tr><td>AUC</td><td>▁</td></tr><tr><td>AUC-PC</td><td>▁</td></tr><tr><td>accuracy</td><td>▁</td></tr><tr><td>f1 macro</td><td>▁</td></tr></table><br/></div><div class=\"wandb-col\"><h3>Run summary:</h3><br/><table class=\"wandb\"><tr><td>AUC</td><td>0.84485</td></tr><tr><td>AUC-PC</td><td>0.8469</td></tr><tr><td>accuracy</td><td>0.77523</td></tr><tr><td>f1 macro</td><td>0.77503</td></tr></table><br/></div></div>"
      ],
      "text/plain": [
       "<IPython.core.display.HTML object>"
      ]
     },
     "metadata": {},
     "output_type": "display_data"
    },
    {
     "data": {
      "text/html": [
       "Synced <strong style=\"color:#cdcd00\">deft-sweep-1</strong>: <a href=\"https://wandb.ai/benchmark-nlp/hyperopt/runs/y81etzum\" target=\"_blank\">https://wandb.ai/benchmark-nlp/hyperopt/runs/y81etzum</a><br/>Synced 5 W&B file(s), 0 media file(s), 0 artifact file(s) and 0 other file(s)"
      ],
      "text/plain": [
       "<IPython.core.display.HTML object>"
      ]
     },
     "metadata": {},
     "output_type": "display_data"
    },
    {
     "data": {
      "text/html": [
       "Find logs at: <code>.\\wandb\\run-20220821_163131-y81etzum\\logs</code>"
      ],
      "text/plain": [
       "<IPython.core.display.HTML object>"
      ]
     },
     "metadata": {},
     "output_type": "display_data"
    },
    {
     "name": "stderr",
     "output_type": "stream",
     "text": [
      "\u001b[34m\u001b[1mwandb\u001b[0m: Agent Starting Run: qd6yywum with config:\n",
      "\u001b[34m\u001b[1mwandb\u001b[0m: \tmax_features: log2\n",
      "\u001b[34m\u001b[1mwandb\u001b[0m: \tn_estimators: 24\n",
      "\u001b[34m\u001b[1mwandb\u001b[0m: \trandom_state: 42\n"
     ]
    },
    {
     "data": {
      "text/html": [
       "wandb version 0.13.1 is available!  To upgrade, please run:\n",
       " $ pip install wandb --upgrade"
      ],
      "text/plain": [
       "<IPython.core.display.HTML object>"
      ]
     },
     "metadata": {},
     "output_type": "display_data"
    },
    {
     "data": {
      "text/html": [
       "Tracking run with wandb version 0.12.21"
      ],
      "text/plain": [
       "<IPython.core.display.HTML object>"
      ]
     },
     "metadata": {},
     "output_type": "display_data"
    },
    {
     "data": {
      "text/html": [
       "Run data is saved locally in <code>C:\\Users\\Saiga\\Documents\\NotebooksJupyter\\text_classification_benchmark\\wandb\\run-20220821_163735-qd6yywum</code>"
      ],
      "text/plain": [
       "<IPython.core.display.HTML object>"
      ]
     },
     "metadata": {},
     "output_type": "display_data"
    },
    {
     "data": {
      "text/html": [
       "Syncing run <strong><a href=\"https://wandb.ai/benchmark-nlp/hyperopt/runs/qd6yywum\" target=\"_blank\">drawn-sweep-2</a></strong> to <a href=\"https://wandb.ai/benchmark-nlp/hyperopt\" target=\"_blank\">Weights & Biases</a> (<a href=\"https://wandb.me/run\" target=\"_blank\">docs</a>)<br/>Sweep page:  <a href=\"https://wandb.ai/benchmark-nlp/hyperopt/sweeps/infpa5r9\" target=\"_blank\">https://wandb.ai/benchmark-nlp/hyperopt/sweeps/infpa5r9</a>"
      ],
      "text/plain": [
       "<IPython.core.display.HTML object>"
      ]
     },
     "metadata": {},
     "output_type": "display_data"
    },
    {
     "data": {
      "text/html": [
       "Waiting for W&B process to finish... <strong style=\"color:green\">(success).</strong>"
      ],
      "text/plain": [
       "<IPython.core.display.HTML object>"
      ]
     },
     "metadata": {},
     "output_type": "display_data"
    },
    {
     "data": {
      "text/html": [
       "<style>\n",
       "    table.wandb td:nth-child(1) { padding: 0 10px; text-align: left ; width: auto;} td:nth-child(2) {text-align: left ; width: 100%}\n",
       "    .wandb-row { display: flex; flex-direction: row; flex-wrap: wrap; justify-content: flex-start; width: 100% }\n",
       "    .wandb-col { display: flex; flex-direction: column; flex-basis: 100%; flex: 1; padding: 10px; }\n",
       "    </style>\n",
       "<div class=\"wandb-row\"><div class=\"wandb-col\"><h3>Run history:</h3><br/><table class=\"wandb\"><tr><td>AUC</td><td>▁</td></tr><tr><td>AUC-PC</td><td>▁</td></tr><tr><td>accuracy</td><td>▁</td></tr><tr><td>f1 macro</td><td>▁</td></tr></table><br/></div><div class=\"wandb-col\"><h3>Run summary:</h3><br/><table class=\"wandb\"><tr><td>AUC</td><td>0.84861</td></tr><tr><td>AUC-PC</td><td>0.84</td></tr><tr><td>accuracy</td><td>0.77752</td></tr><tr><td>f1 macro</td><td>0.77705</td></tr></table><br/></div></div>"
      ],
      "text/plain": [
       "<IPython.core.display.HTML object>"
      ]
     },
     "metadata": {},
     "output_type": "display_data"
    },
    {
     "data": {
      "text/html": [
       "Synced <strong style=\"color:#cdcd00\">drawn-sweep-2</strong>: <a href=\"https://wandb.ai/benchmark-nlp/hyperopt/runs/qd6yywum\" target=\"_blank\">https://wandb.ai/benchmark-nlp/hyperopt/runs/qd6yywum</a><br/>Synced 5 W&B file(s), 0 media file(s), 0 artifact file(s) and 0 other file(s)"
      ],
      "text/plain": [
       "<IPython.core.display.HTML object>"
      ]
     },
     "metadata": {},
     "output_type": "display_data"
    },
    {
     "data": {
      "text/html": [
       "Find logs at: <code>.\\wandb\\run-20220821_163735-qd6yywum\\logs</code>"
      ],
      "text/plain": [
       "<IPython.core.display.HTML object>"
      ]
     },
     "metadata": {},
     "output_type": "display_data"
    },
    {
     "name": "stderr",
     "output_type": "stream",
     "text": [
      "\u001b[34m\u001b[1mwandb\u001b[0m: Agent Starting Run: qx77sbyy with config:\n",
      "\u001b[34m\u001b[1mwandb\u001b[0m: \tmax_features: sqrt\n",
      "\u001b[34m\u001b[1mwandb\u001b[0m: \tn_estimators: 18\n",
      "\u001b[34m\u001b[1mwandb\u001b[0m: \trandom_state: 42\n"
     ]
    },
    {
     "data": {
      "text/html": [
       "wandb version 0.13.1 is available!  To upgrade, please run:\n",
       " $ pip install wandb --upgrade"
      ],
      "text/plain": [
       "<IPython.core.display.HTML object>"
      ]
     },
     "metadata": {},
     "output_type": "display_data"
    },
    {
     "data": {
      "text/html": [
       "Tracking run with wandb version 0.12.21"
      ],
      "text/plain": [
       "<IPython.core.display.HTML object>"
      ]
     },
     "metadata": {},
     "output_type": "display_data"
    },
    {
     "data": {
      "text/html": [
       "Run data is saved locally in <code>C:\\Users\\Saiga\\Documents\\NotebooksJupyter\\text_classification_benchmark\\wandb\\run-20220821_163843-qx77sbyy</code>"
      ],
      "text/plain": [
       "<IPython.core.display.HTML object>"
      ]
     },
     "metadata": {},
     "output_type": "display_data"
    },
    {
     "data": {
      "text/html": [
       "Syncing run <strong><a href=\"https://wandb.ai/benchmark-nlp/hyperopt/runs/qx77sbyy\" target=\"_blank\">jumping-sweep-3</a></strong> to <a href=\"https://wandb.ai/benchmark-nlp/hyperopt\" target=\"_blank\">Weights & Biases</a> (<a href=\"https://wandb.me/run\" target=\"_blank\">docs</a>)<br/>Sweep page:  <a href=\"https://wandb.ai/benchmark-nlp/hyperopt/sweeps/infpa5r9\" target=\"_blank\">https://wandb.ai/benchmark-nlp/hyperopt/sweeps/infpa5r9</a>"
      ],
      "text/plain": [
       "<IPython.core.display.HTML object>"
      ]
     },
     "metadata": {},
     "output_type": "display_data"
    },
    {
     "data": {
      "text/html": [
       "Waiting for W&B process to finish... <strong style=\"color:green\">(success).</strong>"
      ],
      "text/plain": [
       "<IPython.core.display.HTML object>"
      ]
     },
     "metadata": {},
     "output_type": "display_data"
    },
    {
     "data": {
      "text/html": [
       "<style>\n",
       "    table.wandb td:nth-child(1) { padding: 0 10px; text-align: left ; width: auto;} td:nth-child(2) {text-align: left ; width: 100%}\n",
       "    .wandb-row { display: flex; flex-direction: row; flex-wrap: wrap; justify-content: flex-start; width: 100% }\n",
       "    .wandb-col { display: flex; flex-direction: column; flex-basis: 100%; flex: 1; padding: 10px; }\n",
       "    </style>\n",
       "<div class=\"wandb-row\"><div class=\"wandb-col\"><h3>Run history:</h3><br/><table class=\"wandb\"><tr><td>AUC</td><td>▁</td></tr><tr><td>AUC-PC</td><td>▁</td></tr><tr><td>accuracy</td><td>▁</td></tr><tr><td>f1 macro</td><td>▁</td></tr></table><br/></div><div class=\"wandb-col\"><h3>Run summary:</h3><br/><table class=\"wandb\"><tr><td>AUC</td><td>0.83062</td></tr><tr><td>AUC-PC</td><td>0.82911</td></tr><tr><td>accuracy</td><td>0.7695</td></tr><tr><td>f1 macro</td><td>0.76933</td></tr></table><br/></div></div>"
      ],
      "text/plain": [
       "<IPython.core.display.HTML object>"
      ]
     },
     "metadata": {},
     "output_type": "display_data"
    },
    {
     "data": {
      "text/html": [
       "Synced <strong style=\"color:#cdcd00\">jumping-sweep-3</strong>: <a href=\"https://wandb.ai/benchmark-nlp/hyperopt/runs/qx77sbyy\" target=\"_blank\">https://wandb.ai/benchmark-nlp/hyperopt/runs/qx77sbyy</a><br/>Synced 5 W&B file(s), 0 media file(s), 0 artifact file(s) and 0 other file(s)"
      ],
      "text/plain": [
       "<IPython.core.display.HTML object>"
      ]
     },
     "metadata": {},
     "output_type": "display_data"
    },
    {
     "data": {
      "text/html": [
       "Find logs at: <code>.\\wandb\\run-20220821_163843-qx77sbyy\\logs</code>"
      ],
      "text/plain": [
       "<IPython.core.display.HTML object>"
      ]
     },
     "metadata": {},
     "output_type": "display_data"
    },
    {
     "name": "stderr",
     "output_type": "stream",
     "text": [
      "\u001b[34m\u001b[1mwandb\u001b[0m: Agent Starting Run: u0ydpmym with config:\n",
      "\u001b[34m\u001b[1mwandb\u001b[0m: \tmax_features: sqrt\n",
      "\u001b[34m\u001b[1mwandb\u001b[0m: \tn_estimators: 70\n",
      "\u001b[34m\u001b[1mwandb\u001b[0m: \trandom_state: 42\n"
     ]
    },
    {
     "data": {
      "text/html": [
       "wandb version 0.13.1 is available!  To upgrade, please run:\n",
       " $ pip install wandb --upgrade"
      ],
      "text/plain": [
       "<IPython.core.display.HTML object>"
      ]
     },
     "metadata": {},
     "output_type": "display_data"
    },
    {
     "data": {
      "text/html": [
       "Tracking run with wandb version 0.12.21"
      ],
      "text/plain": [
       "<IPython.core.display.HTML object>"
      ]
     },
     "metadata": {},
     "output_type": "display_data"
    },
    {
     "data": {
      "text/html": [
       "Run data is saved locally in <code>C:\\Users\\Saiga\\Documents\\NotebooksJupyter\\text_classification_benchmark\\wandb\\run-20220821_163935-u0ydpmym</code>"
      ],
      "text/plain": [
       "<IPython.core.display.HTML object>"
      ]
     },
     "metadata": {},
     "output_type": "display_data"
    },
    {
     "data": {
      "text/html": [
       "Syncing run <strong><a href=\"https://wandb.ai/benchmark-nlp/hyperopt/runs/u0ydpmym\" target=\"_blank\">lilac-sweep-4</a></strong> to <a href=\"https://wandb.ai/benchmark-nlp/hyperopt\" target=\"_blank\">Weights & Biases</a> (<a href=\"https://wandb.me/run\" target=\"_blank\">docs</a>)<br/>Sweep page:  <a href=\"https://wandb.ai/benchmark-nlp/hyperopt/sweeps/infpa5r9\" target=\"_blank\">https://wandb.ai/benchmark-nlp/hyperopt/sweeps/infpa5r9</a>"
      ],
      "text/plain": [
       "<IPython.core.display.HTML object>"
      ]
     },
     "metadata": {},
     "output_type": "display_data"
    },
    {
     "data": {
      "text/html": [
       "Waiting for W&B process to finish... <strong style=\"color:green\">(success).</strong>"
      ],
      "text/plain": [
       "<IPython.core.display.HTML object>"
      ]
     },
     "metadata": {},
     "output_type": "display_data"
    },
    {
     "data": {
      "text/html": [
       "<style>\n",
       "    table.wandb td:nth-child(1) { padding: 0 10px; text-align: left ; width: auto;} td:nth-child(2) {text-align: left ; width: 100%}\n",
       "    .wandb-row { display: flex; flex-direction: row; flex-wrap: wrap; justify-content: flex-start; width: 100% }\n",
       "    .wandb-col { display: flex; flex-direction: column; flex-basis: 100%; flex: 1; padding: 10px; }\n",
       "    </style>\n",
       "<div class=\"wandb-row\"><div class=\"wandb-col\"><h3>Run history:</h3><br/><table class=\"wandb\"><tr><td>AUC</td><td>▁</td></tr><tr><td>AUC-PC</td><td>▁</td></tr><tr><td>accuracy</td><td>▁</td></tr><tr><td>f1 macro</td><td>▁</td></tr></table><br/></div><div class=\"wandb-col\"><h3>Run summary:</h3><br/><table class=\"wandb\"><tr><td>AUC</td><td>0.85166</td></tr><tr><td>AUC-PC</td><td>0.85411</td></tr><tr><td>accuracy</td><td>0.77867</td></tr><tr><td>f1 macro</td><td>0.77852</td></tr></table><br/></div></div>"
      ],
      "text/plain": [
       "<IPython.core.display.HTML object>"
      ]
     },
     "metadata": {},
     "output_type": "display_data"
    },
    {
     "data": {
      "text/html": [
       "Synced <strong style=\"color:#cdcd00\">lilac-sweep-4</strong>: <a href=\"https://wandb.ai/benchmark-nlp/hyperopt/runs/u0ydpmym\" target=\"_blank\">https://wandb.ai/benchmark-nlp/hyperopt/runs/u0ydpmym</a><br/>Synced 5 W&B file(s), 0 media file(s), 0 artifact file(s) and 0 other file(s)"
      ],
      "text/plain": [
       "<IPython.core.display.HTML object>"
      ]
     },
     "metadata": {},
     "output_type": "display_data"
    },
    {
     "data": {
      "text/html": [
       "Find logs at: <code>.\\wandb\\run-20220821_163935-u0ydpmym\\logs</code>"
      ],
      "text/plain": [
       "<IPython.core.display.HTML object>"
      ]
     },
     "metadata": {},
     "output_type": "display_data"
    },
    {
     "name": "stderr",
     "output_type": "stream",
     "text": [
      "\u001b[34m\u001b[1mwandb\u001b[0m: Agent Starting Run: av9hedf7 with config:\n",
      "\u001b[34m\u001b[1mwandb\u001b[0m: \tmax_features: log2\n",
      "\u001b[34m\u001b[1mwandb\u001b[0m: \tn_estimators: 113\n",
      "\u001b[34m\u001b[1mwandb\u001b[0m: \trandom_state: 42\n"
     ]
    },
    {
     "data": {
      "text/html": [
       "wandb version 0.13.1 is available!  To upgrade, please run:\n",
       " $ pip install wandb --upgrade"
      ],
      "text/plain": [
       "<IPython.core.display.HTML object>"
      ]
     },
     "metadata": {},
     "output_type": "display_data"
    },
    {
     "data": {
      "text/html": [
       "Tracking run with wandb version 0.12.21"
      ],
      "text/plain": [
       "<IPython.core.display.HTML object>"
      ]
     },
     "metadata": {},
     "output_type": "display_data"
    },
    {
     "data": {
      "text/html": [
       "Run data is saved locally in <code>C:\\Users\\Saiga\\Documents\\NotebooksJupyter\\text_classification_benchmark\\wandb\\run-20220821_164156-av9hedf7</code>"
      ],
      "text/plain": [
       "<IPython.core.display.HTML object>"
      ]
     },
     "metadata": {},
     "output_type": "display_data"
    },
    {
     "data": {
      "text/html": [
       "Syncing run <strong><a href=\"https://wandb.ai/benchmark-nlp/hyperopt/runs/av9hedf7\" target=\"_blank\">revived-sweep-5</a></strong> to <a href=\"https://wandb.ai/benchmark-nlp/hyperopt\" target=\"_blank\">Weights & Biases</a> (<a href=\"https://wandb.me/run\" target=\"_blank\">docs</a>)<br/>Sweep page:  <a href=\"https://wandb.ai/benchmark-nlp/hyperopt/sweeps/infpa5r9\" target=\"_blank\">https://wandb.ai/benchmark-nlp/hyperopt/sweeps/infpa5r9</a>"
      ],
      "text/plain": [
       "<IPython.core.display.HTML object>"
      ]
     },
     "metadata": {},
     "output_type": "display_data"
    },
    {
     "data": {
      "text/html": [
       "Waiting for W&B process to finish... <strong style=\"color:green\">(success).</strong>"
      ],
      "text/plain": [
       "<IPython.core.display.HTML object>"
      ]
     },
     "metadata": {},
     "output_type": "display_data"
    },
    {
     "data": {
      "text/html": [
       "<style>\n",
       "    table.wandb td:nth-child(1) { padding: 0 10px; text-align: left ; width: auto;} td:nth-child(2) {text-align: left ; width: 100%}\n",
       "    .wandb-row { display: flex; flex-direction: row; flex-wrap: wrap; justify-content: flex-start; width: 100% }\n",
       "    .wandb-col { display: flex; flex-direction: column; flex-basis: 100%; flex: 1; padding: 10px; }\n",
       "    </style>\n",
       "<div class=\"wandb-row\"><div class=\"wandb-col\"><h3>Run history:</h3><br/><table class=\"wandb\"><tr><td>AUC</td><td>▁</td></tr><tr><td>AUC-PC</td><td>▁</td></tr><tr><td>accuracy</td><td>▁</td></tr><tr><td>f1 macro</td><td>▁</td></tr></table><br/></div><div class=\"wandb-col\"><h3>Run summary:</h3><br/><table class=\"wandb\"><tr><td>AUC</td><td>0.86867</td></tr><tr><td>AUC-PC</td><td>0.86326</td></tr><tr><td>accuracy</td><td>0.79014</td></tr><tr><td>f1 macro</td><td>0.78947</td></tr></table><br/></div></div>"
      ],
      "text/plain": [
       "<IPython.core.display.HTML object>"
      ]
     },
     "metadata": {},
     "output_type": "display_data"
    },
    {
     "data": {
      "text/html": [
       "Synced <strong style=\"color:#cdcd00\">revived-sweep-5</strong>: <a href=\"https://wandb.ai/benchmark-nlp/hyperopt/runs/av9hedf7\" target=\"_blank\">https://wandb.ai/benchmark-nlp/hyperopt/runs/av9hedf7</a><br/>Synced 5 W&B file(s), 0 media file(s), 0 artifact file(s) and 0 other file(s)"
      ],
      "text/plain": [
       "<IPython.core.display.HTML object>"
      ]
     },
     "metadata": {},
     "output_type": "display_data"
    },
    {
     "data": {
      "text/html": [
       "Find logs at: <code>.\\wandb\\run-20220821_164156-av9hedf7\\logs</code>"
      ],
      "text/plain": [
       "<IPython.core.display.HTML object>"
      ]
     },
     "metadata": {},
     "output_type": "display_data"
    },
    {
     "name": "stderr",
     "output_type": "stream",
     "text": [
      "\u001b[34m\u001b[1mwandb\u001b[0m: Agent Starting Run: hyj1l51a with config:\n",
      "\u001b[34m\u001b[1mwandb\u001b[0m: \tmax_features: log2\n",
      "\u001b[34m\u001b[1mwandb\u001b[0m: \tn_estimators: 127\n",
      "\u001b[34m\u001b[1mwandb\u001b[0m: \trandom_state: 42\n"
     ]
    },
    {
     "data": {
      "text/html": [
       "wandb version 0.13.1 is available!  To upgrade, please run:\n",
       " $ pip install wandb --upgrade"
      ],
      "text/plain": [
       "<IPython.core.display.HTML object>"
      ]
     },
     "metadata": {},
     "output_type": "display_data"
    },
    {
     "data": {
      "text/html": [
       "Tracking run with wandb version 0.12.21"
      ],
      "text/plain": [
       "<IPython.core.display.HTML object>"
      ]
     },
     "metadata": {},
     "output_type": "display_data"
    },
    {
     "data": {
      "text/html": [
       "Run data is saved locally in <code>C:\\Users\\Saiga\\Documents\\NotebooksJupyter\\text_classification_benchmark\\wandb\\run-20220821_164611-hyj1l51a</code>"
      ],
      "text/plain": [
       "<IPython.core.display.HTML object>"
      ]
     },
     "metadata": {},
     "output_type": "display_data"
    },
    {
     "data": {
      "text/html": [
       "Syncing run <strong><a href=\"https://wandb.ai/benchmark-nlp/hyperopt/runs/hyj1l51a\" target=\"_blank\">trim-sweep-6</a></strong> to <a href=\"https://wandb.ai/benchmark-nlp/hyperopt\" target=\"_blank\">Weights & Biases</a> (<a href=\"https://wandb.me/run\" target=\"_blank\">docs</a>)<br/>Sweep page:  <a href=\"https://wandb.ai/benchmark-nlp/hyperopt/sweeps/infpa5r9\" target=\"_blank\">https://wandb.ai/benchmark-nlp/hyperopt/sweeps/infpa5r9</a>"
      ],
      "text/plain": [
       "<IPython.core.display.HTML object>"
      ]
     },
     "metadata": {},
     "output_type": "display_data"
    },
    {
     "data": {
      "text/html": [
       "Waiting for W&B process to finish... <strong style=\"color:green\">(success).</strong>"
      ],
      "text/plain": [
       "<IPython.core.display.HTML object>"
      ]
     },
     "metadata": {},
     "output_type": "display_data"
    },
    {
     "data": {
      "text/html": [
       "<style>\n",
       "    table.wandb td:nth-child(1) { padding: 0 10px; text-align: left ; width: auto;} td:nth-child(2) {text-align: left ; width: 100%}\n",
       "    .wandb-row { display: flex; flex-direction: row; flex-wrap: wrap; justify-content: flex-start; width: 100% }\n",
       "    .wandb-col { display: flex; flex-direction: column; flex-basis: 100%; flex: 1; padding: 10px; }\n",
       "    </style>\n",
       "<div class=\"wandb-row\"><div class=\"wandb-col\"><h3>Run history:</h3><br/><table class=\"wandb\"><tr><td>AUC</td><td>▁</td></tr><tr><td>AUC-PC</td><td>▁</td></tr><tr><td>accuracy</td><td>▁</td></tr><tr><td>f1 macro</td><td>▁</td></tr></table><br/></div><div class=\"wandb-col\"><h3>Run summary:</h3><br/><table class=\"wandb\"><tr><td>AUC</td><td>0.86995</td></tr><tr><td>AUC-PC</td><td>0.86494</td></tr><tr><td>accuracy</td><td>0.78899</td></tr><tr><td>f1 macro</td><td>0.78824</td></tr></table><br/></div></div>"
      ],
      "text/plain": [
       "<IPython.core.display.HTML object>"
      ]
     },
     "metadata": {},
     "output_type": "display_data"
    },
    {
     "data": {
      "text/html": [
       "Synced <strong style=\"color:#cdcd00\">trim-sweep-6</strong>: <a href=\"https://wandb.ai/benchmark-nlp/hyperopt/runs/hyj1l51a\" target=\"_blank\">https://wandb.ai/benchmark-nlp/hyperopt/runs/hyj1l51a</a><br/>Synced 5 W&B file(s), 0 media file(s), 0 artifact file(s) and 0 other file(s)"
      ],
      "text/plain": [
       "<IPython.core.display.HTML object>"
      ]
     },
     "metadata": {},
     "output_type": "display_data"
    },
    {
     "data": {
      "text/html": [
       "Find logs at: <code>.\\wandb\\run-20220821_164611-hyj1l51a\\logs</code>"
      ],
      "text/plain": [
       "<IPython.core.display.HTML object>"
      ]
     },
     "metadata": {},
     "output_type": "display_data"
    },
    {
     "name": "stderr",
     "output_type": "stream",
     "text": [
      "\u001b[34m\u001b[1mwandb\u001b[0m: Sweep Agent: Waiting for job.\n",
      "\u001b[34m\u001b[1mwandb\u001b[0m: Job received.\n",
      "\u001b[34m\u001b[1mwandb\u001b[0m: Agent Starting Run: h5njt0qe with config:\n",
      "\u001b[34m\u001b[1mwandb\u001b[0m: \tmax_features: log2\n",
      "\u001b[34m\u001b[1mwandb\u001b[0m: \tn_estimators: 118\n",
      "\u001b[34m\u001b[1mwandb\u001b[0m: \trandom_state: 42\n"
     ]
    },
    {
     "data": {
      "text/html": [
       "wandb version 0.13.1 is available!  To upgrade, please run:\n",
       " $ pip install wandb --upgrade"
      ],
      "text/plain": [
       "<IPython.core.display.HTML object>"
      ]
     },
     "metadata": {},
     "output_type": "display_data"
    },
    {
     "data": {
      "text/html": [
       "Tracking run with wandb version 0.12.21"
      ],
      "text/plain": [
       "<IPython.core.display.HTML object>"
      ]
     },
     "metadata": {},
     "output_type": "display_data"
    },
    {
     "data": {
      "text/html": [
       "Run data is saved locally in <code>C:\\Users\\Saiga\\Documents\\NotebooksJupyter\\text_classification_benchmark\\wandb\\run-20220821_165046-h5njt0qe</code>"
      ],
      "text/plain": [
       "<IPython.core.display.HTML object>"
      ]
     },
     "metadata": {},
     "output_type": "display_data"
    },
    {
     "data": {
      "text/html": [
       "Syncing run <strong><a href=\"https://wandb.ai/benchmark-nlp/hyperopt/runs/h5njt0qe\" target=\"_blank\">deft-sweep-7</a></strong> to <a href=\"https://wandb.ai/benchmark-nlp/hyperopt\" target=\"_blank\">Weights & Biases</a> (<a href=\"https://wandb.me/run\" target=\"_blank\">docs</a>)<br/>Sweep page:  <a href=\"https://wandb.ai/benchmark-nlp/hyperopt/sweeps/infpa5r9\" target=\"_blank\">https://wandb.ai/benchmark-nlp/hyperopt/sweeps/infpa5r9</a>"
      ],
      "text/plain": [
       "<IPython.core.display.HTML object>"
      ]
     },
     "metadata": {},
     "output_type": "display_data"
    },
    {
     "data": {
      "text/html": [
       "Waiting for W&B process to finish... <strong style=\"color:green\">(success).</strong>"
      ],
      "text/plain": [
       "<IPython.core.display.HTML object>"
      ]
     },
     "metadata": {},
     "output_type": "display_data"
    },
    {
     "data": {
      "text/html": [
       "<style>\n",
       "    table.wandb td:nth-child(1) { padding: 0 10px; text-align: left ; width: auto;} td:nth-child(2) {text-align: left ; width: 100%}\n",
       "    .wandb-row { display: flex; flex-direction: row; flex-wrap: wrap; justify-content: flex-start; width: 100% }\n",
       "    .wandb-col { display: flex; flex-direction: column; flex-basis: 100%; flex: 1; padding: 10px; }\n",
       "    </style>\n",
       "<div class=\"wandb-row\"><div class=\"wandb-col\"><h3>Run history:</h3><br/><table class=\"wandb\"><tr><td>AUC</td><td>▁</td></tr><tr><td>AUC-PC</td><td>▁</td></tr><tr><td>accuracy</td><td>▁</td></tr><tr><td>f1 macro</td><td>▁</td></tr></table><br/></div><div class=\"wandb-col\"><h3>Run summary:</h3><br/><table class=\"wandb\"><tr><td>AUC</td><td>0.86956</td></tr><tr><td>AUC-PC</td><td>0.86518</td></tr><tr><td>accuracy</td><td>0.78899</td></tr><tr><td>f1 macro</td><td>0.78824</td></tr></table><br/></div></div>"
      ],
      "text/plain": [
       "<IPython.core.display.HTML object>"
      ]
     },
     "metadata": {},
     "output_type": "display_data"
    },
    {
     "data": {
      "text/html": [
       "Synced <strong style=\"color:#cdcd00\">deft-sweep-7</strong>: <a href=\"https://wandb.ai/benchmark-nlp/hyperopt/runs/h5njt0qe\" target=\"_blank\">https://wandb.ai/benchmark-nlp/hyperopt/runs/h5njt0qe</a><br/>Synced 5 W&B file(s), 0 media file(s), 0 artifact file(s) and 0 other file(s)"
      ],
      "text/plain": [
       "<IPython.core.display.HTML object>"
      ]
     },
     "metadata": {},
     "output_type": "display_data"
    },
    {
     "data": {
      "text/html": [
       "Find logs at: <code>.\\wandb\\run-20220821_165046-h5njt0qe\\logs</code>"
      ],
      "text/plain": [
       "<IPython.core.display.HTML object>"
      ]
     },
     "metadata": {},
     "output_type": "display_data"
    },
    {
     "name": "stderr",
     "output_type": "stream",
     "text": [
      "\u001b[34m\u001b[1mwandb\u001b[0m: Agent Starting Run: ok1dgmhq with config:\n",
      "\u001b[34m\u001b[1mwandb\u001b[0m: \tmax_features: log2\n",
      "\u001b[34m\u001b[1mwandb\u001b[0m: \tn_estimators: 69\n",
      "\u001b[34m\u001b[1mwandb\u001b[0m: \trandom_state: 42\n"
     ]
    },
    {
     "data": {
      "text/html": [
       "wandb version 0.13.1 is available!  To upgrade, please run:\n",
       " $ pip install wandb --upgrade"
      ],
      "text/plain": [
       "<IPython.core.display.HTML object>"
      ]
     },
     "metadata": {},
     "output_type": "display_data"
    },
    {
     "data": {
      "text/html": [
       "Tracking run with wandb version 0.12.21"
      ],
      "text/plain": [
       "<IPython.core.display.HTML object>"
      ]
     },
     "metadata": {},
     "output_type": "display_data"
    },
    {
     "data": {
      "text/html": [
       "Run data is saved locally in <code>C:\\Users\\Saiga\\Documents\\NotebooksJupyter\\text_classification_benchmark\\wandb\\run-20220821_165637-ok1dgmhq</code>"
      ],
      "text/plain": [
       "<IPython.core.display.HTML object>"
      ]
     },
     "metadata": {},
     "output_type": "display_data"
    },
    {
     "data": {
      "text/html": [
       "Syncing run <strong><a href=\"https://wandb.ai/benchmark-nlp/hyperopt/runs/ok1dgmhq\" target=\"_blank\">fallen-sweep-8</a></strong> to <a href=\"https://wandb.ai/benchmark-nlp/hyperopt\" target=\"_blank\">Weights & Biases</a> (<a href=\"https://wandb.me/run\" target=\"_blank\">docs</a>)<br/>Sweep page:  <a href=\"https://wandb.ai/benchmark-nlp/hyperopt/sweeps/infpa5r9\" target=\"_blank\">https://wandb.ai/benchmark-nlp/hyperopt/sweeps/infpa5r9</a>"
      ],
      "text/plain": [
       "<IPython.core.display.HTML object>"
      ]
     },
     "metadata": {},
     "output_type": "display_data"
    },
    {
     "data": {
      "text/html": [
       "Waiting for W&B process to finish... <strong style=\"color:green\">(success).</strong>"
      ],
      "text/plain": [
       "<IPython.core.display.HTML object>"
      ]
     },
     "metadata": {},
     "output_type": "display_data"
    },
    {
     "data": {
      "text/html": [
       "<style>\n",
       "    table.wandb td:nth-child(1) { padding: 0 10px; text-align: left ; width: auto;} td:nth-child(2) {text-align: left ; width: 100%}\n",
       "    .wandb-row { display: flex; flex-direction: row; flex-wrap: wrap; justify-content: flex-start; width: 100% }\n",
       "    .wandb-col { display: flex; flex-direction: column; flex-basis: 100%; flex: 1; padding: 10px; }\n",
       "    </style>\n",
       "<div class=\"wandb-row\"><div class=\"wandb-col\"><h3>Run history:</h3><br/><table class=\"wandb\"><tr><td>AUC</td><td>▁</td></tr><tr><td>AUC-PC</td><td>▁</td></tr><tr><td>accuracy</td><td>▁</td></tr><tr><td>f1 macro</td><td>▁</td></tr></table><br/></div><div class=\"wandb-col\"><h3>Run summary:</h3><br/><table class=\"wandb\"><tr><td>AUC</td><td>0.86469</td></tr><tr><td>AUC-PC</td><td>0.85755</td></tr><tr><td>accuracy</td><td>0.78555</td></tr><tr><td>f1 macro</td><td>0.78493</td></tr></table><br/></div></div>"
      ],
      "text/plain": [
       "<IPython.core.display.HTML object>"
      ]
     },
     "metadata": {},
     "output_type": "display_data"
    },
    {
     "data": {
      "text/html": [
       "Synced <strong style=\"color:#cdcd00\">fallen-sweep-8</strong>: <a href=\"https://wandb.ai/benchmark-nlp/hyperopt/runs/ok1dgmhq\" target=\"_blank\">https://wandb.ai/benchmark-nlp/hyperopt/runs/ok1dgmhq</a><br/>Synced 5 W&B file(s), 0 media file(s), 0 artifact file(s) and 0 other file(s)"
      ],
      "text/plain": [
       "<IPython.core.display.HTML object>"
      ]
     },
     "metadata": {},
     "output_type": "display_data"
    },
    {
     "data": {
      "text/html": [
       "Find logs at: <code>.\\wandb\\run-20220821_165637-ok1dgmhq\\logs</code>"
      ],
      "text/plain": [
       "<IPython.core.display.HTML object>"
      ]
     },
     "metadata": {},
     "output_type": "display_data"
    },
    {
     "name": "stderr",
     "output_type": "stream",
     "text": [
      "\u001b[34m\u001b[1mwandb\u001b[0m: Agent Starting Run: 93n7l37l with config:\n",
      "\u001b[34m\u001b[1mwandb\u001b[0m: \tmax_features: sqrt\n",
      "\u001b[34m\u001b[1mwandb\u001b[0m: \tn_estimators: 76\n",
      "\u001b[34m\u001b[1mwandb\u001b[0m: \trandom_state: 42\n"
     ]
    },
    {
     "data": {
      "text/html": [
       "wandb version 0.13.1 is available!  To upgrade, please run:\n",
       " $ pip install wandb --upgrade"
      ],
      "text/plain": [
       "<IPython.core.display.HTML object>"
      ]
     },
     "metadata": {},
     "output_type": "display_data"
    },
    {
     "data": {
      "text/html": [
       "Tracking run with wandb version 0.12.21"
      ],
      "text/plain": [
       "<IPython.core.display.HTML object>"
      ]
     },
     "metadata": {},
     "output_type": "display_data"
    },
    {
     "data": {
      "text/html": [
       "Run data is saved locally in <code>C:\\Users\\Saiga\\Documents\\NotebooksJupyter\\text_classification_benchmark\\wandb\\run-20220821_165955-93n7l37l</code>"
      ],
      "text/plain": [
       "<IPython.core.display.HTML object>"
      ]
     },
     "metadata": {},
     "output_type": "display_data"
    },
    {
     "data": {
      "text/html": [
       "Syncing run <strong><a href=\"https://wandb.ai/benchmark-nlp/hyperopt/runs/93n7l37l\" target=\"_blank\">fine-sweep-9</a></strong> to <a href=\"https://wandb.ai/benchmark-nlp/hyperopt\" target=\"_blank\">Weights & Biases</a> (<a href=\"https://wandb.me/run\" target=\"_blank\">docs</a>)<br/>Sweep page:  <a href=\"https://wandb.ai/benchmark-nlp/hyperopt/sweeps/infpa5r9\" target=\"_blank\">https://wandb.ai/benchmark-nlp/hyperopt/sweeps/infpa5r9</a>"
      ],
      "text/plain": [
       "<IPython.core.display.HTML object>"
      ]
     },
     "metadata": {},
     "output_type": "display_data"
    },
    {
     "data": {
      "text/html": [
       "Waiting for W&B process to finish... <strong style=\"color:green\">(success).</strong>"
      ],
      "text/plain": [
       "<IPython.core.display.HTML object>"
      ]
     },
     "metadata": {},
     "output_type": "display_data"
    },
    {
     "data": {
      "text/html": [
       "<style>\n",
       "    table.wandb td:nth-child(1) { padding: 0 10px; text-align: left ; width: auto;} td:nth-child(2) {text-align: left ; width: 100%}\n",
       "    .wandb-row { display: flex; flex-direction: row; flex-wrap: wrap; justify-content: flex-start; width: 100% }\n",
       "    .wandb-col { display: flex; flex-direction: column; flex-basis: 100%; flex: 1; padding: 10px; }\n",
       "    </style>\n",
       "<div class=\"wandb-row\"><div class=\"wandb-col\"><h3>Run history:</h3><br/><table class=\"wandb\"><tr><td>AUC</td><td>▁</td></tr><tr><td>AUC-PC</td><td>▁</td></tr><tr><td>accuracy</td><td>▁</td></tr><tr><td>f1 macro</td><td>▁</td></tr></table><br/></div><div class=\"wandb-col\"><h3>Run summary:</h3><br/><table class=\"wandb\"><tr><td>AUC</td><td>0.85212</td></tr><tr><td>AUC-PC</td><td>0.85627</td></tr><tr><td>accuracy</td><td>0.78096</td></tr><tr><td>f1 macro</td><td>0.78086</td></tr></table><br/></div></div>"
      ],
      "text/plain": [
       "<IPython.core.display.HTML object>"
      ]
     },
     "metadata": {},
     "output_type": "display_data"
    },
    {
     "data": {
      "text/html": [
       "Synced <strong style=\"color:#cdcd00\">fine-sweep-9</strong>: <a href=\"https://wandb.ai/benchmark-nlp/hyperopt/runs/93n7l37l\" target=\"_blank\">https://wandb.ai/benchmark-nlp/hyperopt/runs/93n7l37l</a><br/>Synced 5 W&B file(s), 0 media file(s), 0 artifact file(s) and 0 other file(s)"
      ],
      "text/plain": [
       "<IPython.core.display.HTML object>"
      ]
     },
     "metadata": {},
     "output_type": "display_data"
    },
    {
     "data": {
      "text/html": [
       "Find logs at: <code>.\\wandb\\run-20220821_165955-93n7l37l\\logs</code>"
      ],
      "text/plain": [
       "<IPython.core.display.HTML object>"
      ]
     },
     "metadata": {},
     "output_type": "display_data"
    },
    {
     "name": "stderr",
     "output_type": "stream",
     "text": [
      "\u001b[34m\u001b[1mwandb\u001b[0m: Agent Starting Run: qfjihw7e with config:\n",
      "\u001b[34m\u001b[1mwandb\u001b[0m: \tmax_features: log2\n",
      "\u001b[34m\u001b[1mwandb\u001b[0m: \tn_estimators: 14\n",
      "\u001b[34m\u001b[1mwandb\u001b[0m: \trandom_state: 42\n"
     ]
    },
    {
     "data": {
      "text/html": [
       "wandb version 0.13.1 is available!  To upgrade, please run:\n",
       " $ pip install wandb --upgrade"
      ],
      "text/plain": [
       "<IPython.core.display.HTML object>"
      ]
     },
     "metadata": {},
     "output_type": "display_data"
    },
    {
     "data": {
      "text/html": [
       "Tracking run with wandb version 0.12.21"
      ],
      "text/plain": [
       "<IPython.core.display.HTML object>"
      ]
     },
     "metadata": {},
     "output_type": "display_data"
    },
    {
     "data": {
      "text/html": [
       "Run data is saved locally in <code>C:\\Users\\Saiga\\Documents\\NotebooksJupyter\\text_classification_benchmark\\wandb\\run-20220821_170313-qfjihw7e</code>"
      ],
      "text/plain": [
       "<IPython.core.display.HTML object>"
      ]
     },
     "metadata": {},
     "output_type": "display_data"
    },
    {
     "data": {
      "text/html": [
       "Syncing run <strong><a href=\"https://wandb.ai/benchmark-nlp/hyperopt/runs/qfjihw7e\" target=\"_blank\">magic-sweep-10</a></strong> to <a href=\"https://wandb.ai/benchmark-nlp/hyperopt\" target=\"_blank\">Weights & Biases</a> (<a href=\"https://wandb.me/run\" target=\"_blank\">docs</a>)<br/>Sweep page:  <a href=\"https://wandb.ai/benchmark-nlp/hyperopt/sweeps/infpa5r9\" target=\"_blank\">https://wandb.ai/benchmark-nlp/hyperopt/sweeps/infpa5r9</a>"
      ],
      "text/plain": [
       "<IPython.core.display.HTML object>"
      ]
     },
     "metadata": {},
     "output_type": "display_data"
    },
    {
     "data": {
      "text/html": [
       "Waiting for W&B process to finish... <strong style=\"color:green\">(success).</strong>"
      ],
      "text/plain": [
       "<IPython.core.display.HTML object>"
      ]
     },
     "metadata": {},
     "output_type": "display_data"
    },
    {
     "data": {
      "text/html": [
       "<style>\n",
       "    table.wandb td:nth-child(1) { padding: 0 10px; text-align: left ; width: auto;} td:nth-child(2) {text-align: left ; width: 100%}\n",
       "    .wandb-row { display: flex; flex-direction: row; flex-wrap: wrap; justify-content: flex-start; width: 100% }\n",
       "    .wandb-col { display: flex; flex-direction: column; flex-basis: 100%; flex: 1; padding: 10px; }\n",
       "    </style>\n",
       "<div class=\"wandb-row\"><div class=\"wandb-col\"><h3>Run history:</h3><br/><table class=\"wandb\"><tr><td>AUC</td><td>▁</td></tr><tr><td>AUC-PC</td><td>▁</td></tr><tr><td>accuracy</td><td>▁</td></tr><tr><td>f1 macro</td><td>▁</td></tr></table><br/></div><div class=\"wandb-col\"><h3>Run summary:</h3><br/><table class=\"wandb\"><tr><td>AUC</td><td>0.83073</td></tr><tr><td>AUC-PC</td><td>0.81335</td></tr><tr><td>accuracy</td><td>0.76261</td></tr><tr><td>f1 macro</td><td>0.76252</td></tr></table><br/></div></div>"
      ],
      "text/plain": [
       "<IPython.core.display.HTML object>"
      ]
     },
     "metadata": {},
     "output_type": "display_data"
    },
    {
     "data": {
      "text/html": [
       "Synced <strong style=\"color:#cdcd00\">magic-sweep-10</strong>: <a href=\"https://wandb.ai/benchmark-nlp/hyperopt/runs/qfjihw7e\" target=\"_blank\">https://wandb.ai/benchmark-nlp/hyperopt/runs/qfjihw7e</a><br/>Synced 5 W&B file(s), 0 media file(s), 0 artifact file(s) and 0 other file(s)"
      ],
      "text/plain": [
       "<IPython.core.display.HTML object>"
      ]
     },
     "metadata": {},
     "output_type": "display_data"
    },
    {
     "data": {
      "text/html": [
       "Find logs at: <code>.\\wandb\\run-20220821_170313-qfjihw7e\\logs</code>"
      ],
      "text/plain": [
       "<IPython.core.display.HTML object>"
      ]
     },
     "metadata": {},
     "output_type": "display_data"
    },
    {
     "data": {
      "text/plain": [
       "0.0049305007679321475"
      ]
     },
     "execution_count": 10,
     "metadata": {},
     "output_type": "execute_result"
    }
   ],
   "source": [
    "#Don't forget to name the sweep instance  \n",
    "name = 'rf_tfidf_sst2' #change here\n",
    "sweep_config['name'] =  name\n",
    "\n",
    "#Generate a sweep_id\n",
    "sweep_id = wandb.sweep(sweep_config, project=\"hyperopt\")\n",
    "\n",
    "def train_tfidf(config = None,\n",
    "          train=train_sst2, #Change here\n",
    "          val=val_sst2): #change here\n",
    "    '''\n",
    "    Generic WandB function to conduct hyperparameter optimization with tf-idf vectorizer\n",
    "    '''\n",
    "    # Initialize a new wandb run\n",
    "    with wandb.init(config=config,group=name):\n",
    "        # If called by wandb.agent, as below,\n",
    "        # this config will be set by Sweep Controller\n",
    "        config = wandb.config\n",
    "        vec = TfidfVectorizer()\n",
    "        clf = RandomForestClassifier(n_estimators=config.n_estimators,\n",
    "                                max_features=config.max_features,\n",
    "                                 random_state=config.random_state) #set the hyperparams here\n",
    "        \n",
    "        #Create the pipeline\n",
    "        pipe = Pipeline([('vectorizer',vec),('clf',clf)])\n",
    "        #Fit the pipeline\n",
    "        pipe.fit(train['text'],train['label'])\n",
    "        \n",
    "        #Make predictions\n",
    "        pred_val = pipe.predict(val['text'])\n",
    "        pred_prob_val = pipe.predict_proba(val['text'])[:,1]\n",
    "        accuracy = accuracy_score(val['label'],pred_val)\n",
    "        f1_macro = f1_score(val['label'],pred_val,average='macro')\n",
    "        if train['label'].nunique() <=2:\n",
    "            aucpc =  average_precision_score(val['label'],pred_prob_val)\n",
    "            auc = roc_auc_score(val['label'],pred_prob_val)\n",
    "        else:\n",
    "            aucpc = '-'\n",
    "            auc = '-'\n",
    "        #Log metrics on WandB\n",
    "        wandb.log({\"accuracy\": accuracy, \"f1 macro\":f1_macro, \"AUC-PC\":aucpc, 'AUC':auc })\n",
    "\n",
    "#Track emissions\n",
    "tracker = EmissionsTracker(project_name=name,log_level='warning', measure_power_secs=300,\n",
    "                           output_file='output/emissions_hyperopt.csv')\n",
    "#Launch the agent\n",
    "tracker.start()\n",
    "wandb.agent(sweep_id, train_tfidf, count=OPT_ITER)\n",
    "tracker.stop()"
   ]
  },
  {
   "cell_type": "code",
   "execution_count": 11,
   "id": "9c304fc6",
   "metadata": {
    "scrolled": true
   },
   "outputs": [
    {
     "name": "stdout",
     "output_type": "stream",
     "text": [
      "Create sweep with ID: 8obdrf43\n",
      "Sweep URL: https://wandb.ai/benchmark-nlp/hyperopt/sweeps/8obdrf43\n"
     ]
    },
    {
     "name": "stderr",
     "output_type": "stream",
     "text": [
      "[codecarbon WARNING @ 17:04:18] No CPU tracking mode found. Falling back on CPU constant mode.\n",
      "[codecarbon WARNING @ 17:04:20] We saw that you have a Intel(R) Core(TM) i5-7200U CPU @ 2.50GHz but we don't know it. Please contact us.\n",
      "\u001b[34m\u001b[1mwandb\u001b[0m: Agent Starting Run: 248sqgth with config:\n",
      "\u001b[34m\u001b[1mwandb\u001b[0m: \tmax_features: log2\n",
      "\u001b[34m\u001b[1mwandb\u001b[0m: \tn_estimators: 172\n",
      "\u001b[34m\u001b[1mwandb\u001b[0m: \trandom_state: 42\n"
     ]
    },
    {
     "data": {
      "text/html": [
       "wandb version 0.13.1 is available!  To upgrade, please run:\n",
       " $ pip install wandb --upgrade"
      ],
      "text/plain": [
       "<IPython.core.display.HTML object>"
      ]
     },
     "metadata": {},
     "output_type": "display_data"
    },
    {
     "data": {
      "text/html": [
       "Tracking run with wandb version 0.12.21"
      ],
      "text/plain": [
       "<IPython.core.display.HTML object>"
      ]
     },
     "metadata": {},
     "output_type": "display_data"
    },
    {
     "data": {
      "text/html": [
       "Run data is saved locally in <code>C:\\Users\\Saiga\\Documents\\NotebooksJupyter\\text_classification_benchmark\\wandb\\run-20220821_170424-248sqgth</code>"
      ],
      "text/plain": [
       "<IPython.core.display.HTML object>"
      ]
     },
     "metadata": {},
     "output_type": "display_data"
    },
    {
     "data": {
      "text/html": [
       "Syncing run <strong><a href=\"https://wandb.ai/benchmark-nlp/hyperopt/runs/248sqgth\" target=\"_blank\">icy-sweep-1</a></strong> to <a href=\"https://wandb.ai/benchmark-nlp/hyperopt\" target=\"_blank\">Weights & Biases</a> (<a href=\"https://wandb.me/run\" target=\"_blank\">docs</a>)<br/>Sweep page:  <a href=\"https://wandb.ai/benchmark-nlp/hyperopt/sweeps/8obdrf43\" target=\"_blank\">https://wandb.ai/benchmark-nlp/hyperopt/sweeps/8obdrf43</a>"
      ],
      "text/plain": [
       "<IPython.core.display.HTML object>"
      ]
     },
     "metadata": {},
     "output_type": "display_data"
    },
    {
     "data": {
      "text/html": [
       "Waiting for W&B process to finish... <strong style=\"color:green\">(success).</strong>"
      ],
      "text/plain": [
       "<IPython.core.display.HTML object>"
      ]
     },
     "metadata": {},
     "output_type": "display_data"
    },
    {
     "data": {
      "text/html": [
       "<style>\n",
       "    table.wandb td:nth-child(1) { padding: 0 10px; text-align: left ; width: auto;} td:nth-child(2) {text-align: left ; width: 100%}\n",
       "    .wandb-row { display: flex; flex-direction: row; flex-wrap: wrap; justify-content: flex-start; width: 100% }\n",
       "    .wandb-col { display: flex; flex-direction: column; flex-basis: 100%; flex: 1; padding: 10px; }\n",
       "    </style>\n",
       "<div class=\"wandb-row\"><div class=\"wandb-col\"><h3>Run history:</h3><br/><table class=\"wandb\"><tr><td>AUC</td><td>▁</td></tr><tr><td>AUC-PC</td><td>▁</td></tr><tr><td>accuracy</td><td>▁</td></tr><tr><td>f1 macro</td><td>▁</td></tr></table><br/></div><div class=\"wandb-col\"><h3>Run summary:</h3><br/><table class=\"wandb\"><tr><td>AUC</td><td>0.84229</td></tr><tr><td>AUC-PC</td><td>0.86053</td></tr><tr><td>accuracy</td><td>0.74885</td></tr><tr><td>f1 macro</td><td>0.74633</td></tr></table><br/></div></div>"
      ],
      "text/plain": [
       "<IPython.core.display.HTML object>"
      ]
     },
     "metadata": {},
     "output_type": "display_data"
    },
    {
     "data": {
      "text/html": [
       "Synced <strong style=\"color:#cdcd00\">icy-sweep-1</strong>: <a href=\"https://wandb.ai/benchmark-nlp/hyperopt/runs/248sqgth\" target=\"_blank\">https://wandb.ai/benchmark-nlp/hyperopt/runs/248sqgth</a><br/>Synced 5 W&B file(s), 0 media file(s), 0 artifact file(s) and 0 other file(s)"
      ],
      "text/plain": [
       "<IPython.core.display.HTML object>"
      ]
     },
     "metadata": {},
     "output_type": "display_data"
    },
    {
     "data": {
      "text/html": [
       "Find logs at: <code>.\\wandb\\run-20220821_170424-248sqgth\\logs</code>"
      ],
      "text/plain": [
       "<IPython.core.display.HTML object>"
      ]
     },
     "metadata": {},
     "output_type": "display_data"
    },
    {
     "name": "stderr",
     "output_type": "stream",
     "text": [
      "\u001b[34m\u001b[1mwandb\u001b[0m: Agent Starting Run: od8b77am with config:\n",
      "\u001b[34m\u001b[1mwandb\u001b[0m: \tmax_features: log2\n",
      "\u001b[34m\u001b[1mwandb\u001b[0m: \tn_estimators: 130\n",
      "\u001b[34m\u001b[1mwandb\u001b[0m: \trandom_state: 42\n"
     ]
    },
    {
     "data": {
      "text/html": [
       "wandb version 0.13.1 is available!  To upgrade, please run:\n",
       " $ pip install wandb --upgrade"
      ],
      "text/plain": [
       "<IPython.core.display.HTML object>"
      ]
     },
     "metadata": {},
     "output_type": "display_data"
    },
    {
     "data": {
      "text/html": [
       "Tracking run with wandb version 0.12.21"
      ],
      "text/plain": [
       "<IPython.core.display.HTML object>"
      ]
     },
     "metadata": {},
     "output_type": "display_data"
    },
    {
     "data": {
      "text/html": [
       "Run data is saved locally in <code>C:\\Users\\Saiga\\Documents\\NotebooksJupyter\\text_classification_benchmark\\wandb\\run-20220821_170706-od8b77am</code>"
      ],
      "text/plain": [
       "<IPython.core.display.HTML object>"
      ]
     },
     "metadata": {},
     "output_type": "display_data"
    },
    {
     "data": {
      "text/html": [
       "Syncing run <strong><a href=\"https://wandb.ai/benchmark-nlp/hyperopt/runs/od8b77am\" target=\"_blank\">silvery-sweep-2</a></strong> to <a href=\"https://wandb.ai/benchmark-nlp/hyperopt\" target=\"_blank\">Weights & Biases</a> (<a href=\"https://wandb.me/run\" target=\"_blank\">docs</a>)<br/>Sweep page:  <a href=\"https://wandb.ai/benchmark-nlp/hyperopt/sweeps/8obdrf43\" target=\"_blank\">https://wandb.ai/benchmark-nlp/hyperopt/sweeps/8obdrf43</a>"
      ],
      "text/plain": [
       "<IPython.core.display.HTML object>"
      ]
     },
     "metadata": {},
     "output_type": "display_data"
    },
    {
     "data": {
      "text/html": [
       "Waiting for W&B process to finish... <strong style=\"color:green\">(success).</strong>"
      ],
      "text/plain": [
       "<IPython.core.display.HTML object>"
      ]
     },
     "metadata": {},
     "output_type": "display_data"
    },
    {
     "data": {
      "text/html": [
       "<style>\n",
       "    table.wandb td:nth-child(1) { padding: 0 10px; text-align: left ; width: auto;} td:nth-child(2) {text-align: left ; width: 100%}\n",
       "    .wandb-row { display: flex; flex-direction: row; flex-wrap: wrap; justify-content: flex-start; width: 100% }\n",
       "    .wandb-col { display: flex; flex-direction: column; flex-basis: 100%; flex: 1; padding: 10px; }\n",
       "    </style>\n",
       "<div class=\"wandb-row\"><div class=\"wandb-col\"><h3>Run history:</h3><br/><table class=\"wandb\"><tr><td>AUC</td><td>▁</td></tr><tr><td>AUC-PC</td><td>▁</td></tr><tr><td>accuracy</td><td>▁</td></tr><tr><td>f1 macro</td><td>▁</td></tr></table><br/></div><div class=\"wandb-col\"><h3>Run summary:</h3><br/><table class=\"wandb\"><tr><td>AUC</td><td>0.84021</td></tr><tr><td>AUC-PC</td><td>0.85822</td></tr><tr><td>accuracy</td><td>0.74427</td></tr><tr><td>f1 macro</td><td>0.74145</td></tr></table><br/></div></div>"
      ],
      "text/plain": [
       "<IPython.core.display.HTML object>"
      ]
     },
     "metadata": {},
     "output_type": "display_data"
    },
    {
     "data": {
      "text/html": [
       "Synced <strong style=\"color:#cdcd00\">silvery-sweep-2</strong>: <a href=\"https://wandb.ai/benchmark-nlp/hyperopt/runs/od8b77am\" target=\"_blank\">https://wandb.ai/benchmark-nlp/hyperopt/runs/od8b77am</a><br/>Synced 5 W&B file(s), 0 media file(s), 0 artifact file(s) and 0 other file(s)"
      ],
      "text/plain": [
       "<IPython.core.display.HTML object>"
      ]
     },
     "metadata": {},
     "output_type": "display_data"
    },
    {
     "data": {
      "text/html": [
       "Find logs at: <code>.\\wandb\\run-20220821_170706-od8b77am\\logs</code>"
      ],
      "text/plain": [
       "<IPython.core.display.HTML object>"
      ]
     },
     "metadata": {},
     "output_type": "display_data"
    },
    {
     "name": "stderr",
     "output_type": "stream",
     "text": [
      "\u001b[34m\u001b[1mwandb\u001b[0m: Agent Starting Run: lu8lhkcy with config:\n",
      "\u001b[34m\u001b[1mwandb\u001b[0m: \tmax_features: log2\n",
      "\u001b[34m\u001b[1mwandb\u001b[0m: \tn_estimators: 15\n",
      "\u001b[34m\u001b[1mwandb\u001b[0m: \trandom_state: 42\n"
     ]
    },
    {
     "data": {
      "text/html": [
       "wandb version 0.13.1 is available!  To upgrade, please run:\n",
       " $ pip install wandb --upgrade"
      ],
      "text/plain": [
       "<IPython.core.display.HTML object>"
      ]
     },
     "metadata": {},
     "output_type": "display_data"
    },
    {
     "data": {
      "text/html": [
       "Tracking run with wandb version 0.12.21"
      ],
      "text/plain": [
       "<IPython.core.display.HTML object>"
      ]
     },
     "metadata": {},
     "output_type": "display_data"
    },
    {
     "data": {
      "text/html": [
       "Run data is saved locally in <code>C:\\Users\\Saiga\\Documents\\NotebooksJupyter\\text_classification_benchmark\\wandb\\run-20220821_170911-lu8lhkcy</code>"
      ],
      "text/plain": [
       "<IPython.core.display.HTML object>"
      ]
     },
     "metadata": {},
     "output_type": "display_data"
    },
    {
     "data": {
      "text/html": [
       "Syncing run <strong><a href=\"https://wandb.ai/benchmark-nlp/hyperopt/runs/lu8lhkcy\" target=\"_blank\">generous-sweep-3</a></strong> to <a href=\"https://wandb.ai/benchmark-nlp/hyperopt\" target=\"_blank\">Weights & Biases</a> (<a href=\"https://wandb.me/run\" target=\"_blank\">docs</a>)<br/>Sweep page:  <a href=\"https://wandb.ai/benchmark-nlp/hyperopt/sweeps/8obdrf43\" target=\"_blank\">https://wandb.ai/benchmark-nlp/hyperopt/sweeps/8obdrf43</a>"
      ],
      "text/plain": [
       "<IPython.core.display.HTML object>"
      ]
     },
     "metadata": {},
     "output_type": "display_data"
    },
    {
     "data": {
      "text/html": [
       "Waiting for W&B process to finish... <strong style=\"color:green\">(success).</strong>"
      ],
      "text/plain": [
       "<IPython.core.display.HTML object>"
      ]
     },
     "metadata": {},
     "output_type": "display_data"
    },
    {
     "data": {
      "text/html": [
       "<style>\n",
       "    table.wandb td:nth-child(1) { padding: 0 10px; text-align: left ; width: auto;} td:nth-child(2) {text-align: left ; width: 100%}\n",
       "    .wandb-row { display: flex; flex-direction: row; flex-wrap: wrap; justify-content: flex-start; width: 100% }\n",
       "    .wandb-col { display: flex; flex-direction: column; flex-basis: 100%; flex: 1; padding: 10px; }\n",
       "    </style>\n",
       "<div class=\"wandb-row\"><div class=\"wandb-col\"><h3>Run history:</h3><br/><table class=\"wandb\"><tr><td>AUC</td><td>▁</td></tr><tr><td>AUC-PC</td><td>▁</td></tr><tr><td>accuracy</td><td>▁</td></tr><tr><td>f1 macro</td><td>▁</td></tr></table><br/></div><div class=\"wandb-col\"><h3>Run summary:</h3><br/><table class=\"wandb\"><tr><td>AUC</td><td>0.79061</td></tr><tr><td>AUC-PC</td><td>0.79273</td></tr><tr><td>accuracy</td><td>0.70069</td></tr><tr><td>f1 macro</td><td>0.69724</td></tr></table><br/></div></div>"
      ],
      "text/plain": [
       "<IPython.core.display.HTML object>"
      ]
     },
     "metadata": {},
     "output_type": "display_data"
    },
    {
     "data": {
      "text/html": [
       "Synced <strong style=\"color:#cdcd00\">generous-sweep-3</strong>: <a href=\"https://wandb.ai/benchmark-nlp/hyperopt/runs/lu8lhkcy\" target=\"_blank\">https://wandb.ai/benchmark-nlp/hyperopt/runs/lu8lhkcy</a><br/>Synced 5 W&B file(s), 0 media file(s), 0 artifact file(s) and 0 other file(s)"
      ],
      "text/plain": [
       "<IPython.core.display.HTML object>"
      ]
     },
     "metadata": {},
     "output_type": "display_data"
    },
    {
     "data": {
      "text/html": [
       "Find logs at: <code>.\\wandb\\run-20220821_170911-lu8lhkcy\\logs</code>"
      ],
      "text/plain": [
       "<IPython.core.display.HTML object>"
      ]
     },
     "metadata": {},
     "output_type": "display_data"
    },
    {
     "name": "stderr",
     "output_type": "stream",
     "text": [
      "\u001b[34m\u001b[1mwandb\u001b[0m: Agent Starting Run: tfu23y68 with config:\n",
      "\u001b[34m\u001b[1mwandb\u001b[0m: \tmax_features: log2\n",
      "\u001b[34m\u001b[1mwandb\u001b[0m: \tn_estimators: 180\n",
      "\u001b[34m\u001b[1mwandb\u001b[0m: \trandom_state: 42\n"
     ]
    },
    {
     "data": {
      "text/html": [
       "wandb version 0.13.1 is available!  To upgrade, please run:\n",
       " $ pip install wandb --upgrade"
      ],
      "text/plain": [
       "<IPython.core.display.HTML object>"
      ]
     },
     "metadata": {},
     "output_type": "display_data"
    },
    {
     "data": {
      "text/html": [
       "Tracking run with wandb version 0.12.21"
      ],
      "text/plain": [
       "<IPython.core.display.HTML object>"
      ]
     },
     "metadata": {},
     "output_type": "display_data"
    },
    {
     "data": {
      "text/html": [
       "Run data is saved locally in <code>C:\\Users\\Saiga\\Documents\\NotebooksJupyter\\text_classification_benchmark\\wandb\\run-20220821_171008-tfu23y68</code>"
      ],
      "text/plain": [
       "<IPython.core.display.HTML object>"
      ]
     },
     "metadata": {},
     "output_type": "display_data"
    },
    {
     "data": {
      "text/html": [
       "Syncing run <strong><a href=\"https://wandb.ai/benchmark-nlp/hyperopt/runs/tfu23y68\" target=\"_blank\">lunar-sweep-4</a></strong> to <a href=\"https://wandb.ai/benchmark-nlp/hyperopt\" target=\"_blank\">Weights & Biases</a> (<a href=\"https://wandb.me/run\" target=\"_blank\">docs</a>)<br/>Sweep page:  <a href=\"https://wandb.ai/benchmark-nlp/hyperopt/sweeps/8obdrf43\" target=\"_blank\">https://wandb.ai/benchmark-nlp/hyperopt/sweeps/8obdrf43</a>"
      ],
      "text/plain": [
       "<IPython.core.display.HTML object>"
      ]
     },
     "metadata": {},
     "output_type": "display_data"
    },
    {
     "data": {
      "text/html": [
       "Waiting for W&B process to finish... <strong style=\"color:green\">(success).</strong>"
      ],
      "text/plain": [
       "<IPython.core.display.HTML object>"
      ]
     },
     "metadata": {},
     "output_type": "display_data"
    },
    {
     "data": {
      "text/html": [
       "<style>\n",
       "    table.wandb td:nth-child(1) { padding: 0 10px; text-align: left ; width: auto;} td:nth-child(2) {text-align: left ; width: 100%}\n",
       "    .wandb-row { display: flex; flex-direction: row; flex-wrap: wrap; justify-content: flex-start; width: 100% }\n",
       "    .wandb-col { display: flex; flex-direction: column; flex-basis: 100%; flex: 1; padding: 10px; }\n",
       "    </style>\n",
       "<div class=\"wandb-row\"><div class=\"wandb-col\"><h3>Run history:</h3><br/><table class=\"wandb\"><tr><td>AUC</td><td>▁</td></tr><tr><td>AUC-PC</td><td>▁</td></tr><tr><td>accuracy</td><td>▁</td></tr><tr><td>f1 macro</td><td>▁</td></tr></table><br/></div><div class=\"wandb-col\"><h3>Run summary:</h3><br/><table class=\"wandb\"><tr><td>AUC</td><td>0.843</td></tr><tr><td>AUC-PC</td><td>0.86081</td></tr><tr><td>accuracy</td><td>0.74656</td></tr><tr><td>f1 macro</td><td>0.74377</td></tr></table><br/></div></div>"
      ],
      "text/plain": [
       "<IPython.core.display.HTML object>"
      ]
     },
     "metadata": {},
     "output_type": "display_data"
    },
    {
     "data": {
      "text/html": [
       "Synced <strong style=\"color:#cdcd00\">lunar-sweep-4</strong>: <a href=\"https://wandb.ai/benchmark-nlp/hyperopt/runs/tfu23y68\" target=\"_blank\">https://wandb.ai/benchmark-nlp/hyperopt/runs/tfu23y68</a><br/>Synced 5 W&B file(s), 0 media file(s), 0 artifact file(s) and 0 other file(s)"
      ],
      "text/plain": [
       "<IPython.core.display.HTML object>"
      ]
     },
     "metadata": {},
     "output_type": "display_data"
    },
    {
     "data": {
      "text/html": [
       "Find logs at: <code>.\\wandb\\run-20220821_171008-tfu23y68\\logs</code>"
      ],
      "text/plain": [
       "<IPython.core.display.HTML object>"
      ]
     },
     "metadata": {},
     "output_type": "display_data"
    },
    {
     "name": "stderr",
     "output_type": "stream",
     "text": [
      "\u001b[34m\u001b[1mwandb\u001b[0m: Agent Starting Run: c7ciqknu with config:\n",
      "\u001b[34m\u001b[1mwandb\u001b[0m: \tmax_features: log2\n",
      "\u001b[34m\u001b[1mwandb\u001b[0m: \tn_estimators: 90\n",
      "\u001b[34m\u001b[1mwandb\u001b[0m: \trandom_state: 42\n"
     ]
    },
    {
     "data": {
      "text/html": [
       "wandb version 0.13.1 is available!  To upgrade, please run:\n",
       " $ pip install wandb --upgrade"
      ],
      "text/plain": [
       "<IPython.core.display.HTML object>"
      ]
     },
     "metadata": {},
     "output_type": "display_data"
    },
    {
     "data": {
      "text/html": [
       "Tracking run with wandb version 0.12.21"
      ],
      "text/plain": [
       "<IPython.core.display.HTML object>"
      ]
     },
     "metadata": {},
     "output_type": "display_data"
    },
    {
     "data": {
      "text/html": [
       "Run data is saved locally in <code>C:\\Users\\Saiga\\Documents\\NotebooksJupyter\\text_classification_benchmark\\wandb\\run-20220821_171240-c7ciqknu</code>"
      ],
      "text/plain": [
       "<IPython.core.display.HTML object>"
      ]
     },
     "metadata": {},
     "output_type": "display_data"
    },
    {
     "data": {
      "text/html": [
       "Syncing run <strong><a href=\"https://wandb.ai/benchmark-nlp/hyperopt/runs/c7ciqknu\" target=\"_blank\">royal-sweep-5</a></strong> to <a href=\"https://wandb.ai/benchmark-nlp/hyperopt\" target=\"_blank\">Weights & Biases</a> (<a href=\"https://wandb.me/run\" target=\"_blank\">docs</a>)<br/>Sweep page:  <a href=\"https://wandb.ai/benchmark-nlp/hyperopt/sweeps/8obdrf43\" target=\"_blank\">https://wandb.ai/benchmark-nlp/hyperopt/sweeps/8obdrf43</a>"
      ],
      "text/plain": [
       "<IPython.core.display.HTML object>"
      ]
     },
     "metadata": {},
     "output_type": "display_data"
    },
    {
     "data": {
      "text/html": [
       "Waiting for W&B process to finish... <strong style=\"color:green\">(success).</strong>"
      ],
      "text/plain": [
       "<IPython.core.display.HTML object>"
      ]
     },
     "metadata": {},
     "output_type": "display_data"
    },
    {
     "data": {
      "text/html": [
       "<style>\n",
       "    table.wandb td:nth-child(1) { padding: 0 10px; text-align: left ; width: auto;} td:nth-child(2) {text-align: left ; width: 100%}\n",
       "    .wandb-row { display: flex; flex-direction: row; flex-wrap: wrap; justify-content: flex-start; width: 100% }\n",
       "    .wandb-col { display: flex; flex-direction: column; flex-basis: 100%; flex: 1; padding: 10px; }\n",
       "    </style>\n",
       "<div class=\"wandb-row\"><div class=\"wandb-col\"><h3>Run history:</h3><br/><table class=\"wandb\"><tr><td>AUC</td><td>▁</td></tr><tr><td>AUC-PC</td><td>▁</td></tr><tr><td>accuracy</td><td>▁</td></tr><tr><td>f1 macro</td><td>▁</td></tr></table><br/></div><div class=\"wandb-col\"><h3>Run summary:</h3><br/><table class=\"wandb\"><tr><td>AUC</td><td>0.83943</td></tr><tr><td>AUC-PC</td><td>0.855</td></tr><tr><td>accuracy</td><td>0.74427</td></tr><tr><td>f1 macro</td><td>0.74157</td></tr></table><br/></div></div>"
      ],
      "text/plain": [
       "<IPython.core.display.HTML object>"
      ]
     },
     "metadata": {},
     "output_type": "display_data"
    },
    {
     "data": {
      "text/html": [
       "Synced <strong style=\"color:#cdcd00\">royal-sweep-5</strong>: <a href=\"https://wandb.ai/benchmark-nlp/hyperopt/runs/c7ciqknu\" target=\"_blank\">https://wandb.ai/benchmark-nlp/hyperopt/runs/c7ciqknu</a><br/>Synced 5 W&B file(s), 0 media file(s), 0 artifact file(s) and 0 other file(s)"
      ],
      "text/plain": [
       "<IPython.core.display.HTML object>"
      ]
     },
     "metadata": {},
     "output_type": "display_data"
    },
    {
     "data": {
      "text/html": [
       "Find logs at: <code>.\\wandb\\run-20220821_171240-c7ciqknu\\logs</code>"
      ],
      "text/plain": [
       "<IPython.core.display.HTML object>"
      ]
     },
     "metadata": {},
     "output_type": "display_data"
    },
    {
     "name": "stderr",
     "output_type": "stream",
     "text": [
      "\u001b[34m\u001b[1mwandb\u001b[0m: Agent Starting Run: hd9yhkad with config:\n",
      "\u001b[34m\u001b[1mwandb\u001b[0m: \tmax_features: log2\n",
      "\u001b[34m\u001b[1mwandb\u001b[0m: \tn_estimators: 149\n",
      "\u001b[34m\u001b[1mwandb\u001b[0m: \trandom_state: 42\n"
     ]
    },
    {
     "data": {
      "text/html": [
       "wandb version 0.13.1 is available!  To upgrade, please run:\n",
       " $ pip install wandb --upgrade"
      ],
      "text/plain": [
       "<IPython.core.display.HTML object>"
      ]
     },
     "metadata": {},
     "output_type": "display_data"
    },
    {
     "data": {
      "text/html": [
       "Tracking run with wandb version 0.12.21"
      ],
      "text/plain": [
       "<IPython.core.display.HTML object>"
      ]
     },
     "metadata": {},
     "output_type": "display_data"
    },
    {
     "data": {
      "text/html": [
       "Run data is saved locally in <code>C:\\Users\\Saiga\\Documents\\NotebooksJupyter\\text_classification_benchmark\\wandb\\run-20220821_171413-hd9yhkad</code>"
      ],
      "text/plain": [
       "<IPython.core.display.HTML object>"
      ]
     },
     "metadata": {},
     "output_type": "display_data"
    },
    {
     "data": {
      "text/html": [
       "Syncing run <strong><a href=\"https://wandb.ai/benchmark-nlp/hyperopt/runs/hd9yhkad\" target=\"_blank\">icy-sweep-6</a></strong> to <a href=\"https://wandb.ai/benchmark-nlp/hyperopt\" target=\"_blank\">Weights & Biases</a> (<a href=\"https://wandb.me/run\" target=\"_blank\">docs</a>)<br/>Sweep page:  <a href=\"https://wandb.ai/benchmark-nlp/hyperopt/sweeps/8obdrf43\" target=\"_blank\">https://wandb.ai/benchmark-nlp/hyperopt/sweeps/8obdrf43</a>"
      ],
      "text/plain": [
       "<IPython.core.display.HTML object>"
      ]
     },
     "metadata": {},
     "output_type": "display_data"
    },
    {
     "data": {
      "text/html": [
       "Waiting for W&B process to finish... <strong style=\"color:green\">(success).</strong>"
      ],
      "text/plain": [
       "<IPython.core.display.HTML object>"
      ]
     },
     "metadata": {},
     "output_type": "display_data"
    },
    {
     "data": {
      "text/html": [
       "<style>\n",
       "    table.wandb td:nth-child(1) { padding: 0 10px; text-align: left ; width: auto;} td:nth-child(2) {text-align: left ; width: 100%}\n",
       "    .wandb-row { display: flex; flex-direction: row; flex-wrap: wrap; justify-content: flex-start; width: 100% }\n",
       "    .wandb-col { display: flex; flex-direction: column; flex-basis: 100%; flex: 1; padding: 10px; }\n",
       "    </style>\n",
       "<div class=\"wandb-row\"><div class=\"wandb-col\"><h3>Run history:</h3><br/><table class=\"wandb\"><tr><td>AUC</td><td>▁</td></tr><tr><td>AUC-PC</td><td>▁</td></tr><tr><td>accuracy</td><td>▁</td></tr><tr><td>f1 macro</td><td>▁</td></tr></table><br/></div><div class=\"wandb-col\"><h3>Run summary:</h3><br/><table class=\"wandb\"><tr><td>AUC</td><td>0.84209</td></tr><tr><td>AUC-PC</td><td>0.8597</td></tr><tr><td>accuracy</td><td>0.74427</td></tr><tr><td>f1 macro</td><td>0.74157</td></tr></table><br/></div></div>"
      ],
      "text/plain": [
       "<IPython.core.display.HTML object>"
      ]
     },
     "metadata": {},
     "output_type": "display_data"
    },
    {
     "data": {
      "text/html": [
       "Synced <strong style=\"color:#cdcd00\">icy-sweep-6</strong>: <a href=\"https://wandb.ai/benchmark-nlp/hyperopt/runs/hd9yhkad\" target=\"_blank\">https://wandb.ai/benchmark-nlp/hyperopt/runs/hd9yhkad</a><br/>Synced 5 W&B file(s), 0 media file(s), 0 artifact file(s) and 0 other file(s)"
      ],
      "text/plain": [
       "<IPython.core.display.HTML object>"
      ]
     },
     "metadata": {},
     "output_type": "display_data"
    },
    {
     "data": {
      "text/html": [
       "Find logs at: <code>.\\wandb\\run-20220821_171413-hd9yhkad\\logs</code>"
      ],
      "text/plain": [
       "<IPython.core.display.HTML object>"
      ]
     },
     "metadata": {},
     "output_type": "display_data"
    },
    {
     "name": "stderr",
     "output_type": "stream",
     "text": [
      "\u001b[34m\u001b[1mwandb\u001b[0m: Agent Starting Run: 61hg8qrz with config:\n",
      "\u001b[34m\u001b[1mwandb\u001b[0m: \tmax_features: sqrt\n",
      "\u001b[34m\u001b[1mwandb\u001b[0m: \tn_estimators: 149\n",
      "\u001b[34m\u001b[1mwandb\u001b[0m: \trandom_state: 42\n"
     ]
    },
    {
     "data": {
      "text/html": [
       "wandb version 0.13.1 is available!  To upgrade, please run:\n",
       " $ pip install wandb --upgrade"
      ],
      "text/plain": [
       "<IPython.core.display.HTML object>"
      ]
     },
     "metadata": {},
     "output_type": "display_data"
    },
    {
     "data": {
      "text/html": [
       "Tracking run with wandb version 0.12.21"
      ],
      "text/plain": [
       "<IPython.core.display.HTML object>"
      ]
     },
     "metadata": {},
     "output_type": "display_data"
    },
    {
     "data": {
      "text/html": [
       "Run data is saved locally in <code>C:\\Users\\Saiga\\Documents\\NotebooksJupyter\\text_classification_benchmark\\wandb\\run-20220821_171629-61hg8qrz</code>"
      ],
      "text/plain": [
       "<IPython.core.display.HTML object>"
      ]
     },
     "metadata": {},
     "output_type": "display_data"
    },
    {
     "data": {
      "text/html": [
       "Syncing run <strong><a href=\"https://wandb.ai/benchmark-nlp/hyperopt/runs/61hg8qrz\" target=\"_blank\">sweet-sweep-7</a></strong> to <a href=\"https://wandb.ai/benchmark-nlp/hyperopt\" target=\"_blank\">Weights & Biases</a> (<a href=\"https://wandb.me/run\" target=\"_blank\">docs</a>)<br/>Sweep page:  <a href=\"https://wandb.ai/benchmark-nlp/hyperopt/sweeps/8obdrf43\" target=\"_blank\">https://wandb.ai/benchmark-nlp/hyperopt/sweeps/8obdrf43</a>"
      ],
      "text/plain": [
       "<IPython.core.display.HTML object>"
      ]
     },
     "metadata": {},
     "output_type": "display_data"
    },
    {
     "data": {
      "text/html": [
       "Waiting for W&B process to finish... <strong style=\"color:green\">(success).</strong>"
      ],
      "text/plain": [
       "<IPython.core.display.HTML object>"
      ]
     },
     "metadata": {},
     "output_type": "display_data"
    },
    {
     "data": {
      "text/html": [
       "<style>\n",
       "    table.wandb td:nth-child(1) { padding: 0 10px; text-align: left ; width: auto;} td:nth-child(2) {text-align: left ; width: 100%}\n",
       "    .wandb-row { display: flex; flex-direction: row; flex-wrap: wrap; justify-content: flex-start; width: 100% }\n",
       "    .wandb-col { display: flex; flex-direction: column; flex-basis: 100%; flex: 1; padding: 10px; }\n",
       "    </style>\n",
       "<div class=\"wandb-row\"><div class=\"wandb-col\"><h3>Run history:</h3><br/><table class=\"wandb\"><tr><td>AUC</td><td>▁</td></tr><tr><td>AUC-PC</td><td>▁</td></tr><tr><td>accuracy</td><td>▁</td></tr><tr><td>f1 macro</td><td>▁</td></tr></table><br/></div><div class=\"wandb-col\"><h3>Run summary:</h3><br/><table class=\"wandb\"><tr><td>AUC</td><td>0.83636</td></tr><tr><td>AUC-PC</td><td>0.8466</td></tr><tr><td>accuracy</td><td>0.75229</td></tr><tr><td>f1 macro</td><td>0.7505</td></tr></table><br/></div></div>"
      ],
      "text/plain": [
       "<IPython.core.display.HTML object>"
      ]
     },
     "metadata": {},
     "output_type": "display_data"
    },
    {
     "data": {
      "text/html": [
       "Synced <strong style=\"color:#cdcd00\">sweet-sweep-7</strong>: <a href=\"https://wandb.ai/benchmark-nlp/hyperopt/runs/61hg8qrz\" target=\"_blank\">https://wandb.ai/benchmark-nlp/hyperopt/runs/61hg8qrz</a><br/>Synced 5 W&B file(s), 0 media file(s), 0 artifact file(s) and 0 other file(s)"
      ],
      "text/plain": [
       "<IPython.core.display.HTML object>"
      ]
     },
     "metadata": {},
     "output_type": "display_data"
    },
    {
     "data": {
      "text/html": [
       "Find logs at: <code>.\\wandb\\run-20220821_171629-61hg8qrz\\logs</code>"
      ],
      "text/plain": [
       "<IPython.core.display.HTML object>"
      ]
     },
     "metadata": {},
     "output_type": "display_data"
    },
    {
     "name": "stderr",
     "output_type": "stream",
     "text": [
      "\u001b[34m\u001b[1mwandb\u001b[0m: Agent Starting Run: isvx57bo with config:\n",
      "\u001b[34m\u001b[1mwandb\u001b[0m: \tmax_features: log2\n",
      "\u001b[34m\u001b[1mwandb\u001b[0m: \tn_estimators: 135\n",
      "\u001b[34m\u001b[1mwandb\u001b[0m: \trandom_state: 42\n"
     ]
    },
    {
     "data": {
      "text/html": [
       "wandb version 0.13.1 is available!  To upgrade, please run:\n",
       " $ pip install wandb --upgrade"
      ],
      "text/plain": [
       "<IPython.core.display.HTML object>"
      ]
     },
     "metadata": {},
     "output_type": "display_data"
    },
    {
     "data": {
      "text/html": [
       "Tracking run with wandb version 0.12.21"
      ],
      "text/plain": [
       "<IPython.core.display.HTML object>"
      ]
     },
     "metadata": {},
     "output_type": "display_data"
    },
    {
     "data": {
      "text/html": [
       "Run data is saved locally in <code>C:\\Users\\Saiga\\Documents\\NotebooksJupyter\\text_classification_benchmark\\wandb\\run-20220821_172045-isvx57bo</code>"
      ],
      "text/plain": [
       "<IPython.core.display.HTML object>"
      ]
     },
     "metadata": {},
     "output_type": "display_data"
    },
    {
     "data": {
      "text/html": [
       "Syncing run <strong><a href=\"https://wandb.ai/benchmark-nlp/hyperopt/runs/isvx57bo\" target=\"_blank\">dazzling-sweep-8</a></strong> to <a href=\"https://wandb.ai/benchmark-nlp/hyperopt\" target=\"_blank\">Weights & Biases</a> (<a href=\"https://wandb.me/run\" target=\"_blank\">docs</a>)<br/>Sweep page:  <a href=\"https://wandb.ai/benchmark-nlp/hyperopt/sweeps/8obdrf43\" target=\"_blank\">https://wandb.ai/benchmark-nlp/hyperopt/sweeps/8obdrf43</a>"
      ],
      "text/plain": [
       "<IPython.core.display.HTML object>"
      ]
     },
     "metadata": {},
     "output_type": "display_data"
    },
    {
     "data": {
      "text/html": [
       "Waiting for W&B process to finish... <strong style=\"color:green\">(success).</strong>"
      ],
      "text/plain": [
       "<IPython.core.display.HTML object>"
      ]
     },
     "metadata": {},
     "output_type": "display_data"
    },
    {
     "data": {
      "text/html": [
       "<style>\n",
       "    table.wandb td:nth-child(1) { padding: 0 10px; text-align: left ; width: auto;} td:nth-child(2) {text-align: left ; width: 100%}\n",
       "    .wandb-row { display: flex; flex-direction: row; flex-wrap: wrap; justify-content: flex-start; width: 100% }\n",
       "    .wandb-col { display: flex; flex-direction: column; flex-basis: 100%; flex: 1; padding: 10px; }\n",
       "    </style>\n",
       "<div class=\"wandb-row\"><div class=\"wandb-col\"><h3>Run history:</h3><br/><table class=\"wandb\"><tr><td>AUC</td><td>▁</td></tr><tr><td>AUC-PC</td><td>▁</td></tr><tr><td>accuracy</td><td>▁</td></tr><tr><td>f1 macro</td><td>▁</td></tr></table><br/></div><div class=\"wandb-col\"><h3>Run summary:</h3><br/><table class=\"wandb\"><tr><td>AUC</td><td>0.84135</td></tr><tr><td>AUC-PC</td><td>0.85971</td></tr><tr><td>accuracy</td><td>0.75</td></tr><tr><td>f1 macro</td><td>0.74719</td></tr></table><br/></div></div>"
      ],
      "text/plain": [
       "<IPython.core.display.HTML object>"
      ]
     },
     "metadata": {},
     "output_type": "display_data"
    },
    {
     "data": {
      "text/html": [
       "Synced <strong style=\"color:#cdcd00\">dazzling-sweep-8</strong>: <a href=\"https://wandb.ai/benchmark-nlp/hyperopt/runs/isvx57bo\" target=\"_blank\">https://wandb.ai/benchmark-nlp/hyperopt/runs/isvx57bo</a><br/>Synced 5 W&B file(s), 0 media file(s), 0 artifact file(s) and 0 other file(s)"
      ],
      "text/plain": [
       "<IPython.core.display.HTML object>"
      ]
     },
     "metadata": {},
     "output_type": "display_data"
    },
    {
     "data": {
      "text/html": [
       "Find logs at: <code>.\\wandb\\run-20220821_172045-isvx57bo\\logs</code>"
      ],
      "text/plain": [
       "<IPython.core.display.HTML object>"
      ]
     },
     "metadata": {},
     "output_type": "display_data"
    },
    {
     "name": "stderr",
     "output_type": "stream",
     "text": [
      "\u001b[34m\u001b[1mwandb\u001b[0m: Agent Starting Run: 1lylnkyh with config:\n",
      "\u001b[34m\u001b[1mwandb\u001b[0m: \tmax_features: sqrt\n",
      "\u001b[34m\u001b[1mwandb\u001b[0m: \tn_estimators: 88\n",
      "\u001b[34m\u001b[1mwandb\u001b[0m: \trandom_state: 42\n"
     ]
    },
    {
     "data": {
      "text/html": [
       "wandb version 0.13.1 is available!  To upgrade, please run:\n",
       " $ pip install wandb --upgrade"
      ],
      "text/plain": [
       "<IPython.core.display.HTML object>"
      ]
     },
     "metadata": {},
     "output_type": "display_data"
    },
    {
     "data": {
      "text/html": [
       "Tracking run with wandb version 0.12.21"
      ],
      "text/plain": [
       "<IPython.core.display.HTML object>"
      ]
     },
     "metadata": {},
     "output_type": "display_data"
    },
    {
     "data": {
      "text/html": [
       "Run data is saved locally in <code>C:\\Users\\Saiga\\Documents\\NotebooksJupyter\\text_classification_benchmark\\wandb\\run-20220821_172250-1lylnkyh</code>"
      ],
      "text/plain": [
       "<IPython.core.display.HTML object>"
      ]
     },
     "metadata": {},
     "output_type": "display_data"
    },
    {
     "data": {
      "text/html": [
       "Syncing run <strong><a href=\"https://wandb.ai/benchmark-nlp/hyperopt/runs/1lylnkyh\" target=\"_blank\">upbeat-sweep-9</a></strong> to <a href=\"https://wandb.ai/benchmark-nlp/hyperopt\" target=\"_blank\">Weights & Biases</a> (<a href=\"https://wandb.me/run\" target=\"_blank\">docs</a>)<br/>Sweep page:  <a href=\"https://wandb.ai/benchmark-nlp/hyperopt/sweeps/8obdrf43\" target=\"_blank\">https://wandb.ai/benchmark-nlp/hyperopt/sweeps/8obdrf43</a>"
      ],
      "text/plain": [
       "<IPython.core.display.HTML object>"
      ]
     },
     "metadata": {},
     "output_type": "display_data"
    },
    {
     "data": {
      "text/html": [
       "Waiting for W&B process to finish... <strong style=\"color:green\">(success).</strong>"
      ],
      "text/plain": [
       "<IPython.core.display.HTML object>"
      ]
     },
     "metadata": {},
     "output_type": "display_data"
    },
    {
     "data": {
      "text/html": [
       "<style>\n",
       "    table.wandb td:nth-child(1) { padding: 0 10px; text-align: left ; width: auto;} td:nth-child(2) {text-align: left ; width: 100%}\n",
       "    .wandb-row { display: flex; flex-direction: row; flex-wrap: wrap; justify-content: flex-start; width: 100% }\n",
       "    .wandb-col { display: flex; flex-direction: column; flex-basis: 100%; flex: 1; padding: 10px; }\n",
       "    </style>\n",
       "<div class=\"wandb-row\"><div class=\"wandb-col\"><h3>Run history:</h3><br/><table class=\"wandb\"><tr><td>AUC</td><td>▁</td></tr><tr><td>AUC-PC</td><td>▁</td></tr><tr><td>accuracy</td><td>▁</td></tr><tr><td>f1 macro</td><td>▁</td></tr></table><br/></div><div class=\"wandb-col\"><h3>Run summary:</h3><br/><table class=\"wandb\"><tr><td>AUC</td><td>0.83603</td></tr><tr><td>AUC-PC</td><td>0.84581</td></tr><tr><td>accuracy</td><td>0.75</td></tr><tr><td>f1 macro</td><td>0.74809</td></tr></table><br/></div></div>"
      ],
      "text/plain": [
       "<IPython.core.display.HTML object>"
      ]
     },
     "metadata": {},
     "output_type": "display_data"
    },
    {
     "data": {
      "text/html": [
       "Synced <strong style=\"color:#cdcd00\">upbeat-sweep-9</strong>: <a href=\"https://wandb.ai/benchmark-nlp/hyperopt/runs/1lylnkyh\" target=\"_blank\">https://wandb.ai/benchmark-nlp/hyperopt/runs/1lylnkyh</a><br/>Synced 5 W&B file(s), 0 media file(s), 0 artifact file(s) and 0 other file(s)"
      ],
      "text/plain": [
       "<IPython.core.display.HTML object>"
      ]
     },
     "metadata": {},
     "output_type": "display_data"
    },
    {
     "data": {
      "text/html": [
       "Find logs at: <code>.\\wandb\\run-20220821_172250-1lylnkyh\\logs</code>"
      ],
      "text/plain": [
       "<IPython.core.display.HTML object>"
      ]
     },
     "metadata": {},
     "output_type": "display_data"
    },
    {
     "name": "stderr",
     "output_type": "stream",
     "text": [
      "\u001b[34m\u001b[1mwandb\u001b[0m: Agent Starting Run: bavg5x0l with config:\n",
      "\u001b[34m\u001b[1mwandb\u001b[0m: \tmax_features: sqrt\n",
      "\u001b[34m\u001b[1mwandb\u001b[0m: \tn_estimators: 195\n",
      "\u001b[34m\u001b[1mwandb\u001b[0m: \trandom_state: 42\n"
     ]
    },
    {
     "data": {
      "text/html": [
       "wandb version 0.13.1 is available!  To upgrade, please run:\n",
       " $ pip install wandb --upgrade"
      ],
      "text/plain": [
       "<IPython.core.display.HTML object>"
      ]
     },
     "metadata": {},
     "output_type": "display_data"
    },
    {
     "data": {
      "text/html": [
       "Tracking run with wandb version 0.12.21"
      ],
      "text/plain": [
       "<IPython.core.display.HTML object>"
      ]
     },
     "metadata": {},
     "output_type": "display_data"
    },
    {
     "data": {
      "text/html": [
       "Run data is saved locally in <code>C:\\Users\\Saiga\\Documents\\NotebooksJupyter\\text_classification_benchmark\\wandb\\run-20220821_172537-bavg5x0l</code>"
      ],
      "text/plain": [
       "<IPython.core.display.HTML object>"
      ]
     },
     "metadata": {},
     "output_type": "display_data"
    },
    {
     "data": {
      "text/html": [
       "Syncing run <strong><a href=\"https://wandb.ai/benchmark-nlp/hyperopt/runs/bavg5x0l\" target=\"_blank\">usual-sweep-10</a></strong> to <a href=\"https://wandb.ai/benchmark-nlp/hyperopt\" target=\"_blank\">Weights & Biases</a> (<a href=\"https://wandb.me/run\" target=\"_blank\">docs</a>)<br/>Sweep page:  <a href=\"https://wandb.ai/benchmark-nlp/hyperopt/sweeps/8obdrf43\" target=\"_blank\">https://wandb.ai/benchmark-nlp/hyperopt/sweeps/8obdrf43</a>"
      ],
      "text/plain": [
       "<IPython.core.display.HTML object>"
      ]
     },
     "metadata": {},
     "output_type": "display_data"
    },
    {
     "data": {
      "text/html": [
       "Waiting for W&B process to finish... <strong style=\"color:green\">(success).</strong>"
      ],
      "text/plain": [
       "<IPython.core.display.HTML object>"
      ]
     },
     "metadata": {},
     "output_type": "display_data"
    },
    {
     "data": {
      "text/html": [
       "<style>\n",
       "    table.wandb td:nth-child(1) { padding: 0 10px; text-align: left ; width: auto;} td:nth-child(2) {text-align: left ; width: 100%}\n",
       "    .wandb-row { display: flex; flex-direction: row; flex-wrap: wrap; justify-content: flex-start; width: 100% }\n",
       "    .wandb-col { display: flex; flex-direction: column; flex-basis: 100%; flex: 1; padding: 10px; }\n",
       "    </style>\n",
       "<div class=\"wandb-row\"><div class=\"wandb-col\"><h3>Run history:</h3><br/><table class=\"wandb\"><tr><td>AUC</td><td>▁</td></tr><tr><td>AUC-PC</td><td>▁</td></tr><tr><td>accuracy</td><td>▁</td></tr><tr><td>f1 macro</td><td>▁</td></tr></table><br/></div><div class=\"wandb-col\"><h3>Run summary:</h3><br/><table class=\"wandb\"><tr><td>AUC</td><td>0.83957</td></tr><tr><td>AUC-PC</td><td>0.84999</td></tr><tr><td>accuracy</td><td>0.75344</td></tr><tr><td>f1 macro</td><td>0.75179</td></tr></table><br/></div></div>"
      ],
      "text/plain": [
       "<IPython.core.display.HTML object>"
      ]
     },
     "metadata": {},
     "output_type": "display_data"
    },
    {
     "data": {
      "text/html": [
       "Synced <strong style=\"color:#cdcd00\">usual-sweep-10</strong>: <a href=\"https://wandb.ai/benchmark-nlp/hyperopt/runs/bavg5x0l\" target=\"_blank\">https://wandb.ai/benchmark-nlp/hyperopt/runs/bavg5x0l</a><br/>Synced 5 W&B file(s), 0 media file(s), 0 artifact file(s) and 0 other file(s)"
      ],
      "text/plain": [
       "<IPython.core.display.HTML object>"
      ]
     },
     "metadata": {},
     "output_type": "display_data"
    },
    {
     "data": {
      "text/html": [
       "Find logs at: <code>.\\wandb\\run-20220821_172537-bavg5x0l\\logs</code>"
      ],
      "text/plain": [
       "<IPython.core.display.HTML object>"
      ]
     },
     "metadata": {},
     "output_type": "display_data"
    },
    {
     "data": {
      "text/plain": [
       "0.004083005284044849"
      ]
     },
     "execution_count": 11,
     "metadata": {},
     "output_type": "execute_result"
    }
   ],
   "source": [
    "#Don't forget to name the sweep instance   \n",
    "name = 'rf_ft_sst2' #CHANGE HERE\n",
    "sweep_config['name'] = name\n",
    "#Generate a sweep_id\n",
    "sweep_id = wandb.sweep(sweep_config, project=\"hyperopt\")\n",
    "\n",
    "def train_fasttext(config = None,\n",
    "          train=embedded_train_sst2, #CHANGE HERE\n",
    "          val=embedded_val_sst2): #CHANGE HERE\n",
    "    # Initialize a new wandb run\n",
    "    with wandb.init(config=config, group=name):\n",
    "        config = wandb.config\n",
    "        clf = RandomForestClassifier(n_estimators=config.n_estimators,\n",
    "                                max_features=config.max_features,\n",
    "                                 random_state=config.random_state) #set the hyperparams here\n",
    "\n",
    "        pipe = Pipeline([('clf',clf)])\n",
    "        pipe.fit(train.fillna(0).drop(['label'],axis=1),train['label'])\n",
    "        \n",
    "        #Make predictions\n",
    "        pred_val = pipe.predict(val.fillna(0).drop(['label'],axis=1))\n",
    "        pred_prob_val = pipe.predict_proba(val.fillna(0).drop(['label'],axis=1))[:,1]\n",
    "        accuracy = accuracy_score(val['label'],pred_val)\n",
    "        f1_macro = f1_score(val['label'],pred_val,average='macro')\n",
    "        if train['label'].nunique() <=2:\n",
    "            aucpc =  average_precision_score(val['label'],pred_prob_val)\n",
    "            auc = roc_auc_score(val['label'],pred_prob_val)\n",
    "            #Log predictions on WandB\n",
    "        else:\n",
    "            aucpc = '-'\n",
    "            auc = '-'\n",
    "        wandb.log({\"accuracy\": accuracy, \"f1 macro\":f1_macro, \"AUC-PC\":aucpc, 'AUC':auc })\n",
    "\n",
    "\n",
    "#Track emissions\n",
    "tracker = EmissionsTracker(project_name=name,log_level='warning', measure_power_secs=300,\n",
    "                           output_file='output/emissions_hyperopt.csv')\n",
    "#Launch the agent\n",
    "tracker.start()\n",
    "wandb.agent(sweep_id, train_fasttext, count=OPT_ITER)\n",
    "tracker.stop()"
   ]
  },
  {
   "cell_type": "code",
   "execution_count": null,
   "id": "20cfd050",
   "metadata": {},
   "outputs": [],
   "source": []
  }
 ],
 "metadata": {
  "kernelspec": {
   "display_name": "text_class",
   "language": "python",
   "name": "text_class"
  },
  "language_info": {
   "codemirror_mode": {
    "name": "ipython",
    "version": 3
   },
   "file_extension": ".py",
   "mimetype": "text/x-python",
   "name": "python",
   "nbconvert_exporter": "python",
   "pygments_lexer": "ipython3",
   "version": "3.9.0"
  }
 },
 "nbformat": 4,
 "nbformat_minor": 5
}
