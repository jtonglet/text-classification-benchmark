{
 "cells": [
  {
   "cell_type": "code",
   "execution_count": 10,
   "id": "9bd9fc5d",
   "metadata": {},
   "outputs": [],
   "source": [
    "import pandas as pd \n",
    "import matplotlib.pyplot as plt\n",
    "import seaborn as sns\n",
    "from util.dataloader import DataLoader\n",
    "from util.datasplitter import data_splitter\n",
    "from preprocessing import Preprocessor\n",
    "from evaluator import evaluate_classifier\n",
    "from fasttext_embeddings import FastTextEmbeddings\n",
    "from nltk import download\n",
    "from sklearn.linear_model import LogisticRegression\n",
    "import warnings\n",
    "warnings.filterwarnings('ignore')\n",
    "\n",
    "#Load linguistic resources \n",
    "download('stopwords',quiet=True)\n",
    "download('omw-1.4',quiet=True)\n",
    "download('punkt',quiet=True)\n",
    "download('wordnet',quiet=True);"
   ]
  },
  {
   "cell_type": "code",
   "execution_count": 11,
   "id": "77164e17",
   "metadata": {},
   "outputs": [],
   "source": [
    "#Load data : Here all emotion datasets\n",
    "dl = DataLoader(['emotion'])\n",
    "data = dl.load()"
   ]
  },
  {
   "cell_type": "markdown",
   "id": "0eb4e271",
   "metadata": {},
   "source": [
    "data is a nested dictionary where keys are referring to the datasets and subkeys (if any) are referring to the available splits"
   ]
  },
  {
   "cell_type": "code",
   "execution_count": 12,
   "id": "9525b260",
   "metadata": {},
   "outputs": [
    {
     "name": "stdout",
     "output_type": "stream",
     "text": [
      "dict_keys(['eval_emotion', 'CARER', 'silicone'])\n",
      "dict_keys(['train', 'val', 'test'])\n"
     ]
    }
   ],
   "source": [
    "#Available datasets\n",
    "print(data.keys())\n",
    "#Available splits for the CARER dataset\n",
    "print(data['CARER'].keys())"
   ]
  },
  {
   "cell_type": "code",
   "execution_count": 13,
   "id": "f8c10b39",
   "metadata": {},
   "outputs": [
    {
     "data": {
      "text/html": [
       "<div>\n",
       "<style scoped>\n",
       "    .dataframe tbody tr th:only-of-type {\n",
       "        vertical-align: middle;\n",
       "    }\n",
       "\n",
       "    .dataframe tbody tr th {\n",
       "        vertical-align: top;\n",
       "    }\n",
       "\n",
       "    .dataframe thead th {\n",
       "        text-align: right;\n",
       "    }\n",
       "</style>\n",
       "<table border=\"1\" class=\"dataframe\">\n",
       "  <thead>\n",
       "    <tr style=\"text-align: right;\">\n",
       "      <th></th>\n",
       "      <th>label</th>\n",
       "      <th>text</th>\n",
       "    </tr>\n",
       "  </thead>\n",
       "  <tbody>\n",
       "    <tr>\n",
       "      <th>0</th>\n",
       "      <td>2</td>\n",
       "      <td>“Worry is a down payment on a problem you may ...</td>\n",
       "    </tr>\n",
       "    <tr>\n",
       "      <th>1</th>\n",
       "      <td>0</td>\n",
       "      <td>My roommate: it's okay that we can't spell bec...</td>\n",
       "    </tr>\n",
       "    <tr>\n",
       "      <th>2</th>\n",
       "      <td>1</td>\n",
       "      <td>No but that's so cute. Atsu was probably shy a...</td>\n",
       "    </tr>\n",
       "    <tr>\n",
       "      <th>3</th>\n",
       "      <td>0</td>\n",
       "      <td>Rooneys fucking untouchable isn't he? Been fuc...</td>\n",
       "    </tr>\n",
       "    <tr>\n",
       "      <th>4</th>\n",
       "      <td>3</td>\n",
       "      <td>it's pretty depressing when u hit pan on ur fa...</td>\n",
       "    </tr>\n",
       "  </tbody>\n",
       "</table>\n",
       "</div>"
      ],
      "text/plain": [
       "   label                                               text\n",
       "0      2  “Worry is a down payment on a problem you may ...\n",
       "1      0  My roommate: it's okay that we can't spell bec...\n",
       "2      1  No but that's so cute. Atsu was probably shy a...\n",
       "3      0  Rooneys fucking untouchable isn't he? Been fuc...\n",
       "4      3  it's pretty depressing when u hit pan on ur fa..."
      ]
     },
     "execution_count": 13,
     "metadata": {},
     "output_type": "execute_result"
    }
   ],
   "source": [
    "#Show first rows of the eval_emotion train set\n",
    "eval_emotion = data['eval_emotion']\n",
    "eval_emotion['train'].head()"
   ]
  },
  {
   "cell_type": "code",
   "execution_count": 14,
   "id": "6e0850f3",
   "metadata": {},
   "outputs": [],
   "source": [
    "#Initialize preprocessors\n",
    "preprocessor = Preprocessor() #Preprocessor for standard text\n",
    "tweet_preprocessor = Preprocessor(is_tweet=True) #Preprocessor for tweets"
   ]
  },
  {
   "cell_type": "code",
   "execution_count": 15,
   "id": "df9a91f0",
   "metadata": {},
   "outputs": [
    {
     "name": "stdout",
     "output_type": "stream",
     "text": [
      "3257 rows preprocessed in 1.5478601455688477 seconds\n",
      "1421 rows preprocessed in 0.6223335266113281 seconds\n",
      "374 rows preprocessed in 0.1575784683227539 seconds\n"
     ]
    }
   ],
   "source": [
    "#Split the data into train, val, and test sets\n",
    "train_emo, val_emo, test_emo = data_splitter(data['eval_emotion'],\n",
    "                                             tweet_preprocessor,  #Eval Emotion is a tweet dataset\n",
    "                                             create_val_set=True)"
   ]
  },
  {
   "cell_type": "code",
   "execution_count": 16,
   "id": "db6e12a0",
   "metadata": {},
   "outputs": [
    {
     "data": {
      "text/html": [
       "<div>\n",
       "<style scoped>\n",
       "    .dataframe tbody tr th:only-of-type {\n",
       "        vertical-align: middle;\n",
       "    }\n",
       "\n",
       "    .dataframe tbody tr th {\n",
       "        vertical-align: top;\n",
       "    }\n",
       "\n",
       "    .dataframe thead th {\n",
       "        text-align: right;\n",
       "    }\n",
       "</style>\n",
       "<table border=\"1\" class=\"dataframe\">\n",
       "  <thead>\n",
       "    <tr style=\"text-align: right;\">\n",
       "      <th></th>\n",
       "      <th>text</th>\n",
       "      <th>label</th>\n",
       "    </tr>\n",
       "  </thead>\n",
       "  <tbody>\n",
       "    <tr>\n",
       "      <th>0</th>\n",
       "      <td>worry payment problem may never joyce meyer mo...</td>\n",
       "      <td>2</td>\n",
       "    </tr>\n",
       "    <tr>\n",
       "      <th>1</th>\n",
       "      <td>roommate okay cant spell autocorrect terrible ...</td>\n",
       "      <td>0</td>\n",
       "    </tr>\n",
       "    <tr>\n",
       "      <th>2</th>\n",
       "      <td>thats cute atsu probably shy photo cherry help...</td>\n",
       "      <td>1</td>\n",
       "    </tr>\n",
       "    <tr>\n",
       "      <th>3</th>\n",
       "      <td>rooneys fucking untouchable isnt fucking dread...</td>\n",
       "      <td>0</td>\n",
       "    </tr>\n",
       "    <tr>\n",
       "      <th>4</th>\n",
       "      <td>pretty depressing u hit pan ur favourite highl...</td>\n",
       "      <td>3</td>\n",
       "    </tr>\n",
       "  </tbody>\n",
       "</table>\n",
       "</div>"
      ],
      "text/plain": [
       "                                                text  label\n",
       "0  worry payment problem may never joyce meyer mo...      2\n",
       "1  roommate okay cant spell autocorrect terrible ...      0\n",
       "2  thats cute atsu probably shy photo cherry help...      1\n",
       "3  rooneys fucking untouchable isnt fucking dread...      0\n",
       "4  pretty depressing u hit pan ur favourite highl...      3"
      ]
     },
     "execution_count": 16,
     "metadata": {},
     "output_type": "execute_result"
    }
   ],
   "source": [
    "train_emo.head()"
   ]
  },
  {
   "cell_type": "code",
   "execution_count": 17,
   "id": "03a01d68",
   "metadata": {},
   "outputs": [
    {
     "name": "stderr",
     "output_type": "stream",
     "text": [
      "Warning : `load_model` does not return WordVectorModel or SupervisedModel any more, but a `FastText` object which is very similar.\n"
     ]
    },
    {
     "name": "stdout",
     "output_type": "stream",
     "text": [
      "Wall time: 1min 38s\n"
     ]
    }
   ],
   "source": [
    "%%time\n",
    "#Load fasttext \n",
    "fasttext = FastTextEmbeddings()\n",
    "fasttext.load_model('fasttext/cc.en.300.bin')"
   ]
  },
  {
   "cell_type": "code",
   "execution_count": 19,
   "id": "7c635445",
   "metadata": {},
   "outputs": [
    {
     "name": "stdout",
     "output_type": "stream",
     "text": [
      "starting to generate sentence embeddings\n"
     ]
    },
    {
     "name": "stderr",
     "output_type": "stream",
     "text": [
      "100%|█████████████████████████████████████████████████████████████████████████████| 3257/3257 [00:14<00:00, 226.85it/s]\n"
     ]
    },
    {
     "name": "stdout",
     "output_type": "stream",
     "text": [
      "starting to generate sentence embeddings\n"
     ]
    },
    {
     "name": "stderr",
     "output_type": "stream",
     "text": [
      "100%|█████████████████████████████████████████████████████████████████████████████| 1421/1421 [00:05<00:00, 251.29it/s]\n"
     ]
    }
   ],
   "source": [
    "embedded_train_emo = fasttext.generate_sentence_embeddings(train_emo['text'])\n",
    "embedded_test_emo = fasttext.generate_sentence_embeddings(test_emo['text'])"
   ]
  },
  {
   "cell_type": "code",
   "execution_count": null,
   "id": "8869ee52",
   "metadata": {},
   "outputs": [
    {
     "name": "stderr",
     "output_type": "stream",
     "text": [
      "[codecarbon WARNING @ 14:00:29] No CPU tracking mode found. Falling back on CPU constant mode.\n",
      "[codecarbon WARNING @ 14:00:32] We saw that you have a Intel(R) Core(TM) i5-7200U CPU @ 2.50GHz but we don't know it. Please contact us.\n"
     ]
    }
   ],
   "source": [
    "#Evaluate a logistic regression without hyperparameters tuning trained on the dataset\n",
    "metrics_emo_tfidf = evaluate_classifier(LogisticRegression(),train_emo,test_emo,\n",
    "                                  save_model=True,model_path='models/lr_tfidf_emo')\n",
    "metrics_emo_ft = evaluate_classifier(LogisticRegression(),embedded_train_emo,embedded_test_emo, \n",
    "                                     tfidf=False, #Set tf-idf to false if working with fasttext embeddings\n",
    "                                     save_model=True,model_path='models/lr_ft_emo')"
   ]
  },
  {
   "cell_type": "code",
   "execution_count": null,
   "id": "25a2eaa4",
   "metadata": {},
   "outputs": [],
   "source": []
  }
 ],
 "metadata": {
  "kernelspec": {
   "display_name": "Python 3 (ipykernel)",
   "language": "python",
   "name": "python3"
  },
  "language_info": {
   "codemirror_mode": {
    "name": "ipython",
    "version": 3
   },
   "file_extension": ".py",
   "mimetype": "text/x-python",
   "name": "python",
   "nbconvert_exporter": "python",
   "pygments_lexer": "ipython3",
   "version": "3.7.13"
  }
 },
 "nbformat": 4,
 "nbformat_minor": 5
}
