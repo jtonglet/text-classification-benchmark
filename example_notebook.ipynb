{
 "cells": [
  {
   "cell_type": "code",
   "execution_count": 33,
   "id": "9bd9fc5d",
   "metadata": {},
   "outputs": [],
   "source": [
    "import pandas as pd \n",
    "import matplotlib.pyplot as plt\n",
    "import seaborn as sns\n",
    "from util.dataloader import DataLoader\n",
    "from preprocessing import Preprocessor\n",
    "from carbontracker.tracker import CarbonTracker"
   ]
  },
  {
   "cell_type": "code",
   "execution_count": 41,
   "id": "77164e17",
   "metadata": {},
   "outputs": [],
   "source": [
    "#Load data : Here all emotion datasets\n",
    "dl = DataLoader(['emotion'])\n",
    "data = dl.load()"
   ]
  },
  {
   "cell_type": "markdown",
   "id": "0eb4e271",
   "metadata": {},
   "source": [
    "data is a nested dictionary where keys are referring to the datasets and subkeys (if any) are referring to the available splits"
   ]
  },
  {
   "cell_type": "code",
   "execution_count": 42,
   "id": "9525b260",
   "metadata": {},
   "outputs": [
    {
     "name": "stdout",
     "output_type": "stream",
     "text": [
      "dict_keys(['eval_emotion', 'CARER', 'silicone'])\n",
      "dict_keys(['train', 'val', 'test'])\n"
     ]
    }
   ],
   "source": [
    "#Available datasets\n",
    "print(data.keys())\n",
    "#Available splits for the CARER dataset\n",
    "print(data['CARER'].keys())"
   ]
  },
  {
   "cell_type": "code",
   "execution_count": 43,
   "id": "f8c10b39",
   "metadata": {},
   "outputs": [
    {
     "data": {
      "text/html": [
       "<div>\n",
       "<style scoped>\n",
       "    .dataframe tbody tr th:only-of-type {\n",
       "        vertical-align: middle;\n",
       "    }\n",
       "\n",
       "    .dataframe tbody tr th {\n",
       "        vertical-align: top;\n",
       "    }\n",
       "\n",
       "    .dataframe thead th {\n",
       "        text-align: right;\n",
       "    }\n",
       "</style>\n",
       "<table border=\"1\" class=\"dataframe\">\n",
       "  <thead>\n",
       "    <tr style=\"text-align: right;\">\n",
       "      <th></th>\n",
       "      <th>label</th>\n",
       "      <th>text</th>\n",
       "    </tr>\n",
       "  </thead>\n",
       "  <tbody>\n",
       "    <tr>\n",
       "      <th>0</th>\n",
       "      <td>2</td>\n",
       "      <td>“Worry is a down payment on a problem you may ...</td>\n",
       "    </tr>\n",
       "    <tr>\n",
       "      <th>1</th>\n",
       "      <td>0</td>\n",
       "      <td>My roommate: it's okay that we can't spell bec...</td>\n",
       "    </tr>\n",
       "    <tr>\n",
       "      <th>2</th>\n",
       "      <td>1</td>\n",
       "      <td>No but that's so cute. Atsu was probably shy a...</td>\n",
       "    </tr>\n",
       "    <tr>\n",
       "      <th>3</th>\n",
       "      <td>0</td>\n",
       "      <td>Rooneys fucking untouchable isn't he? Been fuc...</td>\n",
       "    </tr>\n",
       "    <tr>\n",
       "      <th>4</th>\n",
       "      <td>3</td>\n",
       "      <td>it's pretty depressing when u hit pan on ur fa...</td>\n",
       "    </tr>\n",
       "  </tbody>\n",
       "</table>\n",
       "</div>"
      ],
      "text/plain": [
       "   label                                               text\n",
       "0      2  “Worry is a down payment on a problem you may ...\n",
       "1      0  My roommate: it's okay that we can't spell bec...\n",
       "2      1  No but that's so cute. Atsu was probably shy a...\n",
       "3      0  Rooneys fucking untouchable isn't he? Been fuc...\n",
       "4      3  it's pretty depressing when u hit pan on ur fa..."
      ]
     },
     "execution_count": 43,
     "metadata": {},
     "output_type": "execute_result"
    }
   ],
   "source": [
    "#Show first rows of the eval_emotion train set\n",
    "eval_emotion_train = data['eval_emotion']['train']\n",
    "eval_emotion_train.head()"
   ]
  },
  {
   "cell_type": "markdown",
   "id": "d279d407",
   "metadata": {},
   "source": [
    "Currently the preprocessing includes:\n",
    "- lowercasing\n",
    "- removing unicode characters, punctuation, and letters repeated more than twice\n",
    "- tokenizing (with tweet or word tokenizer depending on the data)\n",
    "- dropping digits, stopwords, emojis and urls from the tokenized sequence\n",
    "- lemmatization "
   ]
  },
  {
   "cell_type": "code",
   "execution_count": 3,
   "id": "6e0850f3",
   "metadata": {},
   "outputs": [],
   "source": [
    "#Initialize preprocessors\n",
    "preprocessor = Preprocessor() #Preprocessor for standard text\n",
    "tweet_preprocessor = Preprocessor(is_tweet=True) #Preprocessor for tweets"
   ]
  },
  {
   "cell_type": "code",
   "execution_count": 44,
   "id": "df9a91f0",
   "metadata": {},
   "outputs": [
    {
     "name": "stdout",
     "output_type": "stream",
     "text": [
      "CarbonTracker: The following components were found: GPU with device(s) GeForce 940MX.\n",
      "3257 rows preprocessed in 1.032811164855957 seconds\n",
      "CarbonTracker: \n",
      "Actual consumption for 1 epoch(s):\n",
      "\tTime:\t0:00:01\n",
      "\tEnergy:\t0.000000 kWh\n",
      "\tCO2eq:\t0.000000 g\n",
      "\tThis is equivalent to:\n",
      "\t0.000000 km travelled by car\n",
      "CarbonTracker: \n",
      "Predicted consumption for 1 epoch(s):\n",
      "\tTime:\t0:00:01\n",
      "\tEnergy:\t0.000000 kWh\n",
      "\tCO2eq:\t0.000000 g\n",
      "\tThis is equivalent to:\n",
      "\t0.000000 km travelled by car\n",
      "CarbonTracker: Finished monitoring.\n"
     ]
    }
   ],
   "source": [
    "#Preprocess the text\n",
    "#With carbon tracker (need to check if epochs=1 is correct)\n",
    "tracker = CarbonTracker(epochs=1)\n",
    "tracker.epoch_start()\n",
    "eval_emotion_train['processed_text'] = tweet_preprocessor.preprocess(eval_emotion_train)\n",
    "tracker.epoch_end()\n",
    "tracker.stop()"
   ]
  },
  {
   "cell_type": "code",
   "execution_count": 12,
   "id": "db6e12a0",
   "metadata": {},
   "outputs": [
    {
     "data": {
      "text/html": [
       "<div>\n",
       "<style scoped>\n",
       "    .dataframe tbody tr th:only-of-type {\n",
       "        vertical-align: middle;\n",
       "    }\n",
       "\n",
       "    .dataframe tbody tr th {\n",
       "        vertical-align: top;\n",
       "    }\n",
       "\n",
       "    .dataframe thead th {\n",
       "        text-align: right;\n",
       "    }\n",
       "</style>\n",
       "<table border=\"1\" class=\"dataframe\">\n",
       "  <thead>\n",
       "    <tr style=\"text-align: right;\">\n",
       "      <th></th>\n",
       "      <th>label</th>\n",
       "      <th>text</th>\n",
       "      <th>processed_text</th>\n",
       "    </tr>\n",
       "  </thead>\n",
       "  <tbody>\n",
       "    <tr>\n",
       "      <th>0</th>\n",
       "      <td>2</td>\n",
       "      <td>“Worry is a down payment on a problem you may ...</td>\n",
       "      <td>worry payment problem may never joyce meyer mo...</td>\n",
       "    </tr>\n",
       "    <tr>\n",
       "      <th>1</th>\n",
       "      <td>0</td>\n",
       "      <td>My roommate: it's okay that we can't spell bec...</td>\n",
       "      <td>roommate okay cant spell autocorrect terrible ...</td>\n",
       "    </tr>\n",
       "    <tr>\n",
       "      <th>2</th>\n",
       "      <td>1</td>\n",
       "      <td>No but that's so cute. Atsu was probably shy a...</td>\n",
       "      <td>thats cute atsu probably shy photo cherry help...</td>\n",
       "    </tr>\n",
       "    <tr>\n",
       "      <th>3</th>\n",
       "      <td>0</td>\n",
       "      <td>Rooneys fucking untouchable isn't he? Been fuc...</td>\n",
       "      <td>rooneys fucking untouchable isnt fucking dread...</td>\n",
       "    </tr>\n",
       "    <tr>\n",
       "      <th>4</th>\n",
       "      <td>3</td>\n",
       "      <td>it's pretty depressing when u hit pan on ur fa...</td>\n",
       "      <td>pretty depressing u hit pan ur favourite highl...</td>\n",
       "    </tr>\n",
       "  </tbody>\n",
       "</table>\n",
       "</div>"
      ],
      "text/plain": [
       "   label                                               text  \\\n",
       "0      2  “Worry is a down payment on a problem you may ...   \n",
       "1      0  My roommate: it's okay that we can't spell bec...   \n",
       "2      1  No but that's so cute. Atsu was probably shy a...   \n",
       "3      0  Rooneys fucking untouchable isn't he? Been fuc...   \n",
       "4      3  it's pretty depressing when u hit pan on ur fa...   \n",
       "\n",
       "                                      processed_text  \n",
       "0  worry payment problem may never joyce meyer mo...  \n",
       "1  roommate okay cant spell autocorrect terrible ...  \n",
       "2  thats cute atsu probably shy photo cherry help...  \n",
       "3  rooneys fucking untouchable isnt fucking dread...  \n",
       "4  pretty depressing u hit pan ur favourite highl...  "
      ]
     },
     "execution_count": 12,
     "metadata": {},
     "output_type": "execute_result"
    }
   ],
   "source": [
    "eval_emotion_train.head()"
   ]
  }
 ],
 "metadata": {
  "kernelspec": {
   "display_name": "Python 3 (ipykernel)",
   "language": "python",
   "name": "python3"
  },
  "language_info": {
   "codemirror_mode": {
    "name": "ipython",
    "version": 3
   },
   "file_extension": ".py",
   "mimetype": "text/x-python",
   "name": "python",
   "nbconvert_exporter": "python",
   "pygments_lexer": "ipython3",
   "version": "3.7.13"
  }
 },
 "nbformat": 4,
 "nbformat_minor": 5
}
