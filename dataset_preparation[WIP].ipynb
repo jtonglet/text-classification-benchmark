{
 "cells": [
  {
   "cell_type": "markdown",
   "id": "e8febf40",
   "metadata": {},
   "source": [
    "Convert all datasets to a standard 2-columns format ('text' and 'label')"
   ]
  },
  {
   "cell_type": "code",
   "execution_count": 16,
   "id": "343bc7b6",
   "metadata": {},
   "outputs": [],
   "source": [
    "import pandas as pd\n",
    "import numpy as np\n",
    "import os\n",
    "import json\n",
    "import matplotlib.pyplot as plt\n",
    "import seaborn as sns\n",
    "from tqdm import tqdm\n",
    "from sklearn.datasets import fetch_20newsgroups"
   ]
  },
  {
   "cell_type": "markdown",
   "id": "04a76911",
   "metadata": {},
   "source": [
    "## 1. Fake News datasets"
   ]
  },
  {
   "cell_type": "code",
   "execution_count": 2,
   "id": "de340857",
   "metadata": {},
   "outputs": [],
   "source": [
    "os.chdir('datasets/fake_news')"
   ]
  },
  {
   "cell_type": "code",
   "execution_count": 34,
   "id": "50d9c1f9",
   "metadata": {},
   "outputs": [],
   "source": [
    "#Fake and Real News dataset\n",
    "#TO DO \n",
    "#   - keep the title or just the text content ?\n",
    "real_news = pd.read_csv('fake_and_real_news/True.csv',usecols = ['title','text'])\n",
    "fake_news = pd.read_csv('fake_and_real_news/Fake.csv',usecols = ['title','text'])\n",
    "\n",
    "real_news['label'] = np.full(shape=(real_news.shape[0],1),fill_value=1)\n",
    "fake_news['label'] = np.zeros(shape=(fake_news.shape[0],1))\n",
    "\n",
    "fake_real_news = pd.concat([real_news,fake_news])"
   ]
  },
  {
   "cell_type": "code",
   "execution_count": 35,
   "id": "b954dd40",
   "metadata": {},
   "outputs": [
    {
     "data": {
      "text/html": [
       "<div>\n",
       "<style scoped>\n",
       "    .dataframe tbody tr th:only-of-type {\n",
       "        vertical-align: middle;\n",
       "    }\n",
       "\n",
       "    .dataframe tbody tr th {\n",
       "        vertical-align: top;\n",
       "    }\n",
       "\n",
       "    .dataframe thead th {\n",
       "        text-align: right;\n",
       "    }\n",
       "</style>\n",
       "<table border=\"1\" class=\"dataframe\">\n",
       "  <thead>\n",
       "    <tr style=\"text-align: right;\">\n",
       "      <th></th>\n",
       "      <th>title</th>\n",
       "      <th>text</th>\n",
       "      <th>label</th>\n",
       "    </tr>\n",
       "  </thead>\n",
       "  <tbody>\n",
       "    <tr>\n",
       "      <th>0</th>\n",
       "      <td>As U.S. budget fight looms, Republicans flip t...</td>\n",
       "      <td>WASHINGTON (Reuters) - The head of a conservat...</td>\n",
       "      <td>1.0</td>\n",
       "    </tr>\n",
       "    <tr>\n",
       "      <th>1</th>\n",
       "      <td>U.S. military to accept transgender recruits o...</td>\n",
       "      <td>WASHINGTON (Reuters) - Transgender people will...</td>\n",
       "      <td>1.0</td>\n",
       "    </tr>\n",
       "    <tr>\n",
       "      <th>2</th>\n",
       "      <td>Senior U.S. Republican senator: 'Let Mr. Muell...</td>\n",
       "      <td>WASHINGTON (Reuters) - The special counsel inv...</td>\n",
       "      <td>1.0</td>\n",
       "    </tr>\n",
       "    <tr>\n",
       "      <th>3</th>\n",
       "      <td>FBI Russia probe helped by Australian diplomat...</td>\n",
       "      <td>WASHINGTON (Reuters) - Trump campaign adviser ...</td>\n",
       "      <td>1.0</td>\n",
       "    </tr>\n",
       "    <tr>\n",
       "      <th>4</th>\n",
       "      <td>Trump wants Postal Service to charge 'much mor...</td>\n",
       "      <td>SEATTLE/WASHINGTON (Reuters) - President Donal...</td>\n",
       "      <td>1.0</td>\n",
       "    </tr>\n",
       "  </tbody>\n",
       "</table>\n",
       "</div>"
      ],
      "text/plain": [
       "                                               title  \\\n",
       "0  As U.S. budget fight looms, Republicans flip t...   \n",
       "1  U.S. military to accept transgender recruits o...   \n",
       "2  Senior U.S. Republican senator: 'Let Mr. Muell...   \n",
       "3  FBI Russia probe helped by Australian diplomat...   \n",
       "4  Trump wants Postal Service to charge 'much mor...   \n",
       "\n",
       "                                                text  label  \n",
       "0  WASHINGTON (Reuters) - The head of a conservat...    1.0  \n",
       "1  WASHINGTON (Reuters) - Transgender people will...    1.0  \n",
       "2  WASHINGTON (Reuters) - The special counsel inv...    1.0  \n",
       "3  WASHINGTON (Reuters) - Trump campaign adviser ...    1.0  \n",
       "4  SEATTLE/WASHINGTON (Reuters) - President Donal...    1.0  "
      ]
     },
     "execution_count": 35,
     "metadata": {},
     "output_type": "execute_result"
    }
   ],
   "source": [
    "fake_real_news.head() #Train Test Split needs to be done manually (guidelines in the paper?)"
   ]
  },
  {
   "cell_type": "code",
   "execution_count": 42,
   "id": "b45a831b",
   "metadata": {},
   "outputs": [
    {
     "name": "stderr",
     "output_type": "stream",
     "text": [
      "100%|██████████████████████████████████████████████████████████████████████████████| 624/624 [00:00<00:00, 2492.70it/s]\n"
     ]
    },
    {
     "name": "stdout",
     "output_type": "stream",
     "text": [
      "No json file for 70 folders\n"
     ]
    },
    {
     "name": "stderr",
     "output_type": "stream",
     "text": [
      "100%|██████████████████████████████████████████████████████████████████████████████| 432/432 [00:00<00:00, 2602.30it/s]"
     ]
    },
    {
     "name": "stdout",
     "output_type": "stream",
     "text": [
      "No json file for 31 folders\n",
      " \n",
      "There are 624 real texts\n",
      "There are 432 fake texts\n"
     ]
    },
    {
     "name": "stderr",
     "output_type": "stream",
     "text": [
      "\n"
     ]
    }
   ],
   "source": [
    "#FakeNewsNet\n",
    "# 2 datasets : PolitiFacts (small) and Gossipcop (large)\n",
    "# Politifacts\n",
    "\n",
    "def retrieve_text(path):\n",
    "    text = []\n",
    "    no_json_count = 0\n",
    "    for folder in tqdm(os.listdir(path)):\n",
    "        if os.path.exists(path+folder+\"/news content.json\"):\n",
    "            with open(path+folder+\"/news content.json\")  as f:\n",
    "                text.append(json.load(f)['text'])\n",
    "        else:\n",
    "            no_json_count +=1\n",
    "            text.append(' ')\n",
    "    print(\"No json file for %s folders\"%no_json_count)\n",
    "    return text\n",
    "\n",
    "\n",
    "real_path = \"FakeNewsNet/code/fakenewsnet_dataset/politifact/real/\"\n",
    "fake_path = \"FakeNewsNet/code/fakenewsnet_dataset/politifact/fake/\"\n",
    "real_text = retrieve_text(real_path)\n",
    "fake_text = retrieve_text(fake_path)\n",
    "print(' ')\n",
    "print('There are %s real texts'%len(real_text))\n",
    "print('There are %s fake texts'%len(fake_text))\n",
    "label = [1] * len(real_text) + [0] * len(fake_text) \n",
    "politifact = pd.DataFrame({'text':real_text+fake_text,'label':label})"
   ]
  },
  {
   "cell_type": "code",
   "execution_count": 31,
   "id": "9625135f",
   "metadata": {},
   "outputs": [
    {
     "data": {
      "text/html": [
       "<div>\n",
       "<style scoped>\n",
       "    .dataframe tbody tr th:only-of-type {\n",
       "        vertical-align: middle;\n",
       "    }\n",
       "\n",
       "    .dataframe tbody tr th {\n",
       "        vertical-align: top;\n",
       "    }\n",
       "\n",
       "    .dataframe thead th {\n",
       "        text-align: right;\n",
       "    }\n",
       "</style>\n",
       "<table border=\"1\" class=\"dataframe\">\n",
       "  <thead>\n",
       "    <tr style=\"text-align: right;\">\n",
       "      <th></th>\n",
       "      <th>text</th>\n",
       "      <th>label</th>\n",
       "    </tr>\n",
       "  </thead>\n",
       "  <tbody>\n",
       "    <tr>\n",
       "      <th>0</th>\n",
       "      <td></td>\n",
       "      <td>1</td>\n",
       "    </tr>\n",
       "    <tr>\n",
       "      <th>1</th>\n",
       "      <td>Roll Call Vote 111th Congress - 1st Session\\n\\...</td>\n",
       "      <td>1</td>\n",
       "    </tr>\n",
       "    <tr>\n",
       "      <th>2</th>\n",
       "      <td>At a press conference addressing Carrie Prejea...</td>\n",
       "      <td>1</td>\n",
       "    </tr>\n",
       "    <tr>\n",
       "      <th>3</th>\n",
       "      <td></td>\n",
       "      <td>1</td>\n",
       "    </tr>\n",
       "    <tr>\n",
       "      <th>4</th>\n",
       "      <td></td>\n",
       "      <td>1</td>\n",
       "    </tr>\n",
       "  </tbody>\n",
       "</table>\n",
       "</div>"
      ],
      "text/plain": [
       "                                                text  label\n",
       "0                                                         1\n",
       "1  Roll Call Vote 111th Congress - 1st Session\\n\\...      1\n",
       "2  At a press conference addressing Carrie Prejea...      1\n",
       "3                                                         1\n",
       "4                                                         1"
      ]
     },
     "execution_count": 31,
     "metadata": {},
     "output_type": "execute_result"
    }
   ],
   "source": [
    "politifact.head()"
   ]
  },
  {
   "cell_type": "code",
   "execution_count": 41,
   "id": "95973f06",
   "metadata": {},
   "outputs": [
    {
     "data": {
      "text/plain": [
       "     143\n",
       "     101\n",
       "Name: text, dtype: int64"
      ]
     },
     "execution_count": 41,
     "metadata": {},
     "output_type": "execute_result"
    }
   ],
   "source": [
    "politifact['text'].value_counts()[0:2]\n",
    "#TO DO \n",
    "#Understand why there are 101 news folder without a json file at all\n",
    "#Understand why there are 143 files without text while the paper says its 108"
   ]
  },
  {
   "cell_type": "code",
   "execution_count": 17,
   "id": "81ec1d11",
   "metadata": {},
   "outputs": [],
   "source": [
    "#LIAR\n",
    "liar_train = pd.read_csv('liar/train.csv',\n",
    "                         usecols=['label','statement']).rename(columns={'statement':'text'})\n",
    "liar_val = pd.read_csv('liar/val.csv',\n",
    "                         usecols=['label','statement']).rename(columns={'statement':'text'})\n",
    "liar_test = pd.read_csv('liar/testn.csv',\n",
    "                         usecols=['label','statement']).rename(columns={'statement':'text'})"
   ]
  },
  {
   "cell_type": "code",
   "execution_count": 19,
   "id": "b2f1c74c",
   "metadata": {},
   "outputs": [
    {
     "data": {
      "text/html": [
       "<div>\n",
       "<style scoped>\n",
       "    .dataframe tbody tr th:only-of-type {\n",
       "        vertical-align: middle;\n",
       "    }\n",
       "\n",
       "    .dataframe tbody tr th {\n",
       "        vertical-align: top;\n",
       "    }\n",
       "\n",
       "    .dataframe thead th {\n",
       "        text-align: right;\n",
       "    }\n",
       "</style>\n",
       "<table border=\"1\" class=\"dataframe\">\n",
       "  <thead>\n",
       "    <tr style=\"text-align: right;\">\n",
       "      <th></th>\n",
       "      <th>label</th>\n",
       "      <th>text</th>\n",
       "    </tr>\n",
       "  </thead>\n",
       "  <tbody>\n",
       "    <tr>\n",
       "      <th>0</th>\n",
       "      <td>0</td>\n",
       "      <td>Says the Annies List political group supports ...</td>\n",
       "    </tr>\n",
       "    <tr>\n",
       "      <th>1</th>\n",
       "      <td>1</td>\n",
       "      <td>When did the decline of coal start? It started...</td>\n",
       "    </tr>\n",
       "    <tr>\n",
       "      <th>2</th>\n",
       "      <td>2</td>\n",
       "      <td>Hillary Clinton agrees with John McCain \"by vo...</td>\n",
       "    </tr>\n",
       "    <tr>\n",
       "      <th>3</th>\n",
       "      <td>0</td>\n",
       "      <td>Health care reform legislation is likely to ma...</td>\n",
       "    </tr>\n",
       "    <tr>\n",
       "      <th>4</th>\n",
       "      <td>1</td>\n",
       "      <td>The economic turnaround started at the end of ...</td>\n",
       "    </tr>\n",
       "  </tbody>\n",
       "</table>\n",
       "</div>"
      ],
      "text/plain": [
       "   label                                               text\n",
       "0      0  Says the Annies List political group supports ...\n",
       "1      1  When did the decline of coal start? It started...\n",
       "2      2  Hillary Clinton agrees with John McCain \"by vo...\n",
       "3      0  Health care reform legislation is likely to ma...\n",
       "4      1  The economic turnaround started at the end of ..."
      ]
     },
     "execution_count": 19,
     "metadata": {},
     "output_type": "execute_result"
    }
   ],
   "source": [
    "liar_train.head()"
   ]
  },
  {
   "cell_type": "markdown",
   "id": "dd04edb6",
   "metadata": {},
   "source": [
    "## 2. Topic Modelling datasets"
   ]
  },
  {
   "cell_type": "code",
   "execution_count": 26,
   "id": "ec60cff3",
   "metadata": {},
   "outputs": [],
   "source": [
    "os.chdir('../topic')"
   ]
  },
  {
   "cell_type": "code",
   "execution_count": 31,
   "id": "79267ea2",
   "metadata": {},
   "outputs": [],
   "source": [
    "#20Newsgroup  \n",
    "#https://scikit-learn.org/stable/datasets/real_world.html#newsgroups-dataset\n",
    "#Files are downloaded once on the computer, after that they are loaded much faster\n",
    "twentynews_train = fetch_20newsgroups(subset='train',\n",
    "                           remove=('headers', 'footers', 'quotes') #option to remove metadata \n",
    "                          )\n",
    "twentynews_test = fetch_20newsgroups(subset='test',\n",
    "                           remove=('headers', 'footers', 'quotes') #option to remove metadata  \n",
    "                          )    "
   ]
  },
  {
   "cell_type": "code",
   "execution_count": 34,
   "id": "94938e21",
   "metadata": {},
   "outputs": [],
   "source": [
    "twentynews_train_df = pd.DataFrame({'label':twentynews_train['target'],\n",
    "                                     'text':twentynews_train['data']})\n",
    "twentynews_test_df = pd.DataFrame({'label':twentynews_test['target'],\n",
    "                                     'text':twentynews_test['data']})                                   "
   ]
  },
  {
   "cell_type": "code",
   "execution_count": 35,
   "id": "fdd951e2",
   "metadata": {},
   "outputs": [
    {
     "data": {
      "text/html": [
       "<div>\n",
       "<style scoped>\n",
       "    .dataframe tbody tr th:only-of-type {\n",
       "        vertical-align: middle;\n",
       "    }\n",
       "\n",
       "    .dataframe tbody tr th {\n",
       "        vertical-align: top;\n",
       "    }\n",
       "\n",
       "    .dataframe thead th {\n",
       "        text-align: right;\n",
       "    }\n",
       "</style>\n",
       "<table border=\"1\" class=\"dataframe\">\n",
       "  <thead>\n",
       "    <tr style=\"text-align: right;\">\n",
       "      <th></th>\n",
       "      <th>label</th>\n",
       "      <th>text</th>\n",
       "    </tr>\n",
       "  </thead>\n",
       "  <tbody>\n",
       "    <tr>\n",
       "      <th>0</th>\n",
       "      <td>7</td>\n",
       "      <td>I was wondering if anyone out there could enli...</td>\n",
       "    </tr>\n",
       "    <tr>\n",
       "      <th>1</th>\n",
       "      <td>4</td>\n",
       "      <td>A fair number of brave souls who upgraded thei...</td>\n",
       "    </tr>\n",
       "    <tr>\n",
       "      <th>2</th>\n",
       "      <td>4</td>\n",
       "      <td>well folks, my mac plus finally gave up the gh...</td>\n",
       "    </tr>\n",
       "    <tr>\n",
       "      <th>3</th>\n",
       "      <td>1</td>\n",
       "      <td>\\nDo you have Weitek's address/phone number?  ...</td>\n",
       "    </tr>\n",
       "    <tr>\n",
       "      <th>4</th>\n",
       "      <td>14</td>\n",
       "      <td>From article &lt;C5owCB.n3p@world.std.com&gt;, by to...</td>\n",
       "    </tr>\n",
       "  </tbody>\n",
       "</table>\n",
       "</div>"
      ],
      "text/plain": [
       "   label                                               text\n",
       "0      7  I was wondering if anyone out there could enli...\n",
       "1      4  A fair number of brave souls who upgraded thei...\n",
       "2      4  well folks, my mac plus finally gave up the gh...\n",
       "3      1  \\nDo you have Weitek's address/phone number?  ...\n",
       "4     14  From article <C5owCB.n3p@world.std.com>, by to..."
      ]
     },
     "execution_count": 35,
     "metadata": {},
     "output_type": "execute_result"
    }
   ],
   "source": [
    "twentynews_train_df.head()"
   ]
  },
  {
   "cell_type": "code",
   "execution_count": 40,
   "id": "7b81ffb0",
   "metadata": {},
   "outputs": [],
   "source": [
    "#AG News\n",
    "agnews_train = pd.read_csv('ag_news/train.csv')\n",
    "agnews_test = pd.read_csv('ag_news/test.csv')"
   ]
  },
  {
   "cell_type": "code",
   "execution_count": 41,
   "id": "39f87f22",
   "metadata": {},
   "outputs": [
    {
     "data": {
      "text/html": [
       "<div>\n",
       "<style scoped>\n",
       "    .dataframe tbody tr th:only-of-type {\n",
       "        vertical-align: middle;\n",
       "    }\n",
       "\n",
       "    .dataframe tbody tr th {\n",
       "        vertical-align: top;\n",
       "    }\n",
       "\n",
       "    .dataframe thead th {\n",
       "        text-align: right;\n",
       "    }\n",
       "</style>\n",
       "<table border=\"1\" class=\"dataframe\">\n",
       "  <thead>\n",
       "    <tr style=\"text-align: right;\">\n",
       "      <th></th>\n",
       "      <th>text</th>\n",
       "      <th>label</th>\n",
       "    </tr>\n",
       "  </thead>\n",
       "  <tbody>\n",
       "    <tr>\n",
       "      <th>0</th>\n",
       "      <td>Wall St. Bears Claw Back Into the Black (Reute...</td>\n",
       "      <td>2</td>\n",
       "    </tr>\n",
       "    <tr>\n",
       "      <th>1</th>\n",
       "      <td>Carlyle Looks Toward Commercial Aerospace (Reu...</td>\n",
       "      <td>2</td>\n",
       "    </tr>\n",
       "    <tr>\n",
       "      <th>2</th>\n",
       "      <td>Oil and Economy Cloud Stocks' Outlook (Reuters...</td>\n",
       "      <td>2</td>\n",
       "    </tr>\n",
       "    <tr>\n",
       "      <th>3</th>\n",
       "      <td>Iraq Halts Oil Exports from Main Southern Pipe...</td>\n",
       "      <td>2</td>\n",
       "    </tr>\n",
       "    <tr>\n",
       "      <th>4</th>\n",
       "      <td>Oil prices soar to all-time record, posing new...</td>\n",
       "      <td>2</td>\n",
       "    </tr>\n",
       "  </tbody>\n",
       "</table>\n",
       "</div>"
      ],
      "text/plain": [
       "                                                text  label\n",
       "0  Wall St. Bears Claw Back Into the Black (Reute...      2\n",
       "1  Carlyle Looks Toward Commercial Aerospace (Reu...      2\n",
       "2  Oil and Economy Cloud Stocks' Outlook (Reuters...      2\n",
       "3  Iraq Halts Oil Exports from Main Southern Pipe...      2\n",
       "4  Oil prices soar to all-time record, posing new...      2"
      ]
     },
     "execution_count": 41,
     "metadata": {},
     "output_type": "execute_result"
    }
   ],
   "source": [
    "agnews_train.head()"
   ]
  },
  {
   "cell_type": "code",
   "execution_count": 44,
   "id": "3382975b",
   "metadata": {},
   "outputs": [],
   "source": [
    "#Yahoo answers\n",
    "#Text consists of the question title, question content and best answer. which elements should we keep?\n",
    "#TO DO : merge the text\n",
    "col_dict = {0:'label',1:'title',2:'question',3:'answer'}\n",
    "yahoo_train = pd.read_csv('yahoo_answers/train.csv',\n",
    "                          header=None).rename(columns=col_dict)\n",
    "yahoo_test = pd.read_csv('yahoo_answers/test.csv',\n",
    "                          header=None).rename(columns=col_dict)"
   ]
  },
  {
   "cell_type": "code",
   "execution_count": 60,
   "id": "b9187fc4",
   "metadata": {},
   "outputs": [
    {
     "data": {
      "text/html": [
       "<div>\n",
       "<style scoped>\n",
       "    .dataframe tbody tr th:only-of-type {\n",
       "        vertical-align: middle;\n",
       "    }\n",
       "\n",
       "    .dataframe tbody tr th {\n",
       "        vertical-align: top;\n",
       "    }\n",
       "\n",
       "    .dataframe thead th {\n",
       "        text-align: right;\n",
       "    }\n",
       "</style>\n",
       "<table border=\"1\" class=\"dataframe\">\n",
       "  <thead>\n",
       "    <tr style=\"text-align: right;\">\n",
       "      <th></th>\n",
       "      <th>label</th>\n",
       "      <th>title</th>\n",
       "      <th>question</th>\n",
       "      <th>answer</th>\n",
       "    </tr>\n",
       "  </thead>\n",
       "  <tbody>\n",
       "    <tr>\n",
       "      <th>0</th>\n",
       "      <td>5</td>\n",
       "      <td>why doesn't an optical mouse work on a glass t...</td>\n",
       "      <td>or even on some surfaces?</td>\n",
       "      <td>Optical mice use an LED and a camera to rapidl...</td>\n",
       "    </tr>\n",
       "    <tr>\n",
       "      <th>1</th>\n",
       "      <td>6</td>\n",
       "      <td>What is the best off-road motorcycle trail ?</td>\n",
       "      <td>long-distance trail throughout CA</td>\n",
       "      <td>i hear that the mojave road is amazing!&lt;br /&gt;\\...</td>\n",
       "    </tr>\n",
       "    <tr>\n",
       "      <th>2</th>\n",
       "      <td>3</td>\n",
       "      <td>What is Trans Fat? How to reduce that?</td>\n",
       "      <td>I heard that tras fat is bad for the body.  Wh...</td>\n",
       "      <td>Trans fats occur in manufactured foods during ...</td>\n",
       "    </tr>\n",
       "    <tr>\n",
       "      <th>3</th>\n",
       "      <td>7</td>\n",
       "      <td>How many planes Fedex has?</td>\n",
       "      <td>I heard that it is the largest airline in the ...</td>\n",
       "      <td>according to the www.fedex.com web site:\\nAir ...</td>\n",
       "    </tr>\n",
       "    <tr>\n",
       "      <th>4</th>\n",
       "      <td>7</td>\n",
       "      <td>In the san francisco bay area, does it make se...</td>\n",
       "      <td>the prices of rent and the price of buying doe...</td>\n",
       "      <td>renting vs buying depends on your goals. &lt;br /...</td>\n",
       "    </tr>\n",
       "  </tbody>\n",
       "</table>\n",
       "</div>"
      ],
      "text/plain": [
       "   label                                              title  \\\n",
       "0      5  why doesn't an optical mouse work on a glass t...   \n",
       "1      6       What is the best off-road motorcycle trail ?   \n",
       "2      3             What is Trans Fat? How to reduce that?   \n",
       "3      7                         How many planes Fedex has?   \n",
       "4      7  In the san francisco bay area, does it make se...   \n",
       "\n",
       "                                            question  \\\n",
       "0                          or even on some surfaces?   \n",
       "1                  long-distance trail throughout CA   \n",
       "2  I heard that tras fat is bad for the body.  Wh...   \n",
       "3  I heard that it is the largest airline in the ...   \n",
       "4  the prices of rent and the price of buying doe...   \n",
       "\n",
       "                                              answer  \n",
       "0  Optical mice use an LED and a camera to rapidl...  \n",
       "1  i hear that the mojave road is amazing!<br />\\...  \n",
       "2  Trans fats occur in manufactured foods during ...  \n",
       "3  according to the www.fedex.com web site:\\nAir ...  \n",
       "4  renting vs buying depends on your goals. <br /...  "
      ]
     },
     "execution_count": 60,
     "metadata": {},
     "output_type": "execute_result"
    }
   ],
   "source": [
    "yahoo_train.head()"
   ]
  },
  {
   "cell_type": "markdown",
   "id": "3554e451",
   "metadata": {},
   "source": [
    "## 3. Sentiments analysis datasets\n",
    "\n",
    "### 3.1. Emotion"
   ]
  },
  {
   "cell_type": "code",
   "execution_count": 46,
   "id": "073d653e",
   "metadata": {},
   "outputs": [],
   "source": [
    "os.chdir('../sentiment/emotion')"
   ]
  },
  {
   "cell_type": "code",
   "execution_count": 57,
   "id": "6cb440e8",
   "metadata": {},
   "outputs": [],
   "source": [
    "#Tweet Eval : Emotion dection\n",
    "#Labels and text  are in separate  text files\n",
    "eval_emotion_train = pd.DataFrame()\n",
    "eval_emotion_val = pd.DataFrame()\n",
    "eval_emotion_test = pd.DataFrame()\n",
    "eval_emotion_train['label'] = pd.read_table('tweetEval/datasets/train_labels.txt',header=None)\n",
    "eval_emotion_val['label'] = pd.read_table('tweetEval/datasets/val_labels.txt',header=None)\n",
    "eval_emotion_test['label'] = pd.read_table('tweetEval/datasets/test_labels.txt',header=None)\n",
    "eval_emotion_train['text']= pd.read_table('tweetEval/datasets/train_text.txt',header=None)\n",
    "eval_emotion_val['text']= pd.read_table('tweetEval/datasets/val_text.txt',header=None)\n",
    "eval_emotion_test['text'] = pd.read_table('tweetEval/datasets/test_text.txt',header=None)"
   ]
  },
  {
   "cell_type": "code",
   "execution_count": 59,
   "id": "fe770d8f",
   "metadata": {},
   "outputs": [
    {
     "data": {
      "text/html": [
       "<div>\n",
       "<style scoped>\n",
       "    .dataframe tbody tr th:only-of-type {\n",
       "        vertical-align: middle;\n",
       "    }\n",
       "\n",
       "    .dataframe tbody tr th {\n",
       "        vertical-align: top;\n",
       "    }\n",
       "\n",
       "    .dataframe thead th {\n",
       "        text-align: right;\n",
       "    }\n",
       "</style>\n",
       "<table border=\"1\" class=\"dataframe\">\n",
       "  <thead>\n",
       "    <tr style=\"text-align: right;\">\n",
       "      <th></th>\n",
       "      <th>label</th>\n",
       "      <th>text</th>\n",
       "    </tr>\n",
       "  </thead>\n",
       "  <tbody>\n",
       "    <tr>\n",
       "      <th>0</th>\n",
       "      <td>2</td>\n",
       "      <td>“Worry is a down payment on a problem you may ...</td>\n",
       "    </tr>\n",
       "    <tr>\n",
       "      <th>1</th>\n",
       "      <td>0</td>\n",
       "      <td>My roommate: it's okay that we can't spell bec...</td>\n",
       "    </tr>\n",
       "    <tr>\n",
       "      <th>2</th>\n",
       "      <td>1</td>\n",
       "      <td>No but that's so cute. Atsu was probably shy a...</td>\n",
       "    </tr>\n",
       "    <tr>\n",
       "      <th>3</th>\n",
       "      <td>0</td>\n",
       "      <td>Rooneys fucking untouchable isn't he? Been fuc...</td>\n",
       "    </tr>\n",
       "    <tr>\n",
       "      <th>4</th>\n",
       "      <td>3</td>\n",
       "      <td>it's pretty depressing when u hit pan on ur fa...</td>\n",
       "    </tr>\n",
       "  </tbody>\n",
       "</table>\n",
       "</div>"
      ],
      "text/plain": [
       "   label                                               text\n",
       "0      2  “Worry is a down payment on a problem you may ...\n",
       "1      0  My roommate: it's okay that we can't spell bec...\n",
       "2      1  No but that's so cute. Atsu was probably shy a...\n",
       "3      0  Rooneys fucking untouchable isn't he? Been fuc...\n",
       "4      3  it's pretty depressing when u hit pan on ur fa..."
      ]
     },
     "execution_count": 59,
     "metadata": {},
     "output_type": "execute_result"
    }
   ],
   "source": [
    "eval_emotion_train.head()"
   ]
  },
  {
   "cell_type": "code",
   "execution_count": 64,
   "id": "fafb7ce0",
   "metadata": {},
   "outputs": [],
   "source": [
    "#CARER Emotion\n",
    "carer_train = pd.read_csv('CARER/train.csv')\n",
    "carer_val = pd.read_csv('CARER/val.csv')\n",
    "carer_test = pd.read_csv('CARER/test.csv')"
   ]
  },
  {
   "cell_type": "code",
   "execution_count": 63,
   "id": "81f12d1e",
   "metadata": {},
   "outputs": [
    {
     "data": {
      "text/html": [
       "<div>\n",
       "<style scoped>\n",
       "    .dataframe tbody tr th:only-of-type {\n",
       "        vertical-align: middle;\n",
       "    }\n",
       "\n",
       "    .dataframe tbody tr th {\n",
       "        vertical-align: top;\n",
       "    }\n",
       "\n",
       "    .dataframe thead th {\n",
       "        text-align: right;\n",
       "    }\n",
       "</style>\n",
       "<table border=\"1\" class=\"dataframe\">\n",
       "  <thead>\n",
       "    <tr style=\"text-align: right;\">\n",
       "      <th></th>\n",
       "      <th>text</th>\n",
       "      <th>label</th>\n",
       "    </tr>\n",
       "  </thead>\n",
       "  <tbody>\n",
       "    <tr>\n",
       "      <th>0</th>\n",
       "      <td>i didnt feel humiliated</td>\n",
       "      <td>0</td>\n",
       "    </tr>\n",
       "    <tr>\n",
       "      <th>1</th>\n",
       "      <td>i can go from feeling so hopeless to so damned...</td>\n",
       "      <td>0</td>\n",
       "    </tr>\n",
       "    <tr>\n",
       "      <th>2</th>\n",
       "      <td>im grabbing a minute to post i feel greedy wrong</td>\n",
       "      <td>3</td>\n",
       "    </tr>\n",
       "    <tr>\n",
       "      <th>3</th>\n",
       "      <td>i am ever feeling nostalgic about the fireplac...</td>\n",
       "      <td>2</td>\n",
       "    </tr>\n",
       "    <tr>\n",
       "      <th>4</th>\n",
       "      <td>i am feeling grouchy</td>\n",
       "      <td>3</td>\n",
       "    </tr>\n",
       "  </tbody>\n",
       "</table>\n",
       "</div>"
      ],
      "text/plain": [
       "                                                text  label\n",
       "0                            i didnt feel humiliated      0\n",
       "1  i can go from feeling so hopeless to so damned...      0\n",
       "2   im grabbing a minute to post i feel greedy wrong      3\n",
       "3  i am ever feeling nostalgic about the fireplac...      2\n",
       "4                               i am feeling grouchy      3"
      ]
     },
     "execution_count": 63,
     "metadata": {},
     "output_type": "execute_result"
    }
   ],
   "source": [
    "carer_train.head()"
   ]
  },
  {
   "cell_type": "code",
   "execution_count": 68,
   "id": "17d101fc",
   "metadata": {},
   "outputs": [],
   "source": [
    "#silicone (Daily Dialog Act)\n",
    "silicone_train = pd.read_csv('silicone/train.csv',\n",
    "                             usecols=['Utterance','Label']).rename(columns={'Utterance':'text','Label':'label'})\n",
    "siliconer_val = pd.read_csv('silicone/val.csv',\n",
    "                             usecols=['Utterance','Label']).rename(columns={'Utterance':'text','Label':'label'})\n",
    "silicone_test = pd.read_csv('silicone/test.csv',\n",
    "                             usecols=['Utterance','Label']).rename(columns={'Utterance':'text','Label':'label'})"
   ]
  },
  {
   "cell_type": "code",
   "execution_count": 69,
   "id": "734ef957",
   "metadata": {},
   "outputs": [
    {
     "data": {
      "text/html": [
       "<div>\n",
       "<style scoped>\n",
       "    .dataframe tbody tr th:only-of-type {\n",
       "        vertical-align: middle;\n",
       "    }\n",
       "\n",
       "    .dataframe tbody tr th {\n",
       "        vertical-align: top;\n",
       "    }\n",
       "\n",
       "    .dataframe thead th {\n",
       "        text-align: right;\n",
       "    }\n",
       "</style>\n",
       "<table border=\"1\" class=\"dataframe\">\n",
       "  <thead>\n",
       "    <tr style=\"text-align: right;\">\n",
       "      <th></th>\n",
       "      <th>text</th>\n",
       "      <th>label</th>\n",
       "    </tr>\n",
       "  </thead>\n",
       "  <tbody>\n",
       "    <tr>\n",
       "      <th>0</th>\n",
       "      <td>say , jim , how about going for a few beers af...</td>\n",
       "      <td>4</td>\n",
       "    </tr>\n",
       "    <tr>\n",
       "      <th>1</th>\n",
       "      <td>you know that is tempting but is really not go...</td>\n",
       "      <td>4</td>\n",
       "    </tr>\n",
       "    <tr>\n",
       "      <th>2</th>\n",
       "      <td>what do you mean ? it will help us to relax .</td>\n",
       "      <td>4</td>\n",
       "    </tr>\n",
       "    <tr>\n",
       "      <th>3</th>\n",
       "      <td>do you really think so ? i don't . it will jus...</td>\n",
       "      <td>4</td>\n",
       "    </tr>\n",
       "    <tr>\n",
       "      <th>4</th>\n",
       "      <td>i guess you are right.but what shall we do ? i...</td>\n",
       "      <td>4</td>\n",
       "    </tr>\n",
       "  </tbody>\n",
       "</table>\n",
       "</div>"
      ],
      "text/plain": [
       "                                                text  label\n",
       "0  say , jim , how about going for a few beers af...      4\n",
       "1  you know that is tempting but is really not go...      4\n",
       "2      what do you mean ? it will help us to relax .      4\n",
       "3  do you really think so ? i don't . it will jus...      4\n",
       "4  i guess you are right.but what shall we do ? i...      4"
      ]
     },
     "execution_count": 69,
     "metadata": {},
     "output_type": "execute_result"
    }
   ],
   "source": [
    "silicone_train.head()"
   ]
  },
  {
   "cell_type": "code",
   "execution_count": 74,
   "id": "a44fdbbc",
   "metadata": {},
   "outputs": [],
   "source": [
    "#IMDb \n",
    "imdb_train = pd.read_csv('IMDb/train.csv')\n",
    "imdb_test = pd.read_csv('IMDb/test.csv')"
   ]
  },
  {
   "cell_type": "code",
   "execution_count": 73,
   "id": "2196d57f",
   "metadata": {},
   "outputs": [
    {
     "data": {
      "text/html": [
       "<div>\n",
       "<style scoped>\n",
       "    .dataframe tbody tr th:only-of-type {\n",
       "        vertical-align: middle;\n",
       "    }\n",
       "\n",
       "    .dataframe tbody tr th {\n",
       "        vertical-align: top;\n",
       "    }\n",
       "\n",
       "    .dataframe thead th {\n",
       "        text-align: right;\n",
       "    }\n",
       "</style>\n",
       "<table border=\"1\" class=\"dataframe\">\n",
       "  <thead>\n",
       "    <tr style=\"text-align: right;\">\n",
       "      <th></th>\n",
       "      <th>text</th>\n",
       "      <th>label</th>\n",
       "    </tr>\n",
       "  </thead>\n",
       "  <tbody>\n",
       "    <tr>\n",
       "      <th>0</th>\n",
       "      <td>I rented I AM CURIOUS-YELLOW from my video sto...</td>\n",
       "      <td>0</td>\n",
       "    </tr>\n",
       "    <tr>\n",
       "      <th>1</th>\n",
       "      <td>\"I Am Curious: Yellow\" is a risible and preten...</td>\n",
       "      <td>0</td>\n",
       "    </tr>\n",
       "    <tr>\n",
       "      <th>2</th>\n",
       "      <td>If only to avoid making this type of film in t...</td>\n",
       "      <td>0</td>\n",
       "    </tr>\n",
       "    <tr>\n",
       "      <th>3</th>\n",
       "      <td>This film was probably inspired by Godard's Ma...</td>\n",
       "      <td>0</td>\n",
       "    </tr>\n",
       "    <tr>\n",
       "      <th>4</th>\n",
       "      <td>Oh, brother...after hearing about this ridicul...</td>\n",
       "      <td>0</td>\n",
       "    </tr>\n",
       "  </tbody>\n",
       "</table>\n",
       "</div>"
      ],
      "text/plain": [
       "                                                text  label\n",
       "0  I rented I AM CURIOUS-YELLOW from my video sto...      0\n",
       "1  \"I Am Curious: Yellow\" is a risible and preten...      0\n",
       "2  If only to avoid making this type of film in t...      0\n",
       "3  This film was probably inspired by Godard's Ma...      0\n",
       "4  Oh, brother...after hearing about this ridicul...      0"
      ]
     },
     "execution_count": 73,
     "metadata": {},
     "output_type": "execute_result"
    }
   ],
   "source": [
    "imdb_train.head()"
   ]
  },
  {
   "cell_type": "markdown",
   "id": "124dd457",
   "metadata": {},
   "source": [
    "### 3.2. Polarity"
   ]
  },
  {
   "cell_type": "code",
   "execution_count": 75,
   "id": "6f41d3cf",
   "metadata": {},
   "outputs": [],
   "source": [
    "os.chdir('../polarity')"
   ]
  },
  {
   "cell_type": "code",
   "execution_count": 76,
   "id": "6e65307a",
   "metadata": {},
   "outputs": [],
   "source": [
    "#YELP\n",
    "yelp_train = pd.read_csv('yelp/train.csv')\n",
    "yelp_test = pd.read_csv('yelp/test.csv')"
   ]
  },
  {
   "cell_type": "code",
   "execution_count": 77,
   "id": "8d8030ee",
   "metadata": {},
   "outputs": [
    {
     "data": {
      "text/html": [
       "<div>\n",
       "<style scoped>\n",
       "    .dataframe tbody tr th:only-of-type {\n",
       "        vertical-align: middle;\n",
       "    }\n",
       "\n",
       "    .dataframe tbody tr th {\n",
       "        vertical-align: top;\n",
       "    }\n",
       "\n",
       "    .dataframe thead th {\n",
       "        text-align: right;\n",
       "    }\n",
       "</style>\n",
       "<table border=\"1\" class=\"dataframe\">\n",
       "  <thead>\n",
       "    <tr style=\"text-align: right;\">\n",
       "      <th></th>\n",
       "      <th>text</th>\n",
       "      <th>label</th>\n",
       "    </tr>\n",
       "  </thead>\n",
       "  <tbody>\n",
       "    <tr>\n",
       "      <th>0</th>\n",
       "      <td>Unfortunately, the frustration of being Dr. Go...</td>\n",
       "      <td>0</td>\n",
       "    </tr>\n",
       "    <tr>\n",
       "      <th>1</th>\n",
       "      <td>Been going to Dr. Goldberg for over 10 years. ...</td>\n",
       "      <td>1</td>\n",
       "    </tr>\n",
       "    <tr>\n",
       "      <th>2</th>\n",
       "      <td>I don't know what Dr. Goldberg was like before...</td>\n",
       "      <td>0</td>\n",
       "    </tr>\n",
       "    <tr>\n",
       "      <th>3</th>\n",
       "      <td>I'm writing this review to give you a heads up...</td>\n",
       "      <td>0</td>\n",
       "    </tr>\n",
       "    <tr>\n",
       "      <th>4</th>\n",
       "      <td>All the food is great here. But the best thing...</td>\n",
       "      <td>1</td>\n",
       "    </tr>\n",
       "  </tbody>\n",
       "</table>\n",
       "</div>"
      ],
      "text/plain": [
       "                                                text  label\n",
       "0  Unfortunately, the frustration of being Dr. Go...      0\n",
       "1  Been going to Dr. Goldberg for over 10 years. ...      1\n",
       "2  I don't know what Dr. Goldberg was like before...      0\n",
       "3  I'm writing this review to give you a heads up...      0\n",
       "4  All the food is great here. But the best thing...      1"
      ]
     },
     "execution_count": 77,
     "metadata": {},
     "output_type": "execute_result"
    }
   ],
   "source": [
    "yelp_train.head()"
   ]
  },
  {
   "cell_type": "code",
   "execution_count": 82,
   "id": "3aea5240",
   "metadata": {},
   "outputs": [],
   "source": [
    "#sst2 \n",
    "sst2_train = pd.read_csv('sst2/train.csv',usecols=['sentence','label']).rename(columns={'sentence':'text'})\n",
    "sst2_val = pd.read_csv('sst2/val.csv',usecols=['sentence','label']).rename(columns={'sentence':'text'})\n",
    "sst2_test = pd.read_csv('sst2/test.csv',usecols=['sentence','label']).rename(columns={'sentence':'text'})"
   ]
  },
  {
   "cell_type": "code",
   "execution_count": 83,
   "id": "660562dc",
   "metadata": {},
   "outputs": [
    {
     "data": {
      "text/html": [
       "<div>\n",
       "<style scoped>\n",
       "    .dataframe tbody tr th:only-of-type {\n",
       "        vertical-align: middle;\n",
       "    }\n",
       "\n",
       "    .dataframe tbody tr th {\n",
       "        vertical-align: top;\n",
       "    }\n",
       "\n",
       "    .dataframe thead th {\n",
       "        text-align: right;\n",
       "    }\n",
       "</style>\n",
       "<table border=\"1\" class=\"dataframe\">\n",
       "  <thead>\n",
       "    <tr style=\"text-align: right;\">\n",
       "      <th></th>\n",
       "      <th>text</th>\n",
       "      <th>label</th>\n",
       "    </tr>\n",
       "  </thead>\n",
       "  <tbody>\n",
       "    <tr>\n",
       "      <th>0</th>\n",
       "      <td>hide new secretions from the parental units</td>\n",
       "      <td>0</td>\n",
       "    </tr>\n",
       "    <tr>\n",
       "      <th>1</th>\n",
       "      <td>contains no wit , only labored gags</td>\n",
       "      <td>0</td>\n",
       "    </tr>\n",
       "    <tr>\n",
       "      <th>2</th>\n",
       "      <td>that loves its characters and communicates som...</td>\n",
       "      <td>1</td>\n",
       "    </tr>\n",
       "    <tr>\n",
       "      <th>3</th>\n",
       "      <td>remains utterly satisfied to remain the same t...</td>\n",
       "      <td>0</td>\n",
       "    </tr>\n",
       "    <tr>\n",
       "      <th>4</th>\n",
       "      <td>on the worst revenge-of-the-nerds clichés the ...</td>\n",
       "      <td>0</td>\n",
       "    </tr>\n",
       "  </tbody>\n",
       "</table>\n",
       "</div>"
      ],
      "text/plain": [
       "                                                text  label\n",
       "0       hide new secretions from the parental units       0\n",
       "1               contains no wit , only labored gags       0\n",
       "2  that loves its characters and communicates som...      1\n",
       "3  remains utterly satisfied to remain the same t...      0\n",
       "4  on the worst revenge-of-the-nerds clichés the ...      0"
      ]
     },
     "execution_count": 83,
     "metadata": {},
     "output_type": "execute_result"
    }
   ],
   "source": [
    "sst2_train.head()"
   ]
  },
  {
   "cell_type": "markdown",
   "id": "3ca011a7",
   "metadata": {},
   "source": [
    "###  3.3. Sarcasm"
   ]
  },
  {
   "cell_type": "code",
   "execution_count": 84,
   "id": "dd4ba4a3",
   "metadata": {},
   "outputs": [],
   "source": [
    "os.chdir('../sarcasm')"
   ]
  },
  {
   "cell_type": "code",
   "execution_count": 92,
   "id": "9b2ee301",
   "metadata": {},
   "outputs": [
    {
     "name": "stderr",
     "output_type": "stream",
     "text": [
      "C:\\Users\\Saiga\\Anaconda3\\lib\\site-packages\\IPython\\core\\interactiveshell.py:3457: FutureWarning: The error_bad_lines argument has been deprecated and will be removed in a future version.\n",
      "\n",
      "\n",
      "  exec(code_obj, self.user_global_ns, self.user_ns)\n",
      "b'Skipping line 1296: expected 1 fields, saw 21\\nSkipping line 1754: expected 1 fields, saw 5\\nSkipping line 2774: expected 1 fields, saw 5\\n'\n"
     ]
    }
   ],
   "source": [
    "#Tweet Eval : Irony\n",
    "#Parser Error with the train text file, the parsers skips three lines as a result. Further investigation needed\n",
    "eval_irony_train = pd.DataFrame()\n",
    "eval_irony_test = pd.DataFrame()\n",
    "eval_irony_train['label'] = pd.read_table('tweetEval/train_labels.txt',header=None)\n",
    "eval_irony_test['label'] = pd.read_table('tweetEval/test_labels.txt',header=None)\n",
    "eval_irony_train['text']= pd.read_table('tweetEval/train_text.txt',header=None,error_bad_lines=False)\n",
    "eval_irony_test['text'] = pd.read_table('tweetEval/test_text.txt',header=None)"
   ]
  },
  {
   "cell_type": "code",
   "execution_count": 90,
   "id": "b4bd1900",
   "metadata": {},
   "outputs": [
    {
     "data": {
      "text/html": [
       "<div>\n",
       "<style scoped>\n",
       "    .dataframe tbody tr th:only-of-type {\n",
       "        vertical-align: middle;\n",
       "    }\n",
       "\n",
       "    .dataframe tbody tr th {\n",
       "        vertical-align: top;\n",
       "    }\n",
       "\n",
       "    .dataframe thead th {\n",
       "        text-align: right;\n",
       "    }\n",
       "</style>\n",
       "<table border=\"1\" class=\"dataframe\">\n",
       "  <thead>\n",
       "    <tr style=\"text-align: right;\">\n",
       "      <th></th>\n",
       "      <th>label</th>\n",
       "      <th>text</th>\n",
       "    </tr>\n",
       "  </thead>\n",
       "  <tbody>\n",
       "    <tr>\n",
       "      <th>0</th>\n",
       "      <td>1</td>\n",
       "      <td>seeing ppl walking w/ crutches makes me really...</td>\n",
       "    </tr>\n",
       "    <tr>\n",
       "      <th>1</th>\n",
       "      <td>0</td>\n",
       "      <td>look for the girl with the broken smile, ask h...</td>\n",
       "    </tr>\n",
       "    <tr>\n",
       "      <th>2</th>\n",
       "      <td>1</td>\n",
       "      <td>Now I remember why I buy books online @user #s...</td>\n",
       "    </tr>\n",
       "    <tr>\n",
       "      <th>3</th>\n",
       "      <td>1</td>\n",
       "      <td>@user @user So is he banded from wearing the c...</td>\n",
       "    </tr>\n",
       "    <tr>\n",
       "      <th>4</th>\n",
       "      <td>1</td>\n",
       "      <td>Just found out there are Etch A Sketch apps.  ...</td>\n",
       "    </tr>\n",
       "  </tbody>\n",
       "</table>\n",
       "</div>"
      ],
      "text/plain": [
       "   label                                               text\n",
       "0      1  seeing ppl walking w/ crutches makes me really...\n",
       "1      0  look for the girl with the broken smile, ask h...\n",
       "2      1  Now I remember why I buy books online @user #s...\n",
       "3      1  @user @user So is he banded from wearing the c...\n",
       "4      1  Just found out there are Etch A Sketch apps.  ..."
      ]
     },
     "execution_count": 90,
     "metadata": {},
     "output_type": "execute_result"
    }
   ],
   "source": [
    "eval_irony_train.head() "
   ]
  },
  {
   "cell_type": "code",
   "execution_count": 112,
   "id": "d93f0738",
   "metadata": {},
   "outputs": [],
   "source": [
    "#SemEval 2018\n",
    "#Task A Binary, Task B Multiclass (4)\n",
    "semeval_train_taskA = pd.read_table('SemEval/datasets/train/SemEval2018-T3-train-taskA.txt',\n",
    "                                    usecols=['Label','Tweet text']).rename(columns = {'Label':'label','Tweet text':'text'})\n",
    "semeval_train_taskB = pd.read_table('SemEval/datasets/train/SemEval2018-T3-train-taskB.txt',\n",
    "                                    usecols=['Label','Tweet text']).rename(columns = {'Label':'label','Tweet text':'text'})\n",
    "semeval_test_taskA = pd.DataFrame()\n",
    "semeval_test_taskB = pd.DataFrame()\n",
    "semeval_test_taskA['text'] = pd.read_table('SemEval/datasets/test_TaskA/SemEval2018-T3_input_test_taskA.txt',\n",
    "                                    usecols=['tweet text'])\n",
    "semeval_test_taskB['text'] = pd.read_table('SemEval/datasets/test_TaskB/SemEval2018-T3_input_test_taskB.txt',\n",
    "                                    usecols=['tweet text'])\n",
    "semeval_test_taskA['label'] = pd.read_table('SemEval/datasets/goldtest_TaskA/SemEval2018-T3_gold_test_taskA_emoji.txt',\n",
    "                                    usecols=['Label'])\n",
    "semeval_test_taskB['label'] = pd.read_table('SemEval/datasets/goldtest_TaskB/SemEval2018-T3_gold_test_taskB_emoji.txt',\n",
    "                                    usecols=['Label'])"
   ]
  },
  {
   "cell_type": "code",
   "execution_count": 137,
   "id": "0a596b80",
   "metadata": {},
   "outputs": [
    {
     "data": {
      "text/html": [
       "<div>\n",
       "<style scoped>\n",
       "    .dataframe tbody tr th:only-of-type {\n",
       "        vertical-align: middle;\n",
       "    }\n",
       "\n",
       "    .dataframe tbody tr th {\n",
       "        vertical-align: top;\n",
       "    }\n",
       "\n",
       "    .dataframe thead th {\n",
       "        text-align: right;\n",
       "    }\n",
       "</style>\n",
       "<table border=\"1\" class=\"dataframe\">\n",
       "  <thead>\n",
       "    <tr style=\"text-align: right;\">\n",
       "      <th></th>\n",
       "      <th>label</th>\n",
       "      <th>text</th>\n",
       "    </tr>\n",
       "  </thead>\n",
       "  <tbody>\n",
       "    <tr>\n",
       "      <th>0</th>\n",
       "      <td>1</td>\n",
       "      <td>Sweet United Nations video. Just in time for C...</td>\n",
       "    </tr>\n",
       "    <tr>\n",
       "      <th>1</th>\n",
       "      <td>1</td>\n",
       "      <td>@mrdahl87 We are rumored to have talked to Erv...</td>\n",
       "    </tr>\n",
       "    <tr>\n",
       "      <th>2</th>\n",
       "      <td>1</td>\n",
       "      <td>Hey there! Nice to see you Minnesota/ND Winter...</td>\n",
       "    </tr>\n",
       "    <tr>\n",
       "      <th>3</th>\n",
       "      <td>0</td>\n",
       "      <td>3 episodes left I'm dying over here</td>\n",
       "    </tr>\n",
       "    <tr>\n",
       "      <th>4</th>\n",
       "      <td>1</td>\n",
       "      <td>I can't breathe! was chosen as the most notabl...</td>\n",
       "    </tr>\n",
       "  </tbody>\n",
       "</table>\n",
       "</div>"
      ],
      "text/plain": [
       "   label                                               text\n",
       "0      1  Sweet United Nations video. Just in time for C...\n",
       "1      1  @mrdahl87 We are rumored to have talked to Erv...\n",
       "2      1  Hey there! Nice to see you Minnesota/ND Winter...\n",
       "3      0                3 episodes left I'm dying over here\n",
       "4      1  I can't breathe! was chosen as the most notabl..."
      ]
     },
     "execution_count": 137,
     "metadata": {},
     "output_type": "execute_result"
    }
   ],
   "source": [
    "semeval_train_taskA.head()"
   ]
  },
  {
   "cell_type": "code",
   "execution_count": 138,
   "id": "2546b8d7",
   "metadata": {},
   "outputs": [
    {
     "data": {
      "text/html": [
       "<div>\n",
       "<style scoped>\n",
       "    .dataframe tbody tr th:only-of-type {\n",
       "        vertical-align: middle;\n",
       "    }\n",
       "\n",
       "    .dataframe tbody tr th {\n",
       "        vertical-align: top;\n",
       "    }\n",
       "\n",
       "    .dataframe thead th {\n",
       "        text-align: right;\n",
       "    }\n",
       "</style>\n",
       "<table border=\"1\" class=\"dataframe\">\n",
       "  <thead>\n",
       "    <tr style=\"text-align: right;\">\n",
       "      <th></th>\n",
       "      <th>label</th>\n",
       "      <th>text</th>\n",
       "    </tr>\n",
       "  </thead>\n",
       "  <tbody>\n",
       "    <tr>\n",
       "      <th>0</th>\n",
       "      <td>1</td>\n",
       "      <td>Sweet United Nations video. Just in time for C...</td>\n",
       "    </tr>\n",
       "    <tr>\n",
       "      <th>1</th>\n",
       "      <td>1</td>\n",
       "      <td>@mrdahl87 We are rumored to have talked to Erv...</td>\n",
       "    </tr>\n",
       "    <tr>\n",
       "      <th>2</th>\n",
       "      <td>1</td>\n",
       "      <td>Hey there! Nice to see you Minnesota/ND Winter...</td>\n",
       "    </tr>\n",
       "    <tr>\n",
       "      <th>3</th>\n",
       "      <td>0</td>\n",
       "      <td>3 episodes left I'm dying over here</td>\n",
       "    </tr>\n",
       "    <tr>\n",
       "      <th>4</th>\n",
       "      <td>2</td>\n",
       "      <td>I can't breathe! was chosen as the most notabl...</td>\n",
       "    </tr>\n",
       "  </tbody>\n",
       "</table>\n",
       "</div>"
      ],
      "text/plain": [
       "   label                                               text\n",
       "0      1  Sweet United Nations video. Just in time for C...\n",
       "1      1  @mrdahl87 We are rumored to have talked to Erv...\n",
       "2      1  Hey there! Nice to see you Minnesota/ND Winter...\n",
       "3      0                3 episodes left I'm dying over here\n",
       "4      2  I can't breathe! was chosen as the most notabl..."
      ]
     },
     "execution_count": 138,
     "metadata": {},
     "output_type": "execute_result"
    }
   ],
   "source": [
    "semeval_train_taskB.head()"
   ]
  },
  {
   "cell_type": "code",
   "execution_count": 115,
   "id": "ec08ce92",
   "metadata": {},
   "outputs": [],
   "source": [
    "#SARC V1.0\n",
    "#balanced version. There is also a much larger unbalanced version (several GBy)\n",
    "sarc_train = pd.read_csv('SARC/train-balanced.csv',\n",
    "                    sep='\\t',\n",
    "                    header=None,\n",
    "                    usecols=[0,1]).rename(columns={0:'label',1:'text'})\n",
    "sarc_test = pd.read_csv('SARC/test-balanced.csv',\n",
    "                    sep='\\t',\n",
    "                    header=None,\n",
    "                    usecols=[0,1]).rename(columns={0:'label',1:'text'})"
   ]
  },
  {
   "cell_type": "code",
   "execution_count": 116,
   "id": "39951864",
   "metadata": {},
   "outputs": [
    {
     "data": {
      "text/html": [
       "<div>\n",
       "<style scoped>\n",
       "    .dataframe tbody tr th:only-of-type {\n",
       "        vertical-align: middle;\n",
       "    }\n",
       "\n",
       "    .dataframe tbody tr th {\n",
       "        vertical-align: top;\n",
       "    }\n",
       "\n",
       "    .dataframe thead th {\n",
       "        text-align: right;\n",
       "    }\n",
       "</style>\n",
       "<table border=\"1\" class=\"dataframe\">\n",
       "  <thead>\n",
       "    <tr style=\"text-align: right;\">\n",
       "      <th></th>\n",
       "      <th>label</th>\n",
       "      <th>text</th>\n",
       "    </tr>\n",
       "  </thead>\n",
       "  <tbody>\n",
       "    <tr>\n",
       "      <th>0</th>\n",
       "      <td>0</td>\n",
       "      <td>Dang dog, thanks</td>\n",
       "    </tr>\n",
       "    <tr>\n",
       "      <th>1</th>\n",
       "      <td>0</td>\n",
       "      <td>to summon the powers of the flying spaghetti m...</td>\n",
       "    </tr>\n",
       "    <tr>\n",
       "      <th>2</th>\n",
       "      <td>0</td>\n",
       "      <td>i did that 3rd last 1 by accident last night</td>\n",
       "    </tr>\n",
       "    <tr>\n",
       "      <th>3</th>\n",
       "      <td>0</td>\n",
       "      <td>He's insane, used him in DC, better than Blake...</td>\n",
       "    </tr>\n",
       "    <tr>\n",
       "      <th>4</th>\n",
       "      <td>0</td>\n",
       "      <td>Forgot about him, he's a pretty pointless card...</td>\n",
       "    </tr>\n",
       "  </tbody>\n",
       "</table>\n",
       "</div>"
      ],
      "text/plain": [
       "   label                                               text\n",
       "0      0                                   Dang dog, thanks\n",
       "1      0  to summon the powers of the flying spaghetti m...\n",
       "2      0       i did that 3rd last 1 by accident last night\n",
       "3      0  He's insane, used him in DC, better than Blake...\n",
       "4      0  Forgot about him, he's a pretty pointless card..."
      ]
     },
     "execution_count": 116,
     "metadata": {},
     "output_type": "execute_result"
    }
   ],
   "source": [
    "sarc_train.head()"
   ]
  }
 ],
 "metadata": {
  "kernelspec": {
   "display_name": "Python 3 (ipykernel)",
   "language": "python",
   "name": "python3"
  },
  "language_info": {
   "codemirror_mode": {
    "name": "ipython",
    "version": 3
   },
   "file_extension": ".py",
   "mimetype": "text/x-python",
   "name": "python",
   "nbconvert_exporter": "python",
   "pygments_lexer": "ipython3",
   "version": "3.7.13"
  }
 },
 "nbformat": 4,
 "nbformat_minor": 5
}
