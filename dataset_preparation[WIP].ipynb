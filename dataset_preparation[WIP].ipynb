{
 "cells": [
  {
   "cell_type": "markdown",
   "id": "e8febf40",
   "metadata": {},
   "source": [
    "Convert all datasets to a standard 2-columns format ('text' and 'label')"
   ]
  },
  {
   "cell_type": "code",
   "execution_count": 1,
   "id": "343bc7b6",
   "metadata": {},
   "outputs": [],
   "source": [
    "import pandas as pd\n",
    "import numpy as np\n",
    "import os\n",
    "import json\n",
    "import matplotlib.pyplot as plt\n",
    "import seaborn as sns\n",
    "from tqdm import tqdm\n",
    "from sklearn.datasets import fetch_20newsgroups\n",
    "from util.dataloader import DataLoader"
   ]
  },
  {
   "cell_type": "code",
   "execution_count": 2,
   "id": "1646d243",
   "metadata": {},
   "outputs": [],
   "source": [
    "dl = DataLoader()"
   ]
  },
  {
   "cell_type": "code",
   "execution_count": 3,
   "id": "eda3e85b",
   "metadata": {},
   "outputs": [
    {
     "name": "stderr",
     "output_type": "stream",
     "text": [
      "100%|██████████████████████████████████████████████████████████████████████████████| 624/624 [00:00<00:00, 1278.24it/s]\n",
      "100%|██████████████████████████████████████████████████████████████████████████████| 432/432 [00:00<00:00, 1376.49it/s]\n",
      "C:\\Users\\Saiga\\Anaconda3\\lib\\site-packages\\ipykernel_launcher.py:1: FutureWarning: The error_bad_lines argument has been deprecated and will be removed in a future version.\n",
      "\n",
      "\n",
      "  \"\"\"Entry point for launching an IPython kernel.\n",
      "b'Skipping line 1296: expected 1 fields, saw 21\\nSkipping line 1754: expected 1 fields, saw 5\\nSkipping line 2774: expected 1 fields, saw 5\\n'\n"
     ]
    }
   ],
   "source": [
    "%%time\n",
    "data_dict = dl.load()"
   ]
  },
  {
   "cell_type": "code",
   "execution_count": 5,
   "id": "288089f3",
   "metadata": {},
   "outputs": [
    {
     "data": {
      "text/html": [
       "<div>\n",
       "<style scoped>\n",
       "    .dataframe tbody tr th:only-of-type {\n",
       "        vertical-align: middle;\n",
       "    }\n",
       "\n",
       "    .dataframe tbody tr th {\n",
       "        vertical-align: top;\n",
       "    }\n",
       "\n",
       "    .dataframe thead th {\n",
       "        text-align: right;\n",
       "    }\n",
       "</style>\n",
       "<table border=\"1\" class=\"dataframe\">\n",
       "  <thead>\n",
       "    <tr style=\"text-align: right;\">\n",
       "      <th></th>\n",
       "      <th>label</th>\n",
       "      <th>text</th>\n",
       "    </tr>\n",
       "  </thead>\n",
       "  <tbody>\n",
       "    <tr>\n",
       "      <th>0</th>\n",
       "      <td>0</td>\n",
       "      <td>Says the Annies List political group supports ...</td>\n",
       "    </tr>\n",
       "    <tr>\n",
       "      <th>1</th>\n",
       "      <td>1</td>\n",
       "      <td>When did the decline of coal start? It started...</td>\n",
       "    </tr>\n",
       "    <tr>\n",
       "      <th>2</th>\n",
       "      <td>2</td>\n",
       "      <td>Hillary Clinton agrees with John McCain \"by vo...</td>\n",
       "    </tr>\n",
       "    <tr>\n",
       "      <th>3</th>\n",
       "      <td>0</td>\n",
       "      <td>Health care reform legislation is likely to ma...</td>\n",
       "    </tr>\n",
       "    <tr>\n",
       "      <th>4</th>\n",
       "      <td>1</td>\n",
       "      <td>The economic turnaround started at the end of ...</td>\n",
       "    </tr>\n",
       "    <tr>\n",
       "      <th>...</th>\n",
       "      <td>...</td>\n",
       "      <td>...</td>\n",
       "    </tr>\n",
       "    <tr>\n",
       "      <th>10264</th>\n",
       "      <td>2</td>\n",
       "      <td>There are a larger number of shark attacks in ...</td>\n",
       "    </tr>\n",
       "    <tr>\n",
       "      <th>10265</th>\n",
       "      <td>2</td>\n",
       "      <td>Democrats have now become the party of the [At...</td>\n",
       "    </tr>\n",
       "    <tr>\n",
       "      <th>10266</th>\n",
       "      <td>1</td>\n",
       "      <td>Says an alternative to Social Security that op...</td>\n",
       "    </tr>\n",
       "    <tr>\n",
       "      <th>10267</th>\n",
       "      <td>0</td>\n",
       "      <td>On lifting the U.S. Cuban embargo and allowing...</td>\n",
       "    </tr>\n",
       "    <tr>\n",
       "      <th>10268</th>\n",
       "      <td>5</td>\n",
       "      <td>The Department of Veterans Affairs has a manua...</td>\n",
       "    </tr>\n",
       "  </tbody>\n",
       "</table>\n",
       "<p>10269 rows × 2 columns</p>\n",
       "</div>"
      ],
      "text/plain": [
       "       label                                               text\n",
       "0          0  Says the Annies List political group supports ...\n",
       "1          1  When did the decline of coal start? It started...\n",
       "2          2  Hillary Clinton agrees with John McCain \"by vo...\n",
       "3          0  Health care reform legislation is likely to ma...\n",
       "4          1  The economic turnaround started at the end of ...\n",
       "...      ...                                                ...\n",
       "10264      2  There are a larger number of shark attacks in ...\n",
       "10265      2  Democrats have now become the party of the [At...\n",
       "10266      1  Says an alternative to Social Security that op...\n",
       "10267      0  On lifting the U.S. Cuban embargo and allowing...\n",
       "10268      5  The Department of Veterans Affairs has a manua...\n",
       "\n",
       "[10269 rows x 2 columns]"
      ]
     },
     "execution_count": 5,
     "metadata": {},
     "output_type": "execute_result"
    }
   ],
   "source": [
    "data_dict['liar']['train']"
   ]
  },
  {
   "cell_type": "code",
   "execution_count": 6,
   "id": "a01cb878",
   "metadata": {},
   "outputs": [
    {
     "data": {
      "text/html": [
       "<div>\n",
       "<style scoped>\n",
       "    .dataframe tbody tr th:only-of-type {\n",
       "        vertical-align: middle;\n",
       "    }\n",
       "\n",
       "    .dataframe tbody tr th {\n",
       "        vertical-align: top;\n",
       "    }\n",
       "\n",
       "    .dataframe thead th {\n",
       "        text-align: right;\n",
       "    }\n",
       "</style>\n",
       "<table border=\"1\" class=\"dataframe\">\n",
       "  <thead>\n",
       "    <tr style=\"text-align: right;\">\n",
       "      <th></th>\n",
       "      <th>label</th>\n",
       "      <th>text</th>\n",
       "    </tr>\n",
       "  </thead>\n",
       "  <tbody>\n",
       "    <tr>\n",
       "      <th>0</th>\n",
       "      <td>0</td>\n",
       "      <td>Dang dog, thanks</td>\n",
       "    </tr>\n",
       "    <tr>\n",
       "      <th>1</th>\n",
       "      <td>0</td>\n",
       "      <td>to summon the powers of the flying spaghetti m...</td>\n",
       "    </tr>\n",
       "    <tr>\n",
       "      <th>2</th>\n",
       "      <td>0</td>\n",
       "      <td>i did that 3rd last 1 by accident last night</td>\n",
       "    </tr>\n",
       "    <tr>\n",
       "      <th>3</th>\n",
       "      <td>0</td>\n",
       "      <td>He's insane, used him in DC, better than Blake...</td>\n",
       "    </tr>\n",
       "    <tr>\n",
       "      <th>4</th>\n",
       "      <td>0</td>\n",
       "      <td>Forgot about him, he's a pretty pointless card...</td>\n",
       "    </tr>\n",
       "    <tr>\n",
       "      <th>...</th>\n",
       "      <td>...</td>\n",
       "      <td>...</td>\n",
       "    </tr>\n",
       "    <tr>\n",
       "      <th>1125673</th>\n",
       "      <td>1</td>\n",
       "      <td>So *that's* why I can point my finger and have...</td>\n",
       "    </tr>\n",
       "    <tr>\n",
       "      <th>1125674</th>\n",
       "      <td>1</td>\n",
       "      <td>If the IDF said it, it must be true.</td>\n",
       "    </tr>\n",
       "    <tr>\n",
       "      <th>1125675</th>\n",
       "      <td>1</td>\n",
       "      <td>That's why you have to read widely from Syria ...</td>\n",
       "    </tr>\n",
       "    <tr>\n",
       "      <th>1125676</th>\n",
       "      <td>1</td>\n",
       "      <td>Yeah, the Palestinian rocket actually left som...</td>\n",
       "    </tr>\n",
       "    <tr>\n",
       "      <th>1125677</th>\n",
       "      <td>1</td>\n",
       "      <td>Wait, are you saying people might not be telli...</td>\n",
       "    </tr>\n",
       "  </tbody>\n",
       "</table>\n",
       "<p>1125678 rows × 2 columns</p>\n",
       "</div>"
      ],
      "text/plain": [
       "         label                                               text\n",
       "0            0                                   Dang dog, thanks\n",
       "1            0  to summon the powers of the flying spaghetti m...\n",
       "2            0       i did that 3rd last 1 by accident last night\n",
       "3            0  He's insane, used him in DC, better than Blake...\n",
       "4            0  Forgot about him, he's a pretty pointless card...\n",
       "...        ...                                                ...\n",
       "1125673      1  So *that's* why I can point my finger and have...\n",
       "1125674      1               If the IDF said it, it must be true.\n",
       "1125675      1  That's why you have to read widely from Syria ...\n",
       "1125676      1  Yeah, the Palestinian rocket actually left som...\n",
       "1125677      1  Wait, are you saying people might not be telli...\n",
       "\n",
       "[1125678 rows x 2 columns]"
      ]
     },
     "execution_count": 6,
     "metadata": {},
     "output_type": "execute_result"
    }
   ],
   "source": [
    "data_dict['sarc']['train']"
   ]
  },
  {
   "cell_type": "markdown",
   "id": "04a76911",
   "metadata": {},
   "source": [
    "## 1. Fake News datasets"
   ]
  },
  {
   "cell_type": "code",
   "execution_count": null,
   "id": "de340857",
   "metadata": {},
   "outputs": [],
   "source": [
    "os.chdir('datasets/fake_news')"
   ]
  },
  {
   "cell_type": "code",
   "execution_count": null,
   "id": "50d9c1f9",
   "metadata": {},
   "outputs": [],
   "source": [
    "#Fake and Real News dataset\n",
    "#TO DO \n",
    "#   - keep the title or just the text content ?\n",
    "real_news = pd.read_csv('fake_and_real_news/True.csv',usecols = ['title','text'])\n",
    "fake_news = pd.read_csv('fake_and_real_news/Fake.csv',usecols = ['title','text'])\n",
    "\n",
    "real_news['label'] = np.full(shape=(real_news.shape[0],1),fill_value=1)\n",
    "fake_news['label'] = np.zeros(shape=(fake_news.shape[0],1))\n",
    "\n",
    "fake_real_news = pd.concat([real_news,fake_news])"
   ]
  },
  {
   "cell_type": "code",
   "execution_count": null,
   "id": "b954dd40",
   "metadata": {},
   "outputs": [],
   "source": [
    "fake_real_news.head() #Train Test Split needs to be done manually (guidelines in the paper?)"
   ]
  },
  {
   "cell_type": "code",
   "execution_count": null,
   "id": "84cd1625",
   "metadata": {},
   "outputs": [],
   "source": [
    "#FakeNewsNet\n",
    "# 2 datasets : PolitiFacts (small) and Gossipcop (large)\n",
    "# Politifacts\n",
    "\n",
    "def retrieve_text(path):\n",
    "    text = []\n",
    "    no_json_count = 0\n",
    "    for folder in tqdm(os.listdir(path)):\n",
    "        if os.path.exists(path+folder+\"/news content.json\"):\n",
    "            with open(path+folder+\"/news content.json\")  as f:\n",
    "                text.append(json.load(f)['text'])\n",
    "        else:\n",
    "            no_json_count +=1\n",
    "            text.append(' ')\n",
    "    print(\"No json file for %s folders\"%no_json_count)\n",
    "    return text\n",
    "\n",
    "\n",
    "real_path = \"FakeNewsNet/code/fakenewsnet_dataset/politifact/real/\"\n",
    "fake_path = \"FakeNewsNet/code/fakenewsnet_dataset/politifact/fake/\"\n",
    "real_text = retrieve_text(real_path)\n",
    "fake_text = retrieve_text(fake_path)\n",
    "print(' ')\n",
    "print('There are %s real texts'%len(real_text))\n",
    "print('There are %s fake texts'%len(fake_text))\n",
    "label = [1] * len(real_text) + [0] * len(fake_text) \n",
    "politifact = pd.DataFrame({'text':real_text+fake_text,'label':label})"
   ]
  },
  {
   "cell_type": "code",
   "execution_count": null,
   "id": "94b26692",
   "metadata": {},
   "outputs": [],
   "source": [
    "politifact.head()"
   ]
  },
  {
   "cell_type": "code",
   "execution_count": null,
   "id": "21f9fd32",
   "metadata": {},
   "outputs": [],
   "source": [
    "politifact['text'].value_counts()[0:2]\n",
    "#TO DO \n",
    "#Understand why there are 101 news folder without a json file at all\n",
    "#Understand why there are 143 files without text while the paper says its 108"
   ]
  },
  {
   "cell_type": "code",
   "execution_count": null,
   "id": "81ec1d11",
   "metadata": {},
   "outputs": [],
   "source": [
    "#LIAR\n",
    "liar_train = pd.read_csv('liar/train.csv',\n",
    "                         usecols=['label','statement']).rename(columns={'statement':'text'})\n",
    "liar_val = pd.read_csv('liar/val.csv',\n",
    "                         usecols=['label','statement']).rename(columns={'statement':'text'})\n",
    "liar_test = pd.read_csv('liar/test.csv',\n",
    "                         usecols=['label','statement']).rename(columns={'statement':'text'})"
   ]
  },
  {
   "cell_type": "code",
   "execution_count": null,
   "id": "b2f1c74c",
   "metadata": {},
   "outputs": [],
   "source": [
    "liar_train.head()"
   ]
  },
  {
   "cell_type": "markdown",
   "id": "dd04edb6",
   "metadata": {},
   "source": [
    "## 2. Topic Modelling datasets"
   ]
  },
  {
   "cell_type": "code",
   "execution_count": null,
   "id": "ec60cff3",
   "metadata": {},
   "outputs": [],
   "source": [
    "os.chdir('../topic')"
   ]
  },
  {
   "cell_type": "code",
   "execution_count": null,
   "id": "79267ea2",
   "metadata": {},
   "outputs": [],
   "source": [
    "#20Newsgroup  \n",
    "#https://scikit-learn.org/stable/datasets/real_world.html#newsgroups-dataset\n",
    "#Files are downloaded once on the computer, after that they are loaded much faster\n",
    "twentynews_train = fetch_20newsgroups(subset='train',\n",
    "                           remove=('headers', 'footers', 'quotes') #option to remove metadata \n",
    "                          )\n",
    "twentynews_test = fetch_20newsgroups(subset='test',\n",
    "                           remove=('headers', 'footers', 'quotes') #option to remove metadata  \n",
    "                          )    "
   ]
  },
  {
   "cell_type": "code",
   "execution_count": null,
   "id": "94938e21",
   "metadata": {},
   "outputs": [],
   "source": [
    "twentynews_train_df = pd.DataFrame({'label':twentynews_train['target'],\n",
    "                                     'text':twentynews_train['data']})\n",
    "twentynews_test_df = pd.DataFrame({'label':twentynews_test['target'],\n",
    "                                     'text':twentynews_test['data']})                                   "
   ]
  },
  {
   "cell_type": "code",
   "execution_count": null,
   "id": "fdd951e2",
   "metadata": {},
   "outputs": [],
   "source": [
    "twentynews_train_df.head()"
   ]
  },
  {
   "cell_type": "code",
   "execution_count": null,
   "id": "7b81ffb0",
   "metadata": {},
   "outputs": [],
   "source": [
    "#AG News\n",
    "agnews_train = pd.read_csv('ag_news/train.csv')\n",
    "agnews_test = pd.read_csv('ag_news/test.csv')"
   ]
  },
  {
   "cell_type": "code",
   "execution_count": null,
   "id": "39f87f22",
   "metadata": {},
   "outputs": [],
   "source": [
    "agnews_train.head()"
   ]
  },
  {
   "cell_type": "code",
   "execution_count": null,
   "id": "3382975b",
   "metadata": {},
   "outputs": [],
   "source": [
    "#Yahoo answers\n",
    "#Text consists of the question title, question content and best answer. which elements should we keep?\n",
    "#TO DO : merge the text\n",
    "col_dict = {0:'label',1:'title',2:'question',3:'answer'}\n",
    "yahoo_train = pd.read_csv('yahoo_answers/train.csv',\n",
    "                          header=None).rename(columns=col_dict)\n",
    "yahoo_test = pd.read_csv('yahoo_answers/test.csv',\n",
    "                          header=None).rename(columns=col_dict)"
   ]
  },
  {
   "cell_type": "code",
   "execution_count": null,
   "id": "b9187fc4",
   "metadata": {},
   "outputs": [],
   "source": [
    "yahoo_train.head()"
   ]
  },
  {
   "cell_type": "markdown",
   "id": "3554e451",
   "metadata": {},
   "source": [
    "## 3. Sentiments analysis datasets\n",
    "\n",
    "### 3.1. Emotion"
   ]
  },
  {
   "cell_type": "code",
   "execution_count": null,
   "id": "073d653e",
   "metadata": {},
   "outputs": [],
   "source": [
    "os.chdir('../sentiment/emotion')"
   ]
  },
  {
   "cell_type": "code",
   "execution_count": null,
   "id": "6cb440e8",
   "metadata": {},
   "outputs": [],
   "source": [
    "#Tweet Eval : Emotion dection\n",
    "#Labels and text  are in separate  text files\n",
    "eval_emotion_train = pd.DataFrame()\n",
    "eval_emotion_val = pd.DataFrame()\n",
    "eval_emotion_test = pd.DataFrame()\n",
    "eval_emotion_train['label'] = pd.read_table('tweetEval/datasets/train_labels.txt',header=None)\n",
    "eval_emotion_val['label'] = pd.read_table('tweetEval/datasets/val_labels.txt',header=None)\n",
    "eval_emotion_test['label'] = pd.read_table('tweetEval/datasets/test_labels.txt',header=None)\n",
    "eval_emotion_train['text']= pd.read_table('tweetEval/datasets/train_text.txt',header=None)\n",
    "eval_emotion_val['text']= pd.read_table('tweetEval/datasets/val_text.txt',header=None)\n",
    "eval_emotion_test['text'] = pd.read_table('tweetEval/datasets/test_text.txt',header=None)"
   ]
  },
  {
   "cell_type": "code",
   "execution_count": null,
   "id": "fe770d8f",
   "metadata": {},
   "outputs": [],
   "source": [
    "eval_emotion_train.head()"
   ]
  },
  {
   "cell_type": "code",
   "execution_count": null,
   "id": "fafb7ce0",
   "metadata": {},
   "outputs": [],
   "source": [
    "#CARER Emotion\n",
    "carer_train = pd.read_csv('CARER/train.csv')\n",
    "carer_val = pd.read_csv('CARER/val.csv')\n",
    "carer_test = pd.read_csv('CARER/test.csv')"
   ]
  },
  {
   "cell_type": "code",
   "execution_count": null,
   "id": "81f12d1e",
   "metadata": {},
   "outputs": [],
   "source": [
    "carer_train.head()"
   ]
  },
  {
   "cell_type": "code",
   "execution_count": null,
   "id": "17d101fc",
   "metadata": {},
   "outputs": [],
   "source": [
    "#silicone (Daily Dialog Act)\n",
    "silicone_train = pd.read_csv('silicone/train.csv',\n",
    "                             usecols=['Utterance','Label']).rename(columns={'Utterance':'text','Label':'label'})\n",
    "siliconer_val = pd.read_csv('silicone/val.csv',\n",
    "                             usecols=['Utterance','Label']).rename(columns={'Utterance':'text','Label':'label'})\n",
    "silicone_test = pd.read_csv('silicone/test.csv',\n",
    "                             usecols=['Utterance','Label']).rename(columns={'Utterance':'text','Label':'label'})"
   ]
  },
  {
   "cell_type": "code",
   "execution_count": null,
   "id": "734ef957",
   "metadata": {},
   "outputs": [],
   "source": [
    "silicone_train.head()"
   ]
  },
  {
   "cell_type": "code",
   "execution_count": null,
   "id": "a44fdbbc",
   "metadata": {},
   "outputs": [],
   "source": [
    "#IMDb \n",
    "imdb_train = pd.read_csv('IMDb/train.csv')\n",
    "imdb_test = pd.read_csv('IMDb/test.csv')"
   ]
  },
  {
   "cell_type": "code",
   "execution_count": null,
   "id": "2196d57f",
   "metadata": {},
   "outputs": [],
   "source": [
    "imdb_train.head()"
   ]
  },
  {
   "cell_type": "markdown",
   "id": "124dd457",
   "metadata": {},
   "source": [
    "### 3.2. Polarity"
   ]
  },
  {
   "cell_type": "code",
   "execution_count": null,
   "id": "6f41d3cf",
   "metadata": {},
   "outputs": [],
   "source": [
    "os.chdir('../polarity')"
   ]
  },
  {
   "cell_type": "code",
   "execution_count": null,
   "id": "6e65307a",
   "metadata": {},
   "outputs": [],
   "source": [
    "#YELP\n",
    "yelp_train = pd.read_csv('yelp/train.csv')\n",
    "yelp_test = pd.read_csv('yelp/test.csv')"
   ]
  },
  {
   "cell_type": "code",
   "execution_count": null,
   "id": "8d8030ee",
   "metadata": {},
   "outputs": [],
   "source": [
    "yelp_train.head()"
   ]
  },
  {
   "cell_type": "code",
   "execution_count": null,
   "id": "3aea5240",
   "metadata": {},
   "outputs": [],
   "source": [
    "#sst2 \n",
    "sst2_train = pd.read_csv('sst2/train.csv',usecols=['sentence','label']).rename(columns={'sentence':'text'})\n",
    "sst2_val = pd.read_csv('sst2/val.csv',usecols=['sentence','label']).rename(columns={'sentence':'text'})\n",
    "sst2_test = pd.read_csv('sst2/test.csv',usecols=['sentence','label']).rename(columns={'sentence':'text'})"
   ]
  },
  {
   "cell_type": "code",
   "execution_count": null,
   "id": "660562dc",
   "metadata": {},
   "outputs": [],
   "source": [
    "sst2_train.head()"
   ]
  },
  {
   "cell_type": "markdown",
   "id": "3ca011a7",
   "metadata": {},
   "source": [
    "###  3.3. Sarcasm"
   ]
  },
  {
   "cell_type": "code",
   "execution_count": null,
   "id": "dd4ba4a3",
   "metadata": {},
   "outputs": [],
   "source": [
    "os.chdir('../sarcasm')"
   ]
  },
  {
   "cell_type": "code",
   "execution_count": 11,
   "id": "9b2ee301",
   "metadata": {},
   "outputs": [
    {
     "name": "stderr",
     "output_type": "stream",
     "text": [
      "b'Skipping line 1296: expected 1 fields, saw 21\\nSkipping line 1754: expected 1 fields, saw 5\\nSkipping line 2774: expected 1 fields, saw 5\\n'\n"
     ]
    }
   ],
   "source": [
    "#Tweet Eval : Irony\n",
    "#Parser Error with the train text file, the parsers skips three lines as a result. Further investigation needed\n",
    "eval_irony_train = pd.DataFrame()\n",
    "eval_irony_test = pd.DataFrame()\n",
    "eval_irony_train['label'] = pd.read_table('tweetEval/train_labels.txt',header=None)\n",
    "eval_irony_test['label'] = pd.read_table('tweetEval/test_labels.txt',header=None)\n",
    "eval_irony_train['text']= pd.read_table('tweetEval/train_text.txt',header=None,error_bad_lines=False)\n",
    "eval_irony_test['text'] = pd.read_table('tweetEval/test_text.txt',header=None)"
   ]
  },
  {
   "cell_type": "code",
   "execution_count": null,
   "id": "b4bd1900",
   "metadata": {},
   "outputs": [],
   "source": [
    "eval_irony_train.head() "
   ]
  },
  {
   "cell_type": "code",
   "execution_count": 6,
   "id": "d93f0738",
   "metadata": {},
   "outputs": [],
   "source": [
    "#SemEval 2018\n",
    "#Task A Binary, Task B Multiclass (4)\n",
    "semeval_train_taskA = pd.read_table('SemEval/datasets/train/SemEval2018-T3-train-taskA.txt',\n",
    "                                    usecols=['Label','Tweet text']).rename(columns = {'Label':'label','Tweet text':'text'})\n",
    "semeval_train_taskB = pd.read_table('SemEval/datasets/train/SemEval2018-T3-train-taskB.txt',\n",
    "                                    usecols=['Label','Tweet text']).rename(columns = {'Label':'label','Tweet text':'text'})\n",
    "semeval_test_taskA = pd.DataFrame()\n",
    "semeval_test_taskB = pd.DataFrame()\n",
    "semeval_test_taskA['text'] = pd.read_table('SemEval/datasets/test_TaskA/SemEval2018-T3_input_test_taskA.txt',\n",
    "                                    usecols=['tweet text'])\n",
    "semeval_test_taskB['text'] = pd.read_table('SemEval/datasets/test_TaskB/SemEval2018-T3_input_test_taskB.txt',\n",
    "                                    usecols=['tweet text'])\n",
    "semeval_test_taskA['label'] = pd.read_table('SemEval/datasets/goldtest_TaskA/SemEval2018-T3_gold_test_taskA_emoji.txt',\n",
    "                                    usecols=['Label'])\n",
    "semeval_test_taskB['label'] = pd.read_table('SemEval/datasets/goldtest_TaskB/SemEval2018-T3_gold_test_taskB_emoji.txt',\n",
    "                                    usecols=['Label'])"
   ]
  },
  {
   "cell_type": "code",
   "execution_count": 7,
   "id": "0a596b80",
   "metadata": {},
   "outputs": [
    {
     "data": {
      "text/html": [
       "<div>\n",
       "<style scoped>\n",
       "    .dataframe tbody tr th:only-of-type {\n",
       "        vertical-align: middle;\n",
       "    }\n",
       "\n",
       "    .dataframe tbody tr th {\n",
       "        vertical-align: top;\n",
       "    }\n",
       "\n",
       "    .dataframe thead th {\n",
       "        text-align: right;\n",
       "    }\n",
       "</style>\n",
       "<table border=\"1\" class=\"dataframe\">\n",
       "  <thead>\n",
       "    <tr style=\"text-align: right;\">\n",
       "      <th></th>\n",
       "      <th>label</th>\n",
       "      <th>text</th>\n",
       "    </tr>\n",
       "  </thead>\n",
       "  <tbody>\n",
       "    <tr>\n",
       "      <th>0</th>\n",
       "      <td>1</td>\n",
       "      <td>Sweet United Nations video. Just in time for C...</td>\n",
       "    </tr>\n",
       "    <tr>\n",
       "      <th>1</th>\n",
       "      <td>1</td>\n",
       "      <td>@mrdahl87 We are rumored to have talked to Erv...</td>\n",
       "    </tr>\n",
       "    <tr>\n",
       "      <th>2</th>\n",
       "      <td>1</td>\n",
       "      <td>Hey there! Nice to see you Minnesota/ND Winter...</td>\n",
       "    </tr>\n",
       "    <tr>\n",
       "      <th>3</th>\n",
       "      <td>0</td>\n",
       "      <td>3 episodes left I'm dying over here</td>\n",
       "    </tr>\n",
       "    <tr>\n",
       "      <th>4</th>\n",
       "      <td>1</td>\n",
       "      <td>I can't breathe! was chosen as the most notabl...</td>\n",
       "    </tr>\n",
       "  </tbody>\n",
       "</table>\n",
       "</div>"
      ],
      "text/plain": [
       "   label                                               text\n",
       "0      1  Sweet United Nations video. Just in time for C...\n",
       "1      1  @mrdahl87 We are rumored to have talked to Erv...\n",
       "2      1  Hey there! Nice to see you Minnesota/ND Winter...\n",
       "3      0                3 episodes left I'm dying over here\n",
       "4      1  I can't breathe! was chosen as the most notabl..."
      ]
     },
     "execution_count": 7,
     "metadata": {},
     "output_type": "execute_result"
    }
   ],
   "source": [
    "semeval_train_taskA.head()"
   ]
  },
  {
   "cell_type": "code",
   "execution_count": 8,
   "id": "2546b8d7",
   "metadata": {},
   "outputs": [
    {
     "data": {
      "text/html": [
       "<div>\n",
       "<style scoped>\n",
       "    .dataframe tbody tr th:only-of-type {\n",
       "        vertical-align: middle;\n",
       "    }\n",
       "\n",
       "    .dataframe tbody tr th {\n",
       "        vertical-align: top;\n",
       "    }\n",
       "\n",
       "    .dataframe thead th {\n",
       "        text-align: right;\n",
       "    }\n",
       "</style>\n",
       "<table border=\"1\" class=\"dataframe\">\n",
       "  <thead>\n",
       "    <tr style=\"text-align: right;\">\n",
       "      <th></th>\n",
       "      <th>label</th>\n",
       "      <th>text</th>\n",
       "    </tr>\n",
       "  </thead>\n",
       "  <tbody>\n",
       "    <tr>\n",
       "      <th>0</th>\n",
       "      <td>1</td>\n",
       "      <td>Sweet United Nations video. Just in time for C...</td>\n",
       "    </tr>\n",
       "    <tr>\n",
       "      <th>1</th>\n",
       "      <td>1</td>\n",
       "      <td>@mrdahl87 We are rumored to have talked to Erv...</td>\n",
       "    </tr>\n",
       "    <tr>\n",
       "      <th>2</th>\n",
       "      <td>1</td>\n",
       "      <td>Hey there! Nice to see you Minnesota/ND Winter...</td>\n",
       "    </tr>\n",
       "    <tr>\n",
       "      <th>3</th>\n",
       "      <td>0</td>\n",
       "      <td>3 episodes left I'm dying over here</td>\n",
       "    </tr>\n",
       "    <tr>\n",
       "      <th>4</th>\n",
       "      <td>2</td>\n",
       "      <td>I can't breathe! was chosen as the most notabl...</td>\n",
       "    </tr>\n",
       "  </tbody>\n",
       "</table>\n",
       "</div>"
      ],
      "text/plain": [
       "   label                                               text\n",
       "0      1  Sweet United Nations video. Just in time for C...\n",
       "1      1  @mrdahl87 We are rumored to have talked to Erv...\n",
       "2      1  Hey there! Nice to see you Minnesota/ND Winter...\n",
       "3      0                3 episodes left I'm dying over here\n",
       "4      2  I can't breathe! was chosen as the most notabl..."
      ]
     },
     "execution_count": 8,
     "metadata": {},
     "output_type": "execute_result"
    }
   ],
   "source": [
    "semeval_train_taskB.head()"
   ]
  },
  {
   "cell_type": "code",
   "execution_count": 4,
   "id": "ec08ce92",
   "metadata": {},
   "outputs": [],
   "source": [
    "#SARC V1.0\n",
    "#balanced version. There is also a much larger unbalanced version (several GBy)\n",
    "sarc_train = pd.read_csv('SARC/train-balanced.csv',\n",
    "                    sep='\\t',\n",
    "                    header=None,\n",
    "                    usecols=[0,1]).rename(columns={0:'label',1:'text'})\n",
    "sarc_test = pd.read_csv('SARC/test-balanced.csv',\n",
    "                    sep='\\t',\n",
    "                    header=None,\n",
    "                    usecols=[0,1]).rename(columns={0:'label',1:'text'})"
   ]
  },
  {
   "cell_type": "code",
   "execution_count": 5,
   "id": "39951864",
   "metadata": {},
   "outputs": [
    {
     "data": {
      "text/html": [
       "<div>\n",
       "<style scoped>\n",
       "    .dataframe tbody tr th:only-of-type {\n",
       "        vertical-align: middle;\n",
       "    }\n",
       "\n",
       "    .dataframe tbody tr th {\n",
       "        vertical-align: top;\n",
       "    }\n",
       "\n",
       "    .dataframe thead th {\n",
       "        text-align: right;\n",
       "    }\n",
       "</style>\n",
       "<table border=\"1\" class=\"dataframe\">\n",
       "  <thead>\n",
       "    <tr style=\"text-align: right;\">\n",
       "      <th></th>\n",
       "      <th>label</th>\n",
       "      <th>text</th>\n",
       "    </tr>\n",
       "  </thead>\n",
       "  <tbody>\n",
       "    <tr>\n",
       "      <th>0</th>\n",
       "      <td>0</td>\n",
       "      <td>Dang dog, thanks</td>\n",
       "    </tr>\n",
       "    <tr>\n",
       "      <th>1</th>\n",
       "      <td>0</td>\n",
       "      <td>to summon the powers of the flying spaghetti m...</td>\n",
       "    </tr>\n",
       "    <tr>\n",
       "      <th>2</th>\n",
       "      <td>0</td>\n",
       "      <td>i did that 3rd last 1 by accident last night</td>\n",
       "    </tr>\n",
       "    <tr>\n",
       "      <th>3</th>\n",
       "      <td>0</td>\n",
       "      <td>He's insane, used him in DC, better than Blake...</td>\n",
       "    </tr>\n",
       "    <tr>\n",
       "      <th>4</th>\n",
       "      <td>0</td>\n",
       "      <td>Forgot about him, he's a pretty pointless card...</td>\n",
       "    </tr>\n",
       "  </tbody>\n",
       "</table>\n",
       "</div>"
      ],
      "text/plain": [
       "   label                                               text\n",
       "0      0                                   Dang dog, thanks\n",
       "1      0  to summon the powers of the flying spaghetti m...\n",
       "2      0       i did that 3rd last 1 by accident last night\n",
       "3      0  He's insane, used him in DC, better than Blake...\n",
       "4      0  Forgot about him, he's a pretty pointless card..."
      ]
     },
     "execution_count": 5,
     "metadata": {},
     "output_type": "execute_result"
    }
   ],
   "source": [
    "sarc_train.head()"
   ]
  },
  {
   "cell_type": "code",
   "execution_count": null,
   "id": "c0769810",
   "metadata": {},
   "outputs": [],
   "source": []
  }
 ],
 "metadata": {
  "kernelspec": {
   "display_name": "Python 3 (ipykernel)",
   "language": "python",
   "name": "python3"
  },
  "language_info": {
   "codemirror_mode": {
    "name": "ipython",
    "version": 3
   },
   "file_extension": ".py",
   "mimetype": "text/x-python",
   "name": "python",
   "nbconvert_exporter": "python",
   "pygments_lexer": "ipython3",
   "version": "3.7.13"
  }
 },
 "nbformat": 4,
 "nbformat_minor": 5
}
