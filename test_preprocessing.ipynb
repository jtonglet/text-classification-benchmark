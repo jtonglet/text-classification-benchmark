{
 "cells": [
  {
   "cell_type": "code",
   "execution_count": 85,
   "id": "95d95480",
   "metadata": {
    "scrolled": true
   },
   "outputs": [
    {
     "name": "stderr",
     "output_type": "stream",
     "text": [
      "[nltk_data] Downloading package stopwords to\n",
      "[nltk_data]     C:\\Users\\Saiga\\AppData\\Roaming\\nltk_data...\n",
      "[nltk_data]   Package stopwords is already up-to-date!\n",
      "[nltk_data] Downloading package omw-1.4 to\n",
      "[nltk_data]     C:\\Users\\Saiga\\AppData\\Roaming\\nltk_data...\n",
      "[nltk_data]   Package omw-1.4 is already up-to-date!\n"
     ]
    }
   ],
   "source": [
    "import pandas as pd\n",
    "import numpy as np\n",
    "from nltk.tokenize import word_tokenize, TweetTokenizer\n",
    "from nltk.corpus import stopwords\n",
    "from nltk.stem import WordNetLemmatizer\n",
    "from nltk import download\n",
    "download('stopwords')\n",
    "download('omw-1.4')\n",
    "import seaborn as sns\n",
    "import matplotlib.pyplot as plt\n",
    "import re"
   ]
  },
  {
   "cell_type": "code",
   "execution_count": 68,
   "id": "e87923c1",
   "metadata": {},
   "outputs": [],
   "source": [
    "sw = stopwords.words('english')\n",
    "lemmatizer = WordNetLemmatizer()"
   ]
  },
  {
   "cell_type": "code",
   "execution_count": 9,
   "id": "3602214a",
   "metadata": {},
   "outputs": [],
   "source": [
    "sarc = pd.read_csv('datasets/sentiment/sarcasm/SARC/test-balanced.csv',\n",
    "                    sep='\\t',\n",
    "                    header=None,\n",
    "                    usecols=[0,1]).rename(columns={0:'label',1:'text'})"
   ]
  },
  {
   "cell_type": "code",
   "execution_count": 49,
   "id": "bd6f9047",
   "metadata": {},
   "outputs": [
    {
     "data": {
      "text/html": [
       "<div>\n",
       "<style scoped>\n",
       "    .dataframe tbody tr th:only-of-type {\n",
       "        vertical-align: middle;\n",
       "    }\n",
       "\n",
       "    .dataframe tbody tr th {\n",
       "        vertical-align: top;\n",
       "    }\n",
       "\n",
       "    .dataframe thead th {\n",
       "        text-align: right;\n",
       "    }\n",
       "</style>\n",
       "<table border=\"1\" class=\"dataframe\">\n",
       "  <thead>\n",
       "    <tr style=\"text-align: right;\">\n",
       "      <th></th>\n",
       "      <th>label</th>\n",
       "      <th>text</th>\n",
       "    </tr>\n",
       "  </thead>\n",
       "  <tbody>\n",
       "    <tr>\n",
       "      <th>0</th>\n",
       "      <td>0</td>\n",
       "      <td>Your mom</td>\n",
       "    </tr>\n",
       "    <tr>\n",
       "      <th>1</th>\n",
       "      <td>0</td>\n",
       "      <td>I'm curious, how much for the White Photons?</td>\n",
       "    </tr>\n",
       "    <tr>\n",
       "      <th>2</th>\n",
       "      <td>0</td>\n",
       "      <td>Khloe Kardashian effect</td>\n",
       "    </tr>\n",
       "    <tr>\n",
       "      <th>3</th>\n",
       "      <td>0</td>\n",
       "      <td>Knowledge is power!</td>\n",
       "    </tr>\n",
       "    <tr>\n",
       "      <th>4</th>\n",
       "      <td>0</td>\n",
       "      <td>Get the Prussians (Germans) to pay for a statu...</td>\n",
       "    </tr>\n",
       "  </tbody>\n",
       "</table>\n",
       "</div>"
      ],
      "text/plain": [
       "   label                                               text\n",
       "0      0                                           Your mom\n",
       "1      0       I'm curious, how much for the White Photons?\n",
       "2      0                            Khloe Kardashian effect\n",
       "3      0                                Knowledge is power!\n",
       "4      0  Get the Prussians (Germans) to pay for a statu..."
      ]
     },
     "execution_count": 49,
     "metadata": {},
     "output_type": "execute_result"
    }
   ],
   "source": [
    "sarc.head()"
   ]
  },
  {
   "cell_type": "code",
   "execution_count": 79,
   "id": "1d787b02",
   "metadata": {},
   "outputs": [],
   "source": [
    "#Tweet Eval : Emotion dection\n",
    "#Labels and text  are in separate  text files\n",
    "eval_emotion_train = pd.DataFrame()\n",
    "eval_emotion_train['text']= pd.read_table('datasets/sentiment/emotion/tweetEval/datasets/train_text.txt',header=None)"
   ]
  },
  {
   "cell_type": "code",
   "execution_count": 142,
   "id": "bb315417",
   "metadata": {},
   "outputs": [
    {
     "data": {
      "text/plain": [
       "\"@user 'shit' doesn't even begin to describe these fiery little demons straight from hell  ;) \""
      ]
     },
     "execution_count": 142,
     "metadata": {},
     "output_type": "execute_result"
    }
   ],
   "source": [
    "remove_emojis(eval_emotion_train.loc[32,'text'])"
   ]
  },
  {
   "cell_type": "code",
   "execution_count": 110,
   "id": "b634da0d",
   "metadata": {},
   "outputs": [
    {
     "data": {
      "text/plain": [
       "['shit',\n",
       " 'doesnt',\n",
       " 'even',\n",
       " 'begin',\n",
       " 'describe',\n",
       " 'fiery',\n",
       " 'little',\n",
       " 'demon',\n",
       " 'straight',\n",
       " 'hell',\n",
       " '🌝',\n",
       " '🌚']"
      ]
     },
     "execution_count": 110,
     "metadata": {},
     "output_type": "execute_result"
    }
   ],
   "source": [
    "corpus[32]"
   ]
  },
  {
   "cell_type": "code",
   "execution_count": 130,
   "id": "2af6f003",
   "metadata": {},
   "outputs": [
    {
     "data": {
      "text/plain": [
       "'jaa turlijk jij mag daa doen'"
      ]
     },
     "execution_count": 130,
     "metadata": {},
     "output_type": "execute_result"
    }
   ],
   "source": [
    "re.compile(r'(.)\\1{2,}', re.IGNORECASE).sub(r'\\1', \"jaa tuuurlijk jij mag daa doen\")"
   ]
  },
  {
   "cell_type": "markdown",
   "id": "e3e3b9c9",
   "metadata": {},
   "source": [
    "## Draft : text preprocessing\n"
   ]
  },
  {
   "cell_type": "code",
   "execution_count": 147,
   "id": "7aa56336",
   "metadata": {},
   "outputs": [],
   "source": [
    "#Preprocessing functions\n",
    "#Use a tweet tokenizer for the datasets containing tweets\n",
    "\n",
    "def remove_punctuation(text,is_tweet=False):\n",
    "    #Remove all punctuation\n",
    "    if is_tweet:\n",
    "        punctuation = \"!\\\"$%&'()*+,-?—.../:;<=>[\\]^_`{|}~“”‘’•°\"\n",
    "        text = ''.join(char for char in text if char not in punctuation)\n",
    "    else :    \n",
    "        punctuation = \"!\\\"$%&'()*+,-?.../:;<=>[\\]^_`{|}~“”‘’•°#@\"  \n",
    "        text = ''.join(char for char in text if char not in punctuation)\n",
    "    return text\n",
    "\n",
    "def remove_repeated_letters(text):\n",
    "    #If the same letters appears consecutively 3 times or more, reduce it to 1 occurence\n",
    "    text = re.compile(r'(.)\\1{2,}', re.IGNORECASE).sub(r'\\1',text)\n",
    "    return text\n",
    "\n",
    "def remove_emojis(text):\n",
    "    #Remove all emojis \n",
    "    text = re.compile(pattern = \"[\"\n",
    "        u\"\\U0001F600-\\U0001F64F\"  # emoticons\n",
    "        u\"\\U0001F300-\\U0001F5FF\"  # symbols & pictographs\n",
    "        u\"\\U0001F680-\\U0001F6FF\"  # transport & map symbols\n",
    "        u\"\\U0001F1E0-\\U0001F1FF\"  # flags (iOS)\n",
    "                           \"]+\", flags = re.UNICODE).sub(r'',text)          \n",
    "    return text\n",
    "            \n",
    "def remove_digits(text):\n",
    "    #Remove all numbers \n",
    "    text = [word for word in text if not word.isdigit()]\n",
    "    return text\n",
    "\n",
    "def remove_stopwords(text,stopwords):\n",
    "    #Remove stopwords\n",
    "    text = [word for word in text if word not in stopwords]\n",
    "    return text\n",
    "\n",
    "\n",
    "def remove_urls(text):\n",
    "    #Remove urls \n",
    "    text = [word for word in text if 'http' not in word]\n",
    "    return text\n",
    "\n",
    "def lemmatize(text,lem):\n",
    "    #Lemmatize text \n",
    "    text = [lem.lemmatize(word) for word in text]\n",
    "    return text \n",
    "\n",
    "def remove_hashtags_mentions(text):\n",
    "    #Remove hashtags and mentions (for tweets)\n",
    "    text = [word for word in text if word[0] not in [\"#\",\"@\"]]\n",
    "    return text"
   ]
  },
  {
   "cell_type": "code",
   "execution_count": 148,
   "id": "5eef3492",
   "metadata": {},
   "outputs": [
    {
     "name": "stdout",
     "output_type": "stream",
     "text": [
      "Wall time: 23.9 ms\n"
     ]
    }
   ],
   "source": [
    "%%time\n",
    "tt = TweetTokenizer()\n",
    "corpus = eval_emotion_train['text'].fillna('').str.lower().to_list()[0:50]\n",
    "corpus = [remove_punctuation(text,True) for text in corpus]\n",
    "corpus = [remove_repeated_letters(text) for text in corpus]\n",
    "corpus = [remove_emojis(text) for text in corpus]\n",
    "#corpus = [word_tokenize(text) for text in corpus]\n",
    "corpus = [tt.tokenize(text) for text in corpus]\n",
    "corpus = [remove_digits(text) for text in corpus]\n",
    "corpus = [remove_hashtags_mentions(text) for text in corpus]\n",
    "corpus = [remove_stopwords(text,sw) for text in corpus]\n",
    "corpus = [remove_urls(text) for text in corpus]\n",
    "corpus = [lemmatize(text,lemmatizer) for text in corpus]"
   ]
  }
 ],
 "metadata": {
  "kernelspec": {
   "display_name": "Python 3 (ipykernel)",
   "language": "python",
   "name": "python3"
  },
  "language_info": {
   "codemirror_mode": {
    "name": "ipython",
    "version": 3
   },
   "file_extension": ".py",
   "mimetype": "text/x-python",
   "name": "python",
   "nbconvert_exporter": "python",
   "pygments_lexer": "ipython3",
   "version": "3.7.13"
  }
 },
 "nbformat": 4,
 "nbformat_minor": 5
}
